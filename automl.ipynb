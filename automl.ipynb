{
 "cells": [
  {
   "cell_type": "markdown",
   "metadata": {},
   "source": [
    "# Automated ML\n",
    "\n",
    "TODO: Import Dependencies. In the cell below, import all the dependencies that you will need to complete the project."
   ]
  },
  {
   "cell_type": "code",
   "execution_count": 9,
   "metadata": {
    "gather": {
     "logged": 1598423888013
    },
    "jupyter": {
     "outputs_hidden": false,
     "source_hidden": false
    },
    "nteract": {
     "transient": {
      "deleting": false
     }
    }
   },
   "outputs": [],
   "source": [
    "from azureml.core.experiment import Experiment\n",
    "from azureml.core.workspace import Workspace\n",
    "\n",
    "from azureml.core.dataset import Dataset\n",
    "from sklearn.model_selection import train_test_split\n",
    "\n",
    "from azureml.core.compute import ComputeTarget, AmlCompute\n",
    "from azureml.exceptions import ComputeTargetException"
   ]
  },
  {
   "cell_type": "code",
   "execution_count": 12,
   "metadata": {},
   "outputs": [],
   "source": [
    "from azureml.train.automl import AutoMLConfig"
   ]
  },
  {
   "cell_type": "code",
   "execution_count": 21,
   "metadata": {},
   "outputs": [],
   "source": [
    "from azureml.core import Model"
   ]
  },
  {
   "cell_type": "code",
   "execution_count": 29,
   "metadata": {},
   "outputs": [],
   "source": [
    "from azureml.automl.core.shared import constants\n",
    "from azureml.core.model import InferenceConfig\n",
    "from azureml.core.environment import Environment\n",
    "from azureml.core.webservice import Webservice, AciWebservice"
   ]
  },
  {
   "cell_type": "code",
   "execution_count": 30,
   "metadata": {},
   "outputs": [],
   "source": [
    "import joblib"
   ]
  },
  {
   "cell_type": "markdown",
   "metadata": {},
   "source": [
    "## Dataset\n",
    "\n",
    "### Overview\n",
    "TODO: In this markdown cell, give an overview of the dataset you are using. Also mention the task you will be performing.\n",
    "```\n",
    "In this prooject I am using heart failure clinical records dataset from UCI machine learning repository which follow ups death events based on 12 clinical features.\n",
    "```\n",
    "TODO: Get data. In the cell below, write code to access the data you will be using in this project. Remember that the dataset needs to be external.\n",
    "\n",
    "`UCI ML Repository for this dataset is` - [link](https://archive.ics.uci.edu/ml/machine-learning-databases/00519/heart_failure_clinical_records_dataset.csv)"
   ]
  },
  {
   "cell_type": "code",
   "execution_count": 3,
   "metadata": {
    "gather": {
     "logged": 1598423890461
    },
    "jupyter": {
     "outputs_hidden": false,
     "source_hidden": false
    },
    "nteract": {
     "transient": {
      "deleting": false
     }
    }
   },
   "outputs": [
    {
     "name": "stdout",
     "output_type": "stream",
     "text": [
      "Performing interactive authentication. Please follow the instructions on the terminal.\n"
     ]
    },
    {
     "name": "stderr",
     "output_type": "stream",
     "text": [
      "WARNING - Note, we have launched a browser for you to login. For old experience with device code, use \"az login --use-device-code\"\n"
     ]
    },
    {
     "name": "stdout",
     "output_type": "stream",
     "text": [
      "You have logged in. Now let us find all the subscriptions to which you have access...\n",
      "Interactive authentication successfully completed.\n"
     ]
    }
   ],
   "source": [
    "ws = Workspace.from_config()\n",
    "\n",
    "# choose a name for experiment\n",
    "experiment_name = 'udacity-azure-capstone-project'\n",
    "\n",
    "experiment=Experiment(ws, experiment_name)"
   ]
  },
  {
   "cell_type": "code",
   "execution_count": 4,
   "metadata": {},
   "outputs": [
    {
     "name": "stdout",
     "output_type": "stream",
     "text": [
      "Workspace name: quick-starts-ws-143110\n",
      "Azure region: southcentralus\n",
      "Subscription id: 6b4af8be-9931-443e-90f6-c4c34a1f9737\n",
      "Resource group: aml-quickstarts-143110\n",
      "Workspace.create(name='quick-starts-ws-143110', subscription_id='6b4af8be-9931-443e-90f6-c4c34a1f9737', resource_group='aml-quickstarts-143110')\n"
     ]
    }
   ],
   "source": [
    "print('Workspace name: ' + ws.name, \n",
    "      'Azure region: ' + ws.location, \n",
    "      'Subscription id: ' + ws.subscription_id, \n",
    "      'Resource group: ' + ws.resource_group, sep = '\\n')\n",
    "\n",
    "run = experiment.start_logging()\n",
    "print(ws)"
   ]
  },
  {
   "cell_type": "code",
   "execution_count": 8,
   "metadata": {},
   "outputs": [
    {
     "name": "stdout",
     "output_type": "stream",
     "text": [
      "Succeeded\n",
      "AmlCompute wait for completion finished\n",
      "\n",
      "Minimum number of nodes requested have been provisioned\n"
     ]
    }
   ],
   "source": [
    "compute_cluster_name = \"Saturn-AI\"\n",
    "\n",
    "try:\n",
    "    compute_cluster = ComputeTarget(workspace=ws, name=compute_cluster_name)\n",
    "except ComputeTargetException:\n",
    "    compute_cluster_config = AmlCompute.provisioning_configuration(vm_size=\"STANDARD_D2_V2\", max_nodes=4)\n",
    "    compute_cluster = ComputeTarget.create(ws, compute_cluster_name, compute_cluster_config)\n",
    "\n",
    "compute_cluster.wait_for_completion(show_output=True)"
   ]
  },
  {
   "cell_type": "code",
   "execution_count": 7,
   "metadata": {},
   "outputs": [],
   "source": [
    "DATASET_URI = 'https://archive.ics.uci.edu/ml/machine-learning-databases/00519/heart_failure_clinical_records_dataset.csv'"
   ]
  },
  {
   "cell_type": "code",
   "execution_count": 11,
   "metadata": {},
   "outputs": [
    {
     "name": "stdout",
     "output_type": "stream",
     "text": [
      "Dataset exists in the datastore.\n",
      "Dataframe shape: (299, 13)\n",
      "Train count:  200\n",
      "Test count:  99\n",
      "Uploading an estimated of 1 files\n",
      "Target already exists. Skipping upload for train.csv\n",
      "Uploaded 0 files\n",
      "Uploading an estimated of 1 files\n",
      "Target already exists. Skipping upload for test.csv\n",
      "Uploaded 0 files\n"
     ]
    }
   ],
   "source": [
    "key = 'Heart Failure Clinical Records'\n",
    "\n",
    "if key in ws.datasets.keys():\n",
    "    dataset = ws.datasets[key]\n",
    "    print(\"Dataset exists in the datastore.\")\n",
    "\n",
    "else:\n",
    "    dataset = Dataset.Tabular.from_delimited_files(DATASET_URI)\n",
    "    dataset = dataset.register(ws,key)\n",
    "\n",
    "df = dataset.to_pandas_dataframe()\n",
    "print(f'Dataframe shape:', df.shape)\n",
    "\n",
    "train, test = train_test_split(df, test_size=.33, shuffle=True)\n",
    "print(f'Train count: ', len(train))\n",
    "print(f'Test count: ', len(test))\n",
    "train.to_csv('train.csv',index = False)\n",
    "test.to_csv('test.csv',index = False)\n",
    "\n",
    "datastore = ws.get_default_datastore()\n",
    "datastore.upload_files(files = ['./train.csv'])\n",
    "datastore.upload_files(files = ['./test.csv'])\n",
    "\n",
    "train = Dataset.Tabular.from_delimited_files([(datastore,'train.csv')])\n",
    "test = Dataset.Tabular.from_delimited_files([(datastore,'test.csv')])"
   ]
  },
  {
   "cell_type": "markdown",
   "metadata": {},
   "source": [
    "## AutoML Configuration\n",
    "\n",
    "TODO: Explain why you chose the automl settings and cofiguration you used below."
   ]
  },
  {
   "cell_type": "code",
   "execution_count": 14,
   "metadata": {
    "gather": {
     "logged": 1598429217746
    },
    "jupyter": {
     "outputs_hidden": false,
     "source_hidden": false
    },
    "nteract": {
     "transient": {
      "deleting": false
     }
    }
   },
   "outputs": [],
   "source": [
    "# TODO: Put your automl settings here\n",
    "automl_settings = {} ## Defined in altogether with config\n",
    "\n",
    "# TODO: Put your automl config here\n",
    "automl_config = AutoMLConfig(\n",
    "    compute_target=compute_cluster,\n",
    "    task=\"classification\",\n",
    "    training_data=train,\n",
    "    label_column_name=\"DEATH_EVENT\",\n",
    "    primary_metric=\"accuracy\",\n",
    "    n_cross_validations=5,\n",
    "    experiment_timeout_minutes=30,\n",
    "    enable_early_stopping=True,\n",
    "    max_concurrent_iterations=4)"
   ]
  },
  {
   "cell_type": "code",
   "execution_count": 15,
   "metadata": {
    "gather": {
     "logged": 1598431107951
    },
    "jupyter": {
     "outputs_hidden": false,
     "source_hidden": false
    },
    "nteract": {
     "transient": {
      "deleting": false
     }
    }
   },
   "outputs": [
    {
     "name": "stdout",
     "output_type": "stream",
     "text": [
      "Submitting remote run.\n",
      "No run_configuration provided, running on Saturn-AI with default configuration\n",
      "Running on remote compute: Saturn-AI\n"
     ]
    },
    {
     "data": {
      "text/html": [
       "<table style=\"width:100%\"><tr><th>Experiment</th><th>Id</th><th>Type</th><th>Status</th><th>Details Page</th><th>Docs Page</th></tr><tr><td>udacity-azure-capstone-project</td><td>AutoML_7dfd39c3-7a02-4dea-bd45-57388d5a593f</td><td>automl</td><td>NotStarted</td><td><a href=\"https://ml.azure.com/runs/AutoML_7dfd39c3-7a02-4dea-bd45-57388d5a593f?wsid=/subscriptions/6b4af8be-9931-443e-90f6-c4c34a1f9737/resourcegroups/aml-quickstarts-143110/workspaces/quick-starts-ws-143110&amp;tid=660b3398-b80e-49d2-bc5b-ac1dc93b5254\" target=\"_blank\" rel=\"noopener\">Link to Azure Machine Learning studio</a></td><td><a href=\"https://docs.microsoft.com/en-us/python/api/overview/azure/ml/intro?view=azure-ml-py\" target=\"_blank\" rel=\"noopener\">Link to Documentation</a></td></tr></table>"
      ],
      "text/plain": [
       "<IPython.core.display.HTML object>"
      ]
     },
     "metadata": {},
     "output_type": "display_data"
    },
    {
     "name": "stdout",
     "output_type": "stream",
     "text": [
      "\n",
      "Current status: FeaturesGeneration. Generating features for the dataset.\n",
      "Current status: ModelSelection. Beginning model selection.\n",
      "\n",
      "****************************************************************************************************\n",
      "DATA GUARDRAILS: \n",
      "\n",
      "TYPE:         Class balancing detection\n",
      "STATUS:       PASSED\n",
      "DESCRIPTION:  Your inputs were analyzed, and all classes are balanced in your training data.\n",
      "              Learn more about imbalanced data: https://aka.ms/AutomatedMLImbalancedData\n",
      "\n",
      "****************************************************************************************************\n",
      "\n",
      "TYPE:         Missing feature values imputation\n",
      "STATUS:       PASSED\n",
      "DESCRIPTION:  No feature missing values were detected in the training data.\n",
      "              Learn more about missing value imputation: https://aka.ms/AutomatedMLFeaturization\n",
      "\n",
      "****************************************************************************************************\n",
      "\n",
      "TYPE:         High cardinality feature detection\n",
      "STATUS:       PASSED\n",
      "DESCRIPTION:  Your inputs were analyzed, and no high cardinality features were detected.\n",
      "              Learn more about high cardinality feature handling: https://aka.ms/AutomatedMLFeaturization\n",
      "\n",
      "****************************************************************************************************\n",
      "\n",
      "****************************************************************************************************\n",
      "ITERATION: The iteration being evaluated.\n",
      "PIPELINE: A summary description of the pipeline being evaluated.\n",
      "DURATION: Time taken for the current iteration.\n",
      "METRIC: The result of computing score on the fitted pipeline.\n",
      "BEST: The best observed score thus far.\n",
      "****************************************************************************************************\n",
      "\n",
      " ITERATION   PIPELINE                                       DURATION      METRIC      BEST\n",
      "         2   MinMaxScaler RandomForest                      0:01:00       0.8600    0.8600\n",
      "         1   MaxAbsScaler XGBoostClassifier                 0:00:44       0.8500    0.8600\n",
      "         3   MinMaxScaler RandomForest                      0:00:37       0.8400    0.8600\n",
      "         6   MinMaxScaler SVM                               0:00:43       0.7550    0.8600\n",
      "         7   MaxAbsScaler GradientBoosting                  0:00:53       0.8650    0.8650\n",
      "         4   MinMaxScaler RandomForest                      0:02:57       0.8450    0.8650\n",
      "         8   StandardScalerWrapper RandomForest             0:00:49       0.8500    0.8650\n",
      "         9   SparseNormalizer LightGBM                      0:00:40       0.7700    0.8650\n",
      "        10   SparseNormalizer XGBoostClassifier             0:00:48       0.8500    0.8650\n",
      "        11   RobustScaler ExtremeRandomTrees                0:00:46       0.8600    0.8650\n",
      "         0   MaxAbsScaler LightGBM                          0:05:14       0.8450    0.8650\n",
      "         5   SparseNormalizer XGBoostClassifier             0:05:19       0.8500    0.8650\n",
      "        12   StandardScalerWrapper LightGBM                 0:00:41       0.8450    0.8650\n",
      "        13   RobustScaler ExtremeRandomTrees                0:00:46       0.8600    0.8650\n",
      "        14   RobustScaler RandomForest                      0:00:41       0.8600    0.8650\n",
      "        15   StandardScalerWrapper ExtremeRandomTrees       0:00:49       0.8550    0.8650\n",
      "        16   StandardScalerWrapper RandomForest             0:00:48       0.8450    0.8650\n",
      "        17   SparseNormalizer XGBoostClassifier             0:00:44       0.8100    0.8650\n",
      "        18   SparseNormalizer XGBoostClassifier             0:00:43       0.8100    0.8650\n",
      "        19   StandardScalerWrapper LightGBM                 0:00:46       0.8700    0.8700\n",
      "        20   SparseNormalizer XGBoostClassifier             0:00:49       0.8000    0.8700\n",
      "        21   StandardScalerWrapper XGBoostClassifier        0:00:51       0.8600    0.8700\n",
      "        22   MaxAbsScaler LightGBM                          0:00:49       0.8650    0.8700\n",
      "        23   StandardScalerWrapper XGBoostClassifier        0:00:44       0.8450    0.8700\n",
      "        24   MaxAbsScaler KNN                               0:00:43       0.7600    0.8700\n",
      "        25   SparseNormalizer LightGBM                      0:00:43       0.7250    0.8700\n",
      "        26   MaxAbsScaler ExtremeRandomTrees                0:00:49       0.8050    0.8700\n",
      "        27   StandardScalerWrapper LightGBM                 0:00:44       0.8350    0.8700\n",
      "        28   RobustScaler LightGBM                          0:00:48       0.8800    0.8800\n",
      "        29   StandardScalerWrapper GradientBoosting         0:00:54       0.8650    0.8800\n",
      "        30   StandardScalerWrapper LightGBM                 0:00:41       0.7250    0.8800\n",
      "        31   StandardScalerWrapper LightGBM                 0:00:45       0.8750    0.8800\n",
      "        32   StandardScalerWrapper LightGBM                 0:00:41       0.8050    0.8800\n",
      "        33   RobustScaler RandomForest                      0:00:44       0.8500    0.8800\n",
      "        34   StandardScalerWrapper ExtremeRandomTrees       0:00:40       0.7250    0.8800\n",
      "        35   RobustScaler LightGBM                          0:00:47       0.7250    0.8800\n",
      "        36   StandardScalerWrapper LightGBM                 0:00:47       0.8700    0.8800\n",
      "        37   RobustScaler LightGBM                          0:00:46       0.7600    0.8800\n",
      "        38   SparseNormalizer XGBoostClassifier             0:00:49       0.8350    0.8800\n",
      "        39   StandardScalerWrapper XGBoostClassifier        0:00:44       0.8700    0.8800\n",
      "        40   MinMaxScaler LightGBM                          0:00:46       0.8650    0.8800\n",
      "        41   SparseNormalizer XGBoostClassifier             0:00:40       0.8350    0.8800\n",
      "        42   RobustScaler RandomForest                      0:00:40       0.8550    0.8800\n",
      "        43   MinMaxScaler LightGBM                          0:00:25       0.8450    0.8800\n",
      "        44                                                  0:00:18          nan    0.8800\n",
      "        45    VotingEnsemble                                0:01:11       0.8850    0.8850\n",
      "        46    StackEnsemble                                 0:01:18       0.8850    0.8850\n"
     ]
    }
   ],
   "source": [
    "# TODO: Submit your experiment\n",
    "remote_run = experiment.submit(automl_config, show_output=True)"
   ]
  },
  {
   "cell_type": "markdown",
   "metadata": {},
   "source": [
    "## Run Details\n",
    "\n",
    "OPTIONAL: Write about the different models trained and their performance. Why do you think some models did better than others?\n",
    "\n",
    "TODO: In the cell below, use the `RunDetails` widget to show the different experiments."
   ]
  },
  {
   "cell_type": "code",
   "execution_count": 16,
   "metadata": {
    "gather": {
     "logged": 1598431121770
    },
    "jupyter": {
     "outputs_hidden": false,
     "source_hidden": false
    },
    "nteract": {
     "transient": {
      "deleting": false
     }
    }
   },
   "outputs": [
    {
     "data": {
      "application/vnd.jupyter.widget-view+json": {
       "model_id": "36a51a67bfc8487ba88ff66732917e0c",
       "version_major": 2,
       "version_minor": 0
      },
      "text/plain": [
       "_AutoMLWidget(widget_settings={'childWidgetDisplay': 'popup', 'send_telemetry': False, 'log_level': 'INFO', 's…"
      ]
     },
     "metadata": {},
     "output_type": "display_data"
    },
    {
     "data": {
      "application/aml.mini.widget.v1": "{\"status\": \"Completed\", \"workbench_run_details_uri\": \"https://ml.azure.com/runs/AutoML_7dfd39c3-7a02-4dea-bd45-57388d5a593f?wsid=/subscriptions/6b4af8be-9931-443e-90f6-c4c34a1f9737/resourcegroups/aml-quickstarts-143110/workspaces/quick-starts-ws-143110&tid=660b3398-b80e-49d2-bc5b-ac1dc93b5254\", \"run_id\": \"AutoML_7dfd39c3-7a02-4dea-bd45-57388d5a593f\", \"run_properties\": {\"run_id\": \"AutoML_7dfd39c3-7a02-4dea-bd45-57388d5a593f\", \"created_utc\": \"2021-04-19T06:11:13.477675Z\", \"properties\": {\"num_iterations\": \"1000\", \"training_type\": \"TrainFull\", \"acquisition_function\": \"EI\", \"primary_metric\": \"accuracy\", \"train_split\": \"0\", \"acquisition_parameter\": \"0\", \"num_cross_validation\": \"5\", \"target\": \"Saturn-AI\", \"AMLSettingsJsonString\": \"{\\\"path\\\":null,\\\"name\\\":\\\"udacity-azure-capstone-project\\\",\\\"subscription_id\\\":\\\"6b4af8be-9931-443e-90f6-c4c34a1f9737\\\",\\\"resource_group\\\":\\\"aml-quickstarts-143110\\\",\\\"workspace_name\\\":\\\"quick-starts-ws-143110\\\",\\\"region\\\":\\\"southcentralus\\\",\\\"compute_target\\\":\\\"Saturn-AI\\\",\\\"spark_service\\\":null,\\\"azure_service\\\":\\\"remote\\\",\\\"many_models\\\":false,\\\"pipeline_fetch_max_batch_size\\\":1,\\\"enable_batch_run\\\":false,\\\"enable_run_restructure\\\":false,\\\"iterations\\\":1000,\\\"primary_metric\\\":\\\"accuracy\\\",\\\"task_type\\\":\\\"classification\\\",\\\"data_script\\\":null,\\\"test_size\\\":0.0,\\\"validation_size\\\":0.0,\\\"n_cross_validations\\\":5,\\\"y_min\\\":null,\\\"y_max\\\":null,\\\"num_classes\\\":null,\\\"featurization\\\":\\\"auto\\\",\\\"_ignore_package_version_incompatibilities\\\":false,\\\"is_timeseries\\\":false,\\\"max_cores_per_iteration\\\":1,\\\"max_concurrent_iterations\\\":4,\\\"iteration_timeout_minutes\\\":null,\\\"mem_in_mb\\\":null,\\\"enforce_time_on_windows\\\":true,\\\"experiment_timeout_minutes\\\":30,\\\"experiment_exit_score\\\":null,\\\"whitelist_models\\\":null,\\\"blacklist_algos\\\":[\\\"TensorFlowLinearClassifier\\\",\\\"TensorFlowDNN\\\"],\\\"supported_models\\\":[\\\"SVM\\\",\\\"XGBoostClassifier\\\",\\\"DecisionTree\\\",\\\"KNN\\\",\\\"LogisticRegression\\\",\\\"BernoulliNaiveBayes\\\",\\\"AveragedPerceptronClassifier\\\",\\\"TensorFlowDNN\\\",\\\"RandomForest\\\",\\\"LinearSVM\\\",\\\"LightGBM\\\",\\\"GradientBoosting\\\",\\\"TensorFlowLinearClassifier\\\",\\\"MultinomialNaiveBayes\\\",\\\"SGD\\\",\\\"ExtremeRandomTrees\\\"],\\\"private_models\\\":[],\\\"auto_blacklist\\\":true,\\\"blacklist_samples_reached\\\":false,\\\"exclude_nan_labels\\\":true,\\\"verbosity\\\":20,\\\"_debug_log\\\":\\\"azureml_automl.log\\\",\\\"show_warnings\\\":false,\\\"model_explainability\\\":true,\\\"service_url\\\":null,\\\"sdk_url\\\":null,\\\"sdk_packages\\\":null,\\\"enable_onnx_compatible_models\\\":false,\\\"enable_split_onnx_featurizer_estimator_models\\\":false,\\\"vm_type\\\":\\\"STANDARD_D2_V2\\\",\\\"telemetry_verbosity\\\":20,\\\"send_telemetry\\\":true,\\\"enable_dnn\\\":false,\\\"scenario\\\":\\\"SDK-1.13.0\\\",\\\"environment_label\\\":null,\\\"save_mlflow\\\":false,\\\"force_text_dnn\\\":false,\\\"enable_feature_sweeping\\\":true,\\\"enable_early_stopping\\\":true,\\\"early_stopping_n_iters\\\":10,\\\"metrics\\\":null,\\\"enable_metric_confidence\\\":false,\\\"enable_ensembling\\\":true,\\\"enable_stack_ensembling\\\":true,\\\"ensemble_iterations\\\":15,\\\"enable_tf\\\":false,\\\"enable_subsampling\\\":null,\\\"subsample_seed\\\":null,\\\"enable_nimbusml\\\":false,\\\"enable_streaming\\\":false,\\\"force_streaming\\\":false,\\\"track_child_runs\\\":true,\\\"allowed_private_models\\\":[],\\\"label_column_name\\\":\\\"DEATH_EVENT\\\",\\\"weight_column_name\\\":null,\\\"cv_split_column_names\\\":null,\\\"enable_local_managed\\\":false,\\\"_local_managed_run_id\\\":null,\\\"cost_mode\\\":1,\\\"lag_length\\\":0,\\\"metric_operation\\\":\\\"maximize\\\",\\\"preprocess\\\":true}\", \"DataPrepJsonString\": \"{\\\\\\\"training_data\\\\\\\": {\\\\\\\"datasetId\\\\\\\": \\\\\\\"95ea76fe-93a6-46ee-b100-c0b053b62c3d\\\\\\\"}, \\\\\\\"datasets\\\\\\\": 0}\", \"EnableSubsampling\": null, \"runTemplate\": \"AutoML\", \"azureml.runsource\": \"automl\", \"display_task_type\": \"classification\", \"dependencies_versions\": \"{\\\"azureml-widgets\\\": \\\"1.26.0\\\", \\\"azureml-train\\\": \\\"1.26.0\\\", \\\"azureml-train-restclients-hyperdrive\\\": \\\"1.26.0\\\", \\\"azureml-train-core\\\": \\\"1.26.0\\\", \\\"azureml-train-automl-client\\\": \\\"1.26.0\\\", \\\"azureml-telemetry\\\": \\\"1.26.0\\\", \\\"azureml-sdk\\\": \\\"1.26.0\\\", \\\"azureml-pipeline\\\": \\\"1.26.0\\\", \\\"azureml-pipeline-steps\\\": \\\"1.26.0\\\", \\\"azureml-pipeline-core\\\": \\\"1.26.0\\\", \\\"azureml-dataset-runtime\\\": \\\"1.26.0\\\", \\\"azureml-dataprep\\\": \\\"2.13.2\\\", \\\"azureml-dataprep-rslex\\\": \\\"1.11.2\\\", \\\"azureml-dataprep-native\\\": \\\"32.0.0\\\", \\\"azureml-core\\\": \\\"1.26.0\\\", \\\"azureml-contrib-services\\\": \\\"1.26.0\\\", \\\"azureml-contrib-server\\\": \\\"1.26.0\\\", \\\"azureml-contrib-pipeline-steps\\\": \\\"1.26.0\\\", \\\"azureml-contrib-notebook\\\": \\\"1.26.0\\\", \\\"azureml-automl-core\\\": \\\"1.26.0\\\"}\", \"_aml_system_scenario_identification\": \"Remote.Parent\", \"ClientType\": \"SDK\", \"environment_cpu_name\": \"AzureML-AutoML\", \"environment_cpu_label\": \"prod\", \"environment_gpu_name\": \"AzureML-AutoML-GPU\", \"environment_gpu_label\": \"prod\", \"root_attribution\": \"automl\", \"attribution\": \"AutoML\", \"Orchestrator\": \"AutoML\", \"CancelUri\": \"https://southcentralus.experiments.azureml.net/jasmine/v1.0/subscriptions/6b4af8be-9931-443e-90f6-c4c34a1f9737/resourceGroups/aml-quickstarts-143110/providers/Microsoft.MachineLearningServices/workspaces/quick-starts-ws-143110/experimentids/c9287a94-b876-4693-bfe8-1bab5f0fbc99/cancel/AutoML_7dfd39c3-7a02-4dea-bd45-57388d5a593f\", \"ClientSdkVersion\": \"1.25.0\", \"snapshotId\": \"00000000-0000-0000-0000-000000000000\", \"SetupRunId\": \"AutoML_7dfd39c3-7a02-4dea-bd45-57388d5a593f_setup\", \"SetupRunContainerId\": \"dcid.AutoML_7dfd39c3-7a02-4dea-bd45-57388d5a593f_setup\", \"FeaturizationRunJsonPath\": \"featurizer_container.json\", \"FeaturizationRunId\": \"AutoML_7dfd39c3-7a02-4dea-bd45-57388d5a593f_featurize\", \"ProblemInfoJsonString\": \"{\\\"dataset_num_categorical\\\": 0, \\\"is_sparse\\\": false, \\\"subsampling\\\": false, \\\"dataset_classes\\\": 2, \\\"dataset_features\\\": 12, \\\"dataset_samples\\\": 200, \\\"single_frequency_class_detected\\\": false}\", \"ModelExplainRunId\": \"AutoML_7dfd39c3-7a02-4dea-bd45-57388d5a593f_ModelExplain\", \"azureml.git.repository_uri\": \"https://github.com/bhuiyanmobasshir94/Azure-Machine-Learning-Capstone-Project.git\", \"mlflow.source.git.repoURL\": \"https://github.com/bhuiyanmobasshir94/Azure-Machine-Learning-Capstone-Project.git\", \"azureml.git.branch\": \"main\", \"mlflow.source.git.branch\": \"main\", \"azureml.git.commit\": \"14626b62e03ed4329ece6507aeb4eb39da0f0bb9\", \"mlflow.source.git.commit\": \"14626b62e03ed4329ece6507aeb4eb39da0f0bb9\", \"azureml.git.dirty\": \"True\"}, \"tags\": {\"model_explain_run\": \"best_run\", \"_aml_system_azureml.automlComponent\": \"AutoML\", \"pipeline_id\": \"\", \"score\": \"\", \"predicted_cost\": \"\", \"fit_time\": \"\", \"training_percent\": \"\", \"iteration\": \"\", \"run_preprocessor\": \"\", \"run_algorithm\": \"\", \"dynamic_whitelisting_iterations\": \"<25>;<30>;<35>;<40>;\", \"automl_best_child_run_id\": \"AutoML_7dfd39c3-7a02-4dea-bd45-57388d5a593f_46\", \"model_explain_best_run_child_id\": \"AutoML_7dfd39c3-7a02-4dea-bd45-57388d5a593f_46\"}, \"end_time_utc\": \"2021-04-19T06:39:14.787395Z\", \"status\": \"Completed\", \"log_files\": {}, \"log_groups\": [], \"run_duration\": \"0:28:01\", \"run_number\": \"2\", \"run_queued_details\": {\"status\": \"Completed\", \"details\": null}}, \"child_runs\": [{\"run_id\": \"AutoML_7dfd39c3-7a02-4dea-bd45-57388d5a593f_0\", \"run_number\": 7, \"metric\": null, \"status\": \"Completed\", \"run_type\": \"azureml.scriptrun\", \"training_percent\": \"100\", \"start_time\": \"2021-04-19T06:24:32.057099Z\", \"end_time\": \"2021-04-19T06:29:46.311853Z\", \"created_time\": \"2021-04-19T06:21:47.658161Z\", \"created_time_dt\": \"2021-04-19T06:21:47.658161Z\", \"duration\": \"0:07:58\", \"iteration\": \"0\", \"goal\": \"accuracy_max\", \"run_name\": \"MaxAbsScaler, LightGBM\", \"run_properties\": \"copy=True\", \"primary_metric\": 0.845, \"best_metric\": 0.845}, {\"run_id\": \"AutoML_7dfd39c3-7a02-4dea-bd45-57388d5a593f_1\", \"run_number\": 8, \"metric\": null, \"status\": \"Completed\", \"run_type\": \"azureml.scriptrun\", \"training_percent\": \"100\", \"start_time\": \"2021-04-19T06:23:14.766366Z\", \"end_time\": \"2021-04-19T06:23:59.103026Z\", \"created_time\": \"2021-04-19T06:21:47.691268Z\", \"created_time_dt\": \"2021-04-19T06:21:47.691268Z\", \"duration\": \"0:02:11\", \"iteration\": \"1\", \"goal\": \"accuracy_max\", \"run_name\": \"MaxAbsScaler, XGBoostClassifier\", \"run_properties\": \"copy=True\", \"primary_metric\": 0.85, \"best_metric\": 0.85}, {\"run_id\": \"AutoML_7dfd39c3-7a02-4dea-bd45-57388d5a593f_3\", \"run_number\": 9, \"metric\": null, \"status\": \"Completed\", \"run_type\": \"azureml.scriptrun\", \"training_percent\": \"100\", \"start_time\": \"2021-04-19T06:24:16.195113Z\", \"end_time\": \"2021-04-19T06:24:53.115129Z\", \"created_time\": \"2021-04-19T06:21:47.746193Z\", \"created_time_dt\": \"2021-04-19T06:21:47.746193Z\", \"duration\": \"0:03:05\", \"iteration\": \"3\", \"goal\": \"accuracy_max\", \"run_name\": \"MinMaxScaler, RandomForest\", \"run_properties\": \"copy=True, feature_range=(0, 1\", \"primary_metric\": 0.84, \"best_metric\": 0.86}, {\"run_id\": \"AutoML_7dfd39c3-7a02-4dea-bd45-57388d5a593f_2\", \"run_number\": 10, \"metric\": null, \"status\": \"Completed\", \"run_type\": \"azureml.scriptrun\", \"training_percent\": \"100\", \"start_time\": \"2021-04-19T06:21:58.834634Z\", \"end_time\": \"2021-04-19T06:22:59.169113Z\", \"created_time\": \"2021-04-19T06:21:47.747201Z\", \"created_time_dt\": \"2021-04-19T06:21:47.747201Z\", \"duration\": \"0:01:11\", \"iteration\": \"2\", \"goal\": \"accuracy_max\", \"run_name\": \"MinMaxScaler, RandomForest\", \"run_properties\": \"copy=True, feature_range=(0, 1\", \"primary_metric\": 0.86, \"best_metric\": 0.86}, {\"run_id\": \"AutoML_7dfd39c3-7a02-4dea-bd45-57388d5a593f_4\", \"run_number\": 11, \"metric\": null, \"status\": \"Completed\", \"run_type\": \"azureml.scriptrun\", \"training_percent\": \"100\", \"start_time\": \"2021-04-19T06:24:31.399632Z\", \"end_time\": \"2021-04-19T06:27:28.052398Z\", \"created_time\": \"2021-04-19T06:23:01.968285Z\", \"created_time_dt\": \"2021-04-19T06:23:01.968285Z\", \"duration\": \"0:04:26\", \"iteration\": \"4\", \"goal\": \"accuracy_max\", \"run_name\": \"MinMaxScaler, RandomForest\", \"run_properties\": \"copy=True, feature_range=(0, 1\", \"primary_metric\": 0.845, \"best_metric\": 0.86}, {\"run_id\": \"AutoML_7dfd39c3-7a02-4dea-bd45-57388d5a593f_5\", \"run_number\": 12, \"metric\": null, \"status\": \"Completed\", \"run_type\": \"azureml.scriptrun\", \"training_percent\": \"100\", \"start_time\": \"2021-04-19T06:24:33.38801Z\", \"end_time\": \"2021-04-19T06:29:52.486244Z\", \"created_time\": \"2021-04-19T06:24:01.679115Z\", \"created_time_dt\": \"2021-04-19T06:24:01.679115Z\", \"duration\": \"0:05:50\", \"iteration\": \"5\", \"goal\": \"accuracy_max\", \"run_name\": \"SparseNormalizer, XGBoostClassifier\", \"run_properties\": \"<azureml.automl.runtime.shared.model_wrappers.SparseNormalizer object at 0x7f556d24acc0\", \"primary_metric\": 0.85, \"best_metric\": 0.86}, {\"run_id\": \"AutoML_7dfd39c3-7a02-4dea-bd45-57388d5a593f_6\", \"run_number\": 13, \"metric\": null, \"status\": \"Completed\", \"run_type\": \"azureml.scriptrun\", \"training_percent\": \"100\", \"start_time\": \"2021-04-19T06:25:10.272462Z\", \"end_time\": \"2021-04-19T06:25:53.732589Z\", \"created_time\": \"2021-04-19T06:24:55.853608Z\", \"created_time_dt\": \"2021-04-19T06:24:55.853608Z\", \"duration\": \"0:00:57\", \"iteration\": \"6\", \"goal\": \"accuracy_max\", \"run_name\": \"MinMaxScaler, SVM\", \"run_properties\": \"copy=True, feature_range=(0, 1\", \"primary_metric\": 0.755, \"best_metric\": 0.86}, {\"run_id\": \"AutoML_7dfd39c3-7a02-4dea-bd45-57388d5a593f_7\", \"run_number\": 14, \"metric\": null, \"status\": \"Completed\", \"run_type\": \"azureml.scriptrun\", \"training_percent\": \"100\", \"start_time\": \"2021-04-19T06:26:10.74276Z\", \"end_time\": \"2021-04-19T06:27:03.371098Z\", \"created_time\": \"2021-04-19T06:25:55.884516Z\", \"created_time_dt\": \"2021-04-19T06:25:55.884516Z\", \"duration\": \"0:01:07\", \"iteration\": \"7\", \"goal\": \"accuracy_max\", \"run_name\": \"MaxAbsScaler, GradientBoosting\", \"run_properties\": \"copy=True\", \"primary_metric\": 0.865, \"best_metric\": 0.865}, {\"run_id\": \"AutoML_7dfd39c3-7a02-4dea-bd45-57388d5a593f_8\", \"run_number\": 15, \"metric\": null, \"status\": \"Completed\", \"run_type\": \"azureml.scriptrun\", \"training_percent\": \"100\", \"start_time\": \"2021-04-19T06:27:17.9529Z\", \"end_time\": \"2021-04-19T06:28:06.494704Z\", \"created_time\": \"2021-04-19T06:27:05.509572Z\", \"created_time_dt\": \"2021-04-19T06:27:05.509572Z\", \"duration\": \"0:01:00\", \"iteration\": \"8\", \"goal\": \"accuracy_max\", \"run_name\": \"StandardScalerWrapper, RandomForest\", \"run_properties\": \"<azureml.automl.runtime.shared.model_wrappers.StandardScalerWrapper object at 0x7f0222df4e80\", \"primary_metric\": 0.85, \"best_metric\": 0.865}, {\"run_id\": \"AutoML_7dfd39c3-7a02-4dea-bd45-57388d5a593f_9\", \"run_number\": 16, \"metric\": null, \"status\": \"Completed\", \"run_type\": \"azureml.scriptrun\", \"training_percent\": \"100\", \"start_time\": \"2021-04-19T06:27:41.181289Z\", \"end_time\": \"2021-04-19T06:28:21.206989Z\", \"created_time\": \"2021-04-19T06:27:29.888324Z\", \"created_time_dt\": \"2021-04-19T06:27:29.888324Z\", \"duration\": \"0:00:51\", \"iteration\": \"9\", \"goal\": \"accuracy_max\", \"run_name\": \"SparseNormalizer, LightGBM\", \"run_properties\": \"<azureml.automl.runtime.shared.model_wrappers.SparseNormalizer object at 0x7f2880e3a400\", \"primary_metric\": 0.77, \"best_metric\": 0.865}, {\"run_id\": \"AutoML_7dfd39c3-7a02-4dea-bd45-57388d5a593f_10\", \"run_number\": 17, \"metric\": null, \"status\": \"Completed\", \"run_type\": \"azureml.scriptrun\", \"training_percent\": \"100\", \"start_time\": \"2021-04-19T06:28:20.26122Z\", \"end_time\": \"2021-04-19T06:29:08.728642Z\", \"created_time\": \"2021-04-19T06:28:08.366733Z\", \"created_time_dt\": \"2021-04-19T06:28:08.366733Z\", \"duration\": \"0:01:00\", \"iteration\": \"10\", \"goal\": \"accuracy_max\", \"run_name\": \"SparseNormalizer, XGBoostClassifier\", \"run_properties\": \"<azureml.automl.runtime.shared.model_wrappers.SparseNormalizer object at 0x7fdc5bb5dcc0\", \"primary_metric\": 0.85, \"best_metric\": 0.865}, {\"run_id\": \"AutoML_7dfd39c3-7a02-4dea-bd45-57388d5a593f_11\", \"run_number\": 18, \"metric\": null, \"status\": \"Completed\", \"run_type\": \"azureml.scriptrun\", \"training_percent\": \"100\", \"start_time\": \"2021-04-19T06:28:35.778271Z\", \"end_time\": \"2021-04-19T06:29:21.317507Z\", \"created_time\": \"2021-04-19T06:28:23.488667Z\", \"created_time_dt\": \"2021-04-19T06:28:23.488667Z\", \"duration\": \"0:00:57\", \"iteration\": \"11\", \"goal\": \"accuracy_max\", \"run_name\": \"RobustScaler, ExtremeRandomTrees\", \"run_properties\": \"copy=True, quantile_range=[25, 75], with_centering=True,\\n             with_scaling=False\", \"primary_metric\": 0.86, \"best_metric\": 0.865}, {\"run_id\": \"AutoML_7dfd39c3-7a02-4dea-bd45-57388d5a593f_12\", \"run_number\": 19, \"metric\": null, \"status\": \"Completed\", \"run_type\": \"azureml.scriptrun\", \"training_percent\": \"100\", \"start_time\": \"2021-04-19T06:29:24.316167Z\", \"end_time\": \"2021-04-19T06:30:04.869349Z\", \"created_time\": \"2021-04-19T06:29:10.620139Z\", \"created_time_dt\": \"2021-04-19T06:29:10.620139Z\", \"duration\": \"0:00:54\", \"iteration\": \"12\", \"goal\": \"accuracy_max\", \"run_name\": \"StandardScalerWrapper, LightGBM\", \"run_properties\": \"<azureml.automl.runtime.shared.model_wrappers.StandardScalerWrapper object at 0x7f2808a85048\", \"primary_metric\": 0.845, \"best_metric\": 0.865}, {\"run_id\": \"AutoML_7dfd39c3-7a02-4dea-bd45-57388d5a593f_13\", \"run_number\": 20, \"metric\": null, \"status\": \"Completed\", \"run_type\": \"azureml.scriptrun\", \"training_percent\": \"100\", \"start_time\": \"2021-04-19T06:29:37.680835Z\", \"end_time\": \"2021-04-19T06:30:24.064859Z\", \"created_time\": \"2021-04-19T06:29:23.440485Z\", \"created_time_dt\": \"2021-04-19T06:29:23.440485Z\", \"duration\": \"0:01:00\", \"iteration\": \"13\", \"goal\": \"accuracy_max\", \"run_name\": \"RobustScaler, ExtremeRandomTrees\", \"run_properties\": \"copy=True, quantile_range=[25, 75], with_centering=True,\\n             with_scaling=False\", \"primary_metric\": 0.86, \"best_metric\": 0.865}, {\"run_id\": \"AutoML_7dfd39c3-7a02-4dea-bd45-57388d5a593f_14\", \"run_number\": 21, \"metric\": null, \"status\": \"Completed\", \"run_type\": \"azureml.scriptrun\", \"training_percent\": \"100\", \"start_time\": \"2021-04-19T06:30:03.005931Z\", \"end_time\": \"2021-04-19T06:30:44.177322Z\", \"created_time\": \"2021-04-19T06:29:48.040096Z\", \"created_time_dt\": \"2021-04-19T06:29:48.040096Z\", \"duration\": \"0:00:56\", \"iteration\": \"14\", \"goal\": \"accuracy_max\", \"run_name\": \"RobustScaler, RandomForest\", \"run_properties\": \"copy=True, quantile_range=[10, 90], with_centering=True,\\n             with_scaling=True\", \"primary_metric\": 0.86, \"best_metric\": 0.865}, {\"run_id\": \"AutoML_7dfd39c3-7a02-4dea-bd45-57388d5a593f_15\", \"run_number\": 22, \"metric\": null, \"status\": \"Completed\", \"run_type\": \"azureml.scriptrun\", \"training_percent\": \"100\", \"start_time\": \"2021-04-19T06:30:05.782619Z\", \"end_time\": \"2021-04-19T06:30:55.001015Z\", \"created_time\": \"2021-04-19T06:29:54.86002Z\", \"created_time_dt\": \"2021-04-19T06:29:54.86002Z\", \"duration\": \"0:01:00\", \"iteration\": \"15\", \"goal\": \"accuracy_max\", \"run_name\": \"StandardScalerWrapper, ExtremeRandomTrees\", \"run_properties\": \"<azureml.automl.runtime.shared.model_wrappers.StandardScalerWrapper object at 0x7fe604e227b8\", \"primary_metric\": 0.855, \"best_metric\": 0.865}, {\"run_id\": \"AutoML_7dfd39c3-7a02-4dea-bd45-57388d5a593f_16\", \"run_number\": 23, \"metric\": null, \"status\": \"Completed\", \"run_type\": \"azureml.scriptrun\", \"training_percent\": \"100\", \"start_time\": \"2021-04-19T06:30:21.374394Z\", \"end_time\": \"2021-04-19T06:31:08.937327Z\", \"created_time\": \"2021-04-19T06:30:06.703795Z\", \"created_time_dt\": \"2021-04-19T06:30:06.703795Z\", \"duration\": \"0:01:02\", \"iteration\": \"16\", \"goal\": \"accuracy_max\", \"run_name\": \"StandardScalerWrapper, RandomForest\", \"run_properties\": \"<azureml.automl.runtime.shared.model_wrappers.StandardScalerWrapper object at 0x7f6b375f84a8\", \"primary_metric\": 0.845, \"best_metric\": 0.865}, {\"run_id\": \"AutoML_7dfd39c3-7a02-4dea-bd45-57388d5a593f_17\", \"run_number\": 24, \"metric\": null, \"status\": \"Completed\", \"run_type\": \"azureml.scriptrun\", \"training_percent\": \"100\", \"start_time\": \"2021-04-19T06:30:38.963761Z\", \"end_time\": \"2021-04-19T06:31:22.635431Z\", \"created_time\": \"2021-04-19T06:30:26.869242Z\", \"created_time_dt\": \"2021-04-19T06:30:26.869242Z\", \"duration\": \"0:00:55\", \"iteration\": \"17\", \"goal\": \"accuracy_max\", \"run_name\": \"SparseNormalizer, XGBoostClassifier\", \"run_properties\": \"<azureml.automl.runtime.shared.model_wrappers.SparseNormalizer object at 0x7ff328ca9f60\", \"primary_metric\": 0.81, \"best_metric\": 0.865}, {\"run_id\": \"AutoML_7dfd39c3-7a02-4dea-bd45-57388d5a593f_18\", \"run_number\": 25, \"metric\": null, \"status\": \"Completed\", \"run_type\": \"azureml.scriptrun\", \"training_percent\": \"100\", \"start_time\": \"2021-04-19T06:31:00.015535Z\", \"end_time\": \"2021-04-19T06:31:43.267891Z\", \"created_time\": \"2021-04-19T06:30:47.246873Z\", \"created_time_dt\": \"2021-04-19T06:30:47.246873Z\", \"duration\": \"0:00:56\", \"iteration\": \"18\", \"goal\": \"accuracy_max\", \"run_name\": \"SparseNormalizer, XGBoostClassifier\", \"run_properties\": \"<azureml.automl.runtime.shared.model_wrappers.SparseNormalizer object at 0x7fb6b2bb14e0\", \"primary_metric\": 0.81, \"best_metric\": 0.865}, {\"run_id\": \"AutoML_7dfd39c3-7a02-4dea-bd45-57388d5a593f_19\", \"run_number\": 26, \"metric\": null, \"status\": \"Completed\", \"run_type\": \"azureml.scriptrun\", \"training_percent\": \"100\", \"start_time\": \"2021-04-19T06:31:10.706781Z\", \"end_time\": \"2021-04-19T06:31:56.617998Z\", \"created_time\": \"2021-04-19T06:30:56.741235Z\", \"created_time_dt\": \"2021-04-19T06:30:56.741235Z\", \"duration\": \"0:00:59\", \"iteration\": \"19\", \"goal\": \"accuracy_max\", \"run_name\": \"StandardScalerWrapper, LightGBM\", \"run_properties\": \"<azureml.automl.runtime.shared.model_wrappers.StandardScalerWrapper object at 0x7fbafc44f8d0\", \"primary_metric\": 0.87, \"best_metric\": 0.87}, {\"run_id\": \"AutoML_7dfd39c3-7a02-4dea-bd45-57388d5a593f_20\", \"run_number\": 27, \"metric\": null, \"status\": \"Completed\", \"run_type\": \"azureml.scriptrun\", \"training_percent\": \"100\", \"start_time\": \"2021-04-19T06:31:24.120409Z\", \"end_time\": \"2021-04-19T06:32:13.228102Z\", \"created_time\": \"2021-04-19T06:31:11.256897Z\", \"created_time_dt\": \"2021-04-19T06:31:11.256897Z\", \"duration\": \"0:01:01\", \"iteration\": \"20\", \"goal\": \"accuracy_max\", \"run_name\": \"SparseNormalizer, XGBoostClassifier\", \"run_properties\": \"<azureml.automl.runtime.shared.model_wrappers.SparseNormalizer object at 0x7fbebe863ef0\", \"primary_metric\": 0.8, \"best_metric\": 0.87}, {\"run_id\": \"AutoML_7dfd39c3-7a02-4dea-bd45-57388d5a593f_21\", \"run_number\": 28, \"metric\": null, \"status\": \"Completed\", \"run_type\": \"azureml.scriptrun\", \"training_percent\": \"100\", \"start_time\": \"2021-04-19T06:31:36.699064Z\", \"end_time\": \"2021-04-19T06:32:27.458044Z\", \"created_time\": \"2021-04-19T06:31:24.874798Z\", \"created_time_dt\": \"2021-04-19T06:31:24.874798Z\", \"duration\": \"0:01:02\", \"iteration\": \"21\", \"goal\": \"accuracy_max\", \"run_name\": \"StandardScalerWrapper, XGBoostClassifier\", \"run_properties\": \"<azureml.automl.runtime.shared.model_wrappers.StandardScalerWrapper object at 0x7f30a41690f0\", \"primary_metric\": 0.86, \"best_metric\": 0.87}, {\"run_id\": \"AutoML_7dfd39c3-7a02-4dea-bd45-57388d5a593f_22\", \"run_number\": 29, \"metric\": null, \"status\": \"Completed\", \"run_type\": \"azureml.scriptrun\", \"training_percent\": \"100\", \"start_time\": \"2021-04-19T06:31:56.71703Z\", \"end_time\": \"2021-04-19T06:32:46.09925Z\", \"created_time\": \"2021-04-19T06:31:45.622871Z\", \"created_time_dt\": \"2021-04-19T06:31:45.622871Z\", \"duration\": \"0:01:00\", \"iteration\": \"22\", \"goal\": \"accuracy_max\", \"run_name\": \"MaxAbsScaler, LightGBM\", \"run_properties\": \"copy=True\", \"primary_metric\": 0.865, \"best_metric\": 0.87}, {\"run_id\": \"AutoML_7dfd39c3-7a02-4dea-bd45-57388d5a593f_23\", \"run_number\": 30, \"metric\": null, \"status\": \"Completed\", \"run_type\": \"azureml.scriptrun\", \"training_percent\": \"100\", \"start_time\": \"2021-04-19T06:32:13.770258Z\", \"end_time\": \"2021-04-19T06:32:57.380119Z\", \"created_time\": \"2021-04-19T06:31:59.619813Z\", \"created_time_dt\": \"2021-04-19T06:31:59.619813Z\", \"duration\": \"0:00:57\", \"iteration\": \"23\", \"goal\": \"accuracy_max\", \"run_name\": \"StandardScalerWrapper, XGBoostClassifier\", \"run_properties\": \"<azureml.automl.runtime.shared.model_wrappers.StandardScalerWrapper object at 0x7fb22b5d4748\", \"primary_metric\": 0.845, \"best_metric\": 0.87}, {\"run_id\": \"AutoML_7dfd39c3-7a02-4dea-bd45-57388d5a593f_24\", \"run_number\": 31, \"metric\": null, \"status\": \"Completed\", \"run_type\": \"azureml.scriptrun\", \"training_percent\": \"100\", \"start_time\": \"2021-04-19T06:32:27.020838Z\", \"end_time\": \"2021-04-19T06:33:10.229826Z\", \"created_time\": \"2021-04-19T06:32:15.093223Z\", \"created_time_dt\": \"2021-04-19T06:32:15.093223Z\", \"duration\": \"0:00:55\", \"iteration\": \"24\", \"goal\": \"accuracy_max\", \"run_name\": \"MaxAbsScaler, KNN\", \"run_properties\": \"copy=True\", \"primary_metric\": 0.76, \"best_metric\": 0.87}, {\"run_id\": \"AutoML_7dfd39c3-7a02-4dea-bd45-57388d5a593f_25\", \"run_number\": 32, \"metric\": null, \"status\": \"Completed\", \"run_type\": \"azureml.scriptrun\", \"training_percent\": \"100\", \"start_time\": \"2021-04-19T06:32:46.214033Z\", \"end_time\": \"2021-04-19T06:33:29.63163Z\", \"created_time\": \"2021-04-19T06:32:29.994174Z\", \"created_time_dt\": \"2021-04-19T06:32:29.994174Z\", \"duration\": \"0:00:59\", \"iteration\": \"25\", \"goal\": \"accuracy_max\", \"run_name\": \"SparseNormalizer, LightGBM\", \"run_properties\": \"<azureml.automl.runtime.shared.model_wrappers.SparseNormalizer object at 0x7fc06acd1400\", \"primary_metric\": 0.725, \"best_metric\": 0.87}, {\"run_id\": \"AutoML_7dfd39c3-7a02-4dea-bd45-57388d5a593f_26\", \"run_number\": 33, \"metric\": null, \"status\": \"Completed\", \"run_type\": \"azureml.scriptrun\", \"training_percent\": \"100\", \"start_time\": \"2021-04-19T06:33:03.741357Z\", \"end_time\": \"2021-04-19T06:33:52.888912Z\", \"created_time\": \"2021-04-19T06:32:47.767243Z\", \"created_time_dt\": \"2021-04-19T06:32:47.767243Z\", \"duration\": \"0:01:05\", \"iteration\": \"26\", \"goal\": \"accuracy_max\", \"run_name\": \"MaxAbsScaler, ExtremeRandomTrees\", \"run_properties\": \"copy=True\", \"primary_metric\": 0.805, \"best_metric\": 0.87}, {\"run_id\": \"AutoML_7dfd39c3-7a02-4dea-bd45-57388d5a593f_27\", \"run_number\": 34, \"metric\": null, \"status\": \"Completed\", \"run_type\": \"azureml.scriptrun\", \"training_percent\": \"100\", \"start_time\": \"2021-04-19T06:33:09.520283Z\", \"end_time\": \"2021-04-19T06:33:54.018338Z\", \"created_time\": \"2021-04-19T06:32:59.165536Z\", \"created_time_dt\": \"2021-04-19T06:32:59.165536Z\", \"duration\": \"0:00:54\", \"iteration\": \"27\", \"goal\": \"accuracy_max\", \"run_name\": \"StandardScalerWrapper, LightGBM\", \"run_properties\": \"<azureml.automl.runtime.shared.model_wrappers.StandardScalerWrapper object at 0x7fdf5fc0c828\", \"primary_metric\": 0.835, \"best_metric\": 0.87}, {\"run_id\": \"AutoML_7dfd39c3-7a02-4dea-bd45-57388d5a593f_28\", \"run_number\": 35, \"metric\": null, \"status\": \"Completed\", \"run_type\": \"azureml.scriptrun\", \"training_percent\": \"100\", \"start_time\": \"2021-04-19T06:33:25.37084Z\", \"end_time\": \"2021-04-19T06:34:13.836106Z\", \"created_time\": \"2021-04-19T06:33:11.967033Z\", \"created_time_dt\": \"2021-04-19T06:33:11.967033Z\", \"duration\": \"0:01:01\", \"iteration\": \"28\", \"goal\": \"accuracy_max\", \"run_name\": \"RobustScaler, LightGBM\", \"run_properties\": \"copy=True, quantile_range=[10, 90], with_centering=True,\\n             with_scaling=False\", \"primary_metric\": 0.88, \"best_metric\": 0.88}, {\"run_id\": \"AutoML_7dfd39c3-7a02-4dea-bd45-57388d5a593f_29\", \"run_number\": 36, \"metric\": null, \"status\": \"Completed\", \"run_type\": \"azureml.scriptrun\", \"training_percent\": \"100\", \"start_time\": \"2021-04-19T06:33:44.468789Z\", \"end_time\": \"2021-04-19T06:34:38.863628Z\", \"created_time\": \"2021-04-19T06:33:31.610596Z\", \"created_time_dt\": \"2021-04-19T06:33:31.610596Z\", \"duration\": \"0:01:07\", \"iteration\": \"29\", \"goal\": \"accuracy_max\", \"run_name\": \"StandardScalerWrapper, GradientBoosting\", \"run_properties\": \"<azureml.automl.runtime.shared.model_wrappers.StandardScalerWrapper object at 0x7f6abc0689b0\", \"primary_metric\": 0.865, \"best_metric\": 0.88}, {\"run_id\": \"AutoML_7dfd39c3-7a02-4dea-bd45-57388d5a593f_30\", \"run_number\": 37, \"metric\": null, \"status\": \"Completed\", \"run_type\": \"azureml.scriptrun\", \"training_percent\": \"100\", \"start_time\": \"2021-04-19T06:34:03.697163Z\", \"end_time\": \"2021-04-19T06:34:45.193619Z\", \"created_time\": \"2021-04-19T06:33:55.420858Z\", \"created_time_dt\": \"2021-04-19T06:33:55.420858Z\", \"duration\": \"0:00:49\", \"iteration\": \"30\", \"goal\": \"accuracy_max\", \"run_name\": \"StandardScalerWrapper, LightGBM\", \"run_properties\": \"<azureml.automl.runtime.shared.model_wrappers.StandardScalerWrapper object at 0x7f1a1e21b0f0\", \"primary_metric\": 0.725, \"best_metric\": 0.88}, {\"run_id\": \"AutoML_7dfd39c3-7a02-4dea-bd45-57388d5a593f_31\", \"run_number\": 38, \"metric\": null, \"status\": \"Completed\", \"run_type\": \"azureml.scriptrun\", \"training_percent\": \"100\", \"start_time\": \"2021-04-19T06:34:08.04563Z\", \"end_time\": \"2021-04-19T06:34:52.907144Z\", \"created_time\": \"2021-04-19T06:33:58.715278Z\", \"created_time_dt\": \"2021-04-19T06:33:58.715278Z\", \"duration\": \"0:00:54\", \"iteration\": \"31\", \"goal\": \"accuracy_max\", \"run_name\": \"StandardScalerWrapper, LightGBM\", \"run_properties\": \"<azureml.automl.runtime.shared.model_wrappers.StandardScalerWrapper object at 0x7fd3f7ee5eb8\", \"primary_metric\": 0.875, \"best_metric\": 0.88}, {\"run_id\": \"AutoML_7dfd39c3-7a02-4dea-bd45-57388d5a593f_32\", \"run_number\": 39, \"metric\": null, \"status\": \"Completed\", \"run_type\": \"azureml.scriptrun\", \"training_percent\": \"100\", \"start_time\": \"2021-04-19T06:34:30.586275Z\", \"end_time\": \"2021-04-19T06:35:11.913368Z\", \"created_time\": \"2021-04-19T06:34:15.535311Z\", \"created_time_dt\": \"2021-04-19T06:34:15.535311Z\", \"duration\": \"0:00:56\", \"iteration\": \"32\", \"goal\": \"accuracy_max\", \"run_name\": \"StandardScalerWrapper, LightGBM\", \"run_properties\": \"<azureml.automl.runtime.shared.model_wrappers.StandardScalerWrapper object at 0x7f5f9c0af400\", \"primary_metric\": 0.805, \"best_metric\": 0.88}, {\"run_id\": \"AutoML_7dfd39c3-7a02-4dea-bd45-57388d5a593f_33\", \"run_number\": 40, \"metric\": null, \"status\": \"Completed\", \"run_type\": \"azureml.scriptrun\", \"training_percent\": \"100\", \"start_time\": \"2021-04-19T06:34:57.510952Z\", \"end_time\": \"2021-04-19T06:35:41.527353Z\", \"created_time\": \"2021-04-19T06:34:40.625835Z\", \"created_time_dt\": \"2021-04-19T06:34:40.625835Z\", \"duration\": \"0:01:00\", \"iteration\": \"33\", \"goal\": \"accuracy_max\", \"run_name\": \"RobustScaler, RandomForest\", \"run_properties\": \"copy=True, quantile_range=[10, 90], with_centering=True,\\n             with_scaling=False\", \"primary_metric\": 0.85, \"best_metric\": 0.88}, {\"run_id\": \"AutoML_7dfd39c3-7a02-4dea-bd45-57388d5a593f_34\", \"run_number\": 41, \"metric\": null, \"status\": \"Completed\", \"run_type\": \"azureml.scriptrun\", \"training_percent\": \"100\", \"start_time\": \"2021-04-19T06:34:58.491957Z\", \"end_time\": \"2021-04-19T06:35:38.145047Z\", \"created_time\": \"2021-04-19T06:34:47.046897Z\", \"created_time_dt\": \"2021-04-19T06:34:47.046897Z\", \"duration\": \"0:00:51\", \"iteration\": \"34\", \"goal\": \"accuracy_max\", \"run_name\": \"StandardScalerWrapper, ExtremeRandomTrees\", \"run_properties\": \"<azureml.automl.runtime.shared.model_wrappers.StandardScalerWrapper object at 0x7f0efbb0a470\", \"primary_metric\": 0.725, \"best_metric\": 0.88}, {\"run_id\": \"AutoML_7dfd39c3-7a02-4dea-bd45-57388d5a593f_35\", \"run_number\": 42, \"metric\": null, \"status\": \"Completed\", \"run_type\": \"azureml.scriptrun\", \"training_percent\": \"100\", \"start_time\": \"2021-04-19T06:35:09.133309Z\", \"end_time\": \"2021-04-19T06:35:56.039673Z\", \"created_time\": \"2021-04-19T06:34:55.425273Z\", \"created_time_dt\": \"2021-04-19T06:34:55.425273Z\", \"duration\": \"0:01:00\", \"iteration\": \"35\", \"goal\": \"accuracy_max\", \"run_name\": \"RobustScaler, LightGBM\", \"run_properties\": \"copy=True, quantile_range=[10, 90], with_centering=False,\\n             with_scaling=False\", \"primary_metric\": 0.725, \"best_metric\": 0.88}, {\"run_id\": \"AutoML_7dfd39c3-7a02-4dea-bd45-57388d5a593f_36\", \"run_number\": 43, \"metric\": null, \"status\": \"Completed\", \"run_type\": \"azureml.scriptrun\", \"training_percent\": \"100\", \"start_time\": \"2021-04-19T06:35:28.497158Z\", \"end_time\": \"2021-04-19T06:36:15.379987Z\", \"created_time\": \"2021-04-19T06:35:13.67747Z\", \"created_time_dt\": \"2021-04-19T06:35:13.67747Z\", \"duration\": \"0:01:01\", \"iteration\": \"36\", \"goal\": \"accuracy_max\", \"run_name\": \"StandardScalerWrapper, LightGBM\", \"run_properties\": \"<azureml.automl.runtime.shared.model_wrappers.StandardScalerWrapper object at 0x7f86b2b139e8\", \"primary_metric\": 0.87, \"best_metric\": 0.88}, {\"run_id\": \"AutoML_7dfd39c3-7a02-4dea-bd45-57388d5a593f_37\", \"run_number\": 44, \"metric\": null, \"status\": \"Completed\", \"run_type\": \"azureml.scriptrun\", \"training_percent\": \"100\", \"start_time\": \"2021-04-19T06:35:52.586238Z\", \"end_time\": \"2021-04-19T06:36:38.225388Z\", \"created_time\": \"2021-04-19T06:35:39.787231Z\", \"created_time_dt\": \"2021-04-19T06:35:39.787231Z\", \"duration\": \"0:00:58\", \"iteration\": \"37\", \"goal\": \"accuracy_max\", \"run_name\": \"RobustScaler, LightGBM\", \"run_properties\": \"copy=True, quantile_range=[10, 90], with_centering=False,\\n             with_scaling=False\", \"primary_metric\": 0.76, \"best_metric\": 0.88}, {\"run_id\": \"AutoML_7dfd39c3-7a02-4dea-bd45-57388d5a593f_38\", \"run_number\": 45, \"metric\": null, \"status\": \"Completed\", \"run_type\": \"azureml.scriptrun\", \"training_percent\": \"100\", \"start_time\": \"2021-04-19T06:35:55.170831Z\", \"end_time\": \"2021-04-19T06:36:43.701191Z\", \"created_time\": \"2021-04-19T06:35:43.270081Z\", \"created_time_dt\": \"2021-04-19T06:35:43.270081Z\", \"duration\": \"0:01:00\", \"iteration\": \"38\", \"goal\": \"accuracy_max\", \"run_name\": \"SparseNormalizer, XGBoostClassifier\", \"run_properties\": \"<azureml.automl.runtime.shared.model_wrappers.SparseNormalizer object at 0x7f8e7bc9b518\", \"primary_metric\": 0.835, \"best_metric\": 0.88}, {\"run_id\": \"AutoML_7dfd39c3-7a02-4dea-bd45-57388d5a593f_39\", \"run_number\": 46, \"metric\": null, \"status\": \"Completed\", \"run_type\": \"azureml.scriptrun\", \"training_percent\": \"100\", \"start_time\": \"2021-04-19T06:36:14.547104Z\", \"end_time\": \"2021-04-19T06:36:59.007605Z\", \"created_time\": \"2021-04-19T06:35:58.030546Z\", \"created_time_dt\": \"2021-04-19T06:35:58.030546Z\", \"duration\": \"0:01:00\", \"iteration\": \"39\", \"goal\": \"accuracy_max\", \"run_name\": \"StandardScalerWrapper, XGBoostClassifier\", \"run_properties\": \"<azureml.automl.runtime.shared.model_wrappers.StandardScalerWrapper object at 0x7f0a6f2b5400\", \"primary_metric\": 0.87, \"best_metric\": 0.88}, {\"run_id\": \"AutoML_7dfd39c3-7a02-4dea-bd45-57388d5a593f_40\", \"run_number\": 47, \"metric\": null, \"status\": \"Completed\", \"run_type\": \"azureml.scriptrun\", \"training_percent\": \"100\", \"start_time\": \"2021-04-19T06:36:33.139917Z\", \"end_time\": \"2021-04-19T06:37:19.381941Z\", \"created_time\": \"2021-04-19T06:36:18.203388Z\", \"created_time_dt\": \"2021-04-19T06:36:18.203388Z\", \"duration\": \"0:01:01\", \"iteration\": \"40\", \"goal\": \"accuracy_max\", \"run_name\": \"MinMaxScaler, LightGBM\", \"run_properties\": \"copy=True, feature_range=(0, 1\", \"primary_metric\": 0.865, \"best_metric\": 0.88}, {\"run_id\": \"AutoML_7dfd39c3-7a02-4dea-bd45-57388d5a593f_41\", \"run_number\": 48, \"metric\": null, \"status\": \"Completed\", \"run_type\": \"azureml.scriptrun\", \"training_percent\": \"100\", \"start_time\": \"2021-04-19T06:36:51.467204Z\", \"end_time\": \"2021-04-19T06:37:31.728608Z\", \"created_time\": \"2021-04-19T06:36:40.150732Z\", \"created_time_dt\": \"2021-04-19T06:36:40.150732Z\", \"duration\": \"0:00:51\", \"iteration\": \"41\", \"goal\": \"accuracy_max\", \"run_name\": \"SparseNormalizer, XGBoostClassifier\", \"run_properties\": \"<azureml.automl.runtime.shared.model_wrappers.SparseNormalizer object at 0x7fe40a485320\", \"primary_metric\": 0.835, \"best_metric\": 0.88}, {\"run_id\": \"AutoML_7dfd39c3-7a02-4dea-bd45-57388d5a593f_42\", \"run_number\": 49, \"metric\": null, \"status\": \"Canceled\", \"run_type\": \"azureml.scriptrun\", \"training_percent\": \"100\", \"start_time\": \"2021-04-19T06:36:58.844671Z\", \"end_time\": \"2021-04-19T06:37:38.719505Z\", \"created_time\": \"2021-04-19T06:36:45.607011Z\", \"created_time_dt\": \"2021-04-19T06:36:45.607011Z\", \"duration\": \"0:00:53\", \"iteration\": \"42\", \"goal\": \"accuracy_max\", \"run_name\": \"RobustScaler, RandomForest\", \"run_properties\": \"copy=True, quantile_range=[10, 90], with_centering=True,\\n             with_scaling=False\", \"primary_metric\": 0.855, \"best_metric\": 0.88}, {\"run_id\": \"AutoML_7dfd39c3-7a02-4dea-bd45-57388d5a593f_43\", \"run_number\": 50, \"metric\": null, \"status\": \"Canceled\", \"run_type\": \"azureml.scriptrun\", \"training_percent\": \"100\", \"start_time\": \"2021-04-19T06:37:15.165881Z\", \"end_time\": \"2021-04-19T06:37:39.840963Z\", \"created_time\": \"2021-04-19T06:37:01.06517Z\", \"created_time_dt\": \"2021-04-19T06:37:01.06517Z\", \"duration\": \"0:00:38\", \"iteration\": \"43\", \"goal\": \"accuracy_max\", \"run_name\": \"MinMaxScaler, LightGBM\", \"run_properties\": \"copy=True, feature_range=(0, 1\", \"primary_metric\": 0.845, \"best_metric\": 0.88}, {\"run_id\": \"AutoML_7dfd39c3-7a02-4dea-bd45-57388d5a593f_44\", \"run_number\": 51, \"metric\": null, \"status\": \"Canceled\", \"run_type\": \"azureml.scriptrun\", \"training_percent\": \"100\", \"start_time\": \"2021-04-19T06:37:21.196986Z\", \"end_time\": \"2021-04-19T06:37:38.908489Z\", \"created_time\": \"2021-04-19T06:37:21.196986Z\", \"created_time_dt\": \"2021-04-19T06:37:21.196986Z\", \"duration\": \"0:00:17\", \"iteration\": \"44\", \"goal\": null, \"run_name\": \"Canceled\", \"run_properties\": null}, {\"run_id\": \"AutoML_7dfd39c3-7a02-4dea-bd45-57388d5a593f_46\", \"run_number\": 52, \"metric\": null, \"status\": \"Completed\", \"run_type\": \"azureml.scriptrun\", \"training_percent\": \"100\", \"start_time\": \"2021-04-19T06:37:53.402111Z\", \"end_time\": \"2021-04-19T06:39:11.278603Z\", \"created_time\": \"2021-04-19T06:37:41.89526Z\", \"created_time_dt\": \"2021-04-19T06:37:41.89526Z\", \"duration\": \"0:01:29\", \"iteration\": \"46\", \"goal\": \"accuracy_max\", \"run_name\": \"StackEnsemble\", \"run_properties\": \"base_learners=[('28',\\n                                        Pipeline(memory=None,\\n                                                 steps=[('robustscaler',\\n                                                         RobustScaler(copy=True,\\n                                                                      quantile_range=[10,\\n                                                                                      90],\\n                                                                      with_centering=True,\\n                                                                      with_scaling=False\", \"primary_metric\": 0.885, \"best_metric\": 0.885}, {\"run_id\": \"AutoML_7dfd39c3-7a02-4dea-bd45-57388d5a593f_45\", \"run_number\": 53, \"metric\": null, \"status\": \"Completed\", \"run_type\": \"azureml.scriptrun\", \"training_percent\": \"100\", \"start_time\": \"2021-04-19T06:37:52.460502Z\", \"end_time\": \"2021-04-19T06:39:03.531472Z\", \"created_time\": \"2021-04-19T06:37:42.140115Z\", \"created_time_dt\": \"2021-04-19T06:37:42.140115Z\", \"duration\": \"0:01:21\", \"iteration\": \"45\", \"goal\": \"accuracy_max\", \"run_name\": \"VotingEnsemble\", \"run_properties\": \"classification_labels=None,\\n                              estimators=[('28',\\n                                           Pipeline(memory=None,\\n                                                    steps=[('robustscaler',\\n                                                            RobustScaler(copy=True,\\n                                                                         quantile_range=[10,\\n                                                                                         90],\\n                                                                         with_centering=True,\\n                                                                         with_scaling=False\", \"primary_metric\": 0.885, \"best_metric\": 0.885}], \"children_metrics\": {\"categories\": [0], \"series\": {\"balanced_accuracy\": [{\"categories\": [\"0\", \"1\", \"2\", \"3\", \"4\", \"5\", \"6\", \"7\", \"8\", \"9\", \"10\", \"11\", \"12\", \"13\", \"14\", \"15\", \"16\", \"17\", \"18\", \"19\", \"20\", \"21\", \"22\", \"23\", \"24\", \"25\", \"26\", \"27\", \"28\", \"29\", \"30\", \"31\", \"32\", \"33\", \"34\", \"35\", \"36\", \"37\", \"38\", \"39\", \"40\", \"41\", \"42\", \"43\", \"45\", \"46\"], \"mode\": \"markers\", \"name\": \"balanced_accuracy\", \"stepped\": false, \"type\": \"scatter\", \"data\": [0.7704739621705695, 0.7879795538011611, 0.7911182825794894, 0.7525353332707339, 0.7818528168624109, 0.7655917674279744, 0.6070238327980263, 0.795023204594812, 0.7627238020600089, 0.5901874098124098, 0.7780960964323034, 0.7603685064935064, 0.7378141700253769, 0.7603685064935064, 0.7819222380326384, 0.7511109307359306, 0.7713323443797582, 0.7276190273544278, 0.7182395382395382, 0.788618666604067, 0.715553167139374, 0.7749397111509179, 0.7816063778175847, 0.7732259695717705, 0.594431841456035, 0.5, 0.7814307419499299, 0.7217939680051749, 0.8004002757994695, 0.7893805713659718, 0.5, 0.7835351731601732, 0.6848719801703672, 0.7716841427945432, 0.5, 0.5, 0.78784447305568, 0.5800604256854257, 0.7460932337036341, 0.7926063778175847, 0.7816063778175847, 0.7382079290441359, 0.7787806202418271, 0.7292422438672439, 0.8036260822510822, 0.8036260822510822]}, {\"categories\": [\"0\", \"1\", \"2\", \"3\", \"4\", \"5\", \"6\", \"7\", \"8\", \"9\", \"10\", \"11\", \"12\", \"13\", \"14\", \"15\", \"16\", \"17\", \"18\", \"19\", \"20\", \"21\", \"22\", \"23\", \"24\", \"25\", \"26\", \"27\", \"28\", \"29\", \"30\", \"31\", \"32\", \"33\", \"34\", \"35\", \"36\", \"37\", \"38\", \"39\", \"40\", \"41\", \"42\", \"43\", \"45\", \"46\"], \"mode\": \"lines\", \"name\": \"balanced_accuracy_max\", \"stepped\": true, \"type\": \"scatter\", \"data\": [0.7704739621705695, 0.7879795538011611, 0.7911182825794894, 0.7911182825794894, 0.7911182825794894, 0.7911182825794894, 0.7911182825794894, 0.795023204594812, 0.795023204594812, 0.795023204594812, 0.795023204594812, 0.795023204594812, 0.795023204594812, 0.795023204594812, 0.795023204594812, 0.795023204594812, 0.795023204594812, 0.795023204594812, 0.795023204594812, 0.795023204594812, 0.795023204594812, 0.795023204594812, 0.795023204594812, 0.795023204594812, 0.795023204594812, 0.795023204594812, 0.795023204594812, 0.795023204594812, 0.8004002757994695, 0.8004002757994695, 0.8004002757994695, 0.8004002757994695, 0.8004002757994695, 0.8004002757994695, 0.8004002757994695, 0.8004002757994695, 0.8004002757994695, 0.8004002757994695, 0.8004002757994695, 0.8004002757994695, 0.8004002757994695, 0.8004002757994695, 0.8004002757994695, 0.8004002757994695, 0.8036260822510822, 0.8036260822510822]}], \"f1_score_weighted\": [{\"categories\": [\"0\", \"1\", \"2\", \"3\", \"4\", \"5\", \"6\", \"7\", \"8\", \"9\", \"10\", \"11\", \"12\", \"13\", \"14\", \"15\", \"16\", \"17\", \"18\", \"19\", \"20\", \"21\", \"22\", \"23\", \"24\", \"25\", \"26\", \"27\", \"28\", \"29\", \"30\", \"31\", \"32\", \"33\", \"34\", \"35\", \"36\", \"37\", \"38\", \"39\", \"40\", \"41\", \"42\", \"43\", \"45\", \"46\"], \"mode\": \"markers\", \"name\": \"f1_score_weighted\", \"stepped\": false, \"type\": \"scatter\", \"data\": [0.8386665289449565, 0.8461642543558023, 0.8560765286940402, 0.8312840106399662, 0.8421301358822436, 0.8403311859293915, 0.7156522606398392, 0.8589644500610436, 0.8416676208728978, 0.7167125642718862, 0.8451009391632095, 0.8474214912405656, 0.8293453747317556, 0.8474214912405656, 0.8530707359667484, 0.8404487794774573, 0.8385742382617382, 0.8037930815002922, 0.8024877443193462, 0.8616115196078432, 0.7948488177337414, 0.8514971167084825, 0.8568056857594453, 0.8389348132147321, 0.7152019279385009, 0.610906356670198, 0.8100294763514556, 0.8164191904557017, 0.8725193253823516, 0.858297783394377, 0.610906356670198, 0.8651551088590939, 0.7870875838976101, 0.8435443591336711, 0.610906356670198, 0.610906356670198, 0.8615432972196324, 0.7021554070053369, 0.825802715502193, 0.8630814372405309, 0.8568056857594453, 0.8244891332511107, 0.8481798378142985, 0.8258148765042147, 0.8773029792285054, 0.8773029792285054]}, {\"categories\": [\"0\", \"1\", \"2\", \"3\", \"4\", \"5\", \"6\", \"7\", \"8\", \"9\", \"10\", \"11\", \"12\", \"13\", \"14\", \"15\", \"16\", \"17\", \"18\", \"19\", \"20\", \"21\", \"22\", \"23\", \"24\", \"25\", \"26\", \"27\", \"28\", \"29\", \"30\", \"31\", \"32\", \"33\", \"34\", \"35\", \"36\", \"37\", \"38\", \"39\", \"40\", \"41\", \"42\", \"43\", \"45\", \"46\"], \"mode\": \"lines\", \"name\": \"f1_score_weighted_max\", \"stepped\": true, \"type\": \"scatter\", \"data\": [0.8386665289449565, 0.8461642543558023, 0.8560765286940402, 0.8560765286940402, 0.8560765286940402, 0.8560765286940402, 0.8560765286940402, 0.8589644500610436, 0.8589644500610436, 0.8589644500610436, 0.8589644500610436, 0.8589644500610436, 0.8589644500610436, 0.8589644500610436, 0.8589644500610436, 0.8589644500610436, 0.8589644500610436, 0.8589644500610436, 0.8589644500610436, 0.8616115196078432, 0.8616115196078432, 0.8616115196078432, 0.8616115196078432, 0.8616115196078432, 0.8616115196078432, 0.8616115196078432, 0.8616115196078432, 0.8616115196078432, 0.8725193253823516, 0.8725193253823516, 0.8725193253823516, 0.8725193253823516, 0.8725193253823516, 0.8725193253823516, 0.8725193253823516, 0.8725193253823516, 0.8725193253823516, 0.8725193253823516, 0.8725193253823516, 0.8725193253823516, 0.8725193253823516, 0.8725193253823516, 0.8725193253823516, 0.8725193253823516, 0.8773029792285054, 0.8773029792285054]}], \"precision_score_macro\": [{\"categories\": [\"0\", \"1\", \"2\", \"3\", \"4\", \"5\", \"6\", \"7\", \"8\", \"9\", \"10\", \"11\", \"12\", \"13\", \"14\", \"15\", \"16\", \"17\", \"18\", \"19\", \"20\", \"21\", \"22\", \"23\", \"24\", \"25\", \"26\", \"27\", \"28\", \"29\", \"30\", \"31\", \"32\", \"33\", \"34\", \"35\", \"36\", \"37\", \"38\", \"39\", \"40\", \"41\", \"42\", \"43\", \"45\", \"46\"], \"mode\": \"markers\", \"name\": \"precision_score_macro\", \"stepped\": false, \"type\": \"scatter\", \"data\": [0.8074244263560326, 0.8043824144077695, 0.8309796768169633, 0.7981288022013828, 0.7976453081232494, 0.8147460991634254, 0.7249335391131057, 0.8389061178285315, 0.8290031540600801, 0.7830057135010696, 0.8238870932988581, 0.8555562787180435, 0.839884984296749, 0.8555562787180435, 0.8275276264953684, 0.8580999066293185, 0.809792154390719, 0.7704547413370942, 0.7837974212167761, 0.8518626239352045, 0.7667995223167636, 0.8486114489909555, 0.85298670336621, 0.809657741205155, 0.7235162229899073, 0.3625, 0.7580083105037734, 0.8238303526538822, 0.8686748999208677, 0.8431959572685379, 0.3625, 0.8776129507747156, 0.7698051948051947, 0.8157249560475368, 0.3625, 0.3625, 0.8606657179000633, 0.7627074442863917, 0.79295670995671, 0.8577490512333966, 0.85298670336621, 0.804904761904762, 0.8233455882352942, 0.8480219780219782, 0.8832279938857264, 0.8832279938857264]}, {\"categories\": [\"0\", \"1\", \"2\", \"3\", \"4\", \"5\", \"6\", \"7\", \"8\", \"9\", \"10\", \"11\", \"12\", \"13\", \"14\", \"15\", \"16\", \"17\", \"18\", \"19\", \"20\", \"21\", \"22\", \"23\", \"24\", \"25\", \"26\", \"27\", \"28\", \"29\", \"30\", \"31\", \"32\", \"33\", \"34\", \"35\", \"36\", \"37\", \"38\", \"39\", \"40\", \"41\", \"42\", \"43\", \"45\", \"46\"], \"mode\": \"lines\", \"name\": \"precision_score_macro_max\", \"stepped\": true, \"type\": \"scatter\", \"data\": [0.8074244263560326, 0.8074244263560326, 0.8309796768169633, 0.8309796768169633, 0.8309796768169633, 0.8309796768169633, 0.8309796768169633, 0.8389061178285315, 0.8389061178285315, 0.8389061178285315, 0.8389061178285315, 0.8555562787180435, 0.8555562787180435, 0.8555562787180435, 0.8555562787180435, 0.8580999066293185, 0.8580999066293185, 0.8580999066293185, 0.8580999066293185, 0.8580999066293185, 0.8580999066293185, 0.8580999066293185, 0.8580999066293185, 0.8580999066293185, 0.8580999066293185, 0.8580999066293185, 0.8580999066293185, 0.8580999066293185, 0.8686748999208677, 0.8686748999208677, 0.8686748999208677, 0.8776129507747156, 0.8776129507747156, 0.8776129507747156, 0.8776129507747156, 0.8776129507747156, 0.8776129507747156, 0.8776129507747156, 0.8776129507747156, 0.8776129507747156, 0.8776129507747156, 0.8776129507747156, 0.8776129507747156, 0.8776129507747156, 0.8832279938857264, 0.8832279938857264]}], \"AUC_macro\": [{\"categories\": [\"0\", \"1\", \"2\", \"3\", \"4\", \"5\", \"6\", \"7\", \"8\", \"9\", \"10\", \"11\", \"12\", \"13\", \"14\", \"15\", \"16\", \"17\", \"18\", \"19\", \"20\", \"21\", \"22\", \"23\", \"24\", \"25\", \"26\", \"27\", \"28\", \"29\", \"30\", \"31\", \"32\", \"33\", \"34\", \"35\", \"36\", \"37\", \"38\", \"39\", \"40\", \"41\", \"42\", \"43\", \"45\", \"46\"], \"mode\": \"markers\", \"name\": \"AUC_macro\", \"stepped\": false, \"type\": \"scatter\", \"data\": [0.8725806656064858, 0.870543755166475, 0.8775186814614443, 0.8921731936499109, 0.881998944454075, 0.8870678023280638, 0.7687466599392142, 0.8968730856655703, 0.8868014737494925, 0.8134585731480545, 0.8845003587339306, 0.8761043600232421, 0.889955106247803, 0.8752018915317163, 0.8853513757871101, 0.8794599134118878, 0.8845024124979736, 0.8688854908933606, 0.8570684170783796, 0.8919619741431477, 0.86406156223967, 0.8795623244100789, 0.8739504688400371, 0.8675192950781451, 0.7573577592627372, 0.8335839927912125, 0.8294633284417351, 0.8650209785915326, 0.881864462146894, 0.8904269344786655, 0.7949953781468346, 0.8831143859639619, 0.8774453124322841, 0.9038114866787212, 0.8732860438064902, 0.871398319024706, 0.8861481976727388, 0.8944651522575187, 0.8801291200078811, 0.8960823143339482, 0.8741989042508752, 0.8759923393316607, 0.8932096392275689, 0.8911469171795019, 0.9082762174221155, 0.9089930633002516]}, {\"categories\": [\"0\", \"1\", \"2\", \"3\", \"4\", \"5\", \"6\", \"7\", \"8\", \"9\", \"10\", \"11\", \"12\", \"13\", \"14\", \"15\", \"16\", \"17\", \"18\", \"19\", \"20\", \"21\", \"22\", \"23\", \"24\", \"25\", \"26\", \"27\", \"28\", \"29\", \"30\", \"31\", \"32\", \"33\", \"34\", \"35\", \"36\", \"37\", \"38\", \"39\", \"40\", \"41\", \"42\", \"43\", \"45\", \"46\"], \"mode\": \"lines\", \"name\": \"AUC_macro_max\", \"stepped\": true, \"type\": \"scatter\", \"data\": [0.8725806656064858, 0.8725806656064858, 0.8775186814614443, 0.8921731936499109, 0.8921731936499109, 0.8921731936499109, 0.8921731936499109, 0.8968730856655703, 0.8968730856655703, 0.8968730856655703, 0.8968730856655703, 0.8968730856655703, 0.8968730856655703, 0.8968730856655703, 0.8968730856655703, 0.8968730856655703, 0.8968730856655703, 0.8968730856655703, 0.8968730856655703, 0.8968730856655703, 0.8968730856655703, 0.8968730856655703, 0.8968730856655703, 0.8968730856655703, 0.8968730856655703, 0.8968730856655703, 0.8968730856655703, 0.8968730856655703, 0.8968730856655703, 0.8968730856655703, 0.8968730856655703, 0.8968730856655703, 0.8968730856655703, 0.9038114866787212, 0.9038114866787212, 0.9038114866787212, 0.9038114866787212, 0.9038114866787212, 0.9038114866787212, 0.9038114866787212, 0.9038114866787212, 0.9038114866787212, 0.9038114866787212, 0.9038114866787212, 0.9082762174221155, 0.9089930633002516]}], \"log_loss\": [{\"categories\": [\"0\", \"1\", \"2\", \"3\", \"4\", \"5\", \"6\", \"7\", \"8\", \"9\", \"10\", \"11\", \"12\", \"13\", \"14\", \"15\", \"16\", \"17\", \"18\", \"19\", \"20\", \"21\", \"22\", \"23\", \"24\", \"25\", \"26\", \"27\", \"28\", \"29\", \"30\", \"31\", \"32\", \"33\", \"34\", \"35\", \"36\", \"37\", \"38\", \"39\", \"40\", \"41\", \"42\", \"43\", \"45\", \"46\"], \"mode\": \"markers\", \"name\": \"log_loss\", \"stepped\": false, \"type\": \"scatter\", \"data\": [0.4476168340485297, 0.415228338354097, 0.36216990978432234, 0.37357682504719913, 0.3624260362463726, 0.3728942211633365, 0.5133367089765606, 0.3530674760308938, 0.38271301233793825, 0.48934480303755257, 0.3728852402217644, 0.37407031888412473, 0.43389114876758816, 0.38348872760407726, 0.3553623527485114, 0.4006244744550186, 0.3754983740128209, 0.38762338983853795, 0.47153207571306294, 0.37100312908250316, 0.4282233560023105, 0.41002930558172446, 0.38002876607194686, 0.45925100107700734, 0.9831411652544265, 0.5934120386164288, 0.6466564485822393, 0.42400742244045037, 0.3603750115896212, 0.3599120647620528, 0.5057453210324064, 0.3946827060758821, 0.4125748137136561, 0.35440808211781466, 0.49442131689824426, 0.5061079128650205, 0.37866626459451674, 0.46034372657841305, 0.38655449154568694, 0.38265610054303356, 0.4353081571703704, 0.4028764820655885, 0.35643828836259334, 0.38945433026954157, 0.36715186648413123, 0.3648240126044199]}, {\"categories\": [\"0\", \"1\", \"2\", \"3\", \"4\", \"5\", \"6\", \"7\", \"8\", \"9\", \"10\", \"11\", \"12\", \"13\", \"14\", \"15\", \"16\", \"17\", \"18\", \"19\", \"20\", \"21\", \"22\", \"23\", \"24\", \"25\", \"26\", \"27\", \"28\", \"29\", \"30\", \"31\", \"32\", \"33\", \"34\", \"35\", \"36\", \"37\", \"38\", \"39\", \"40\", \"41\", \"42\", \"43\", \"45\", \"46\"], \"mode\": \"lines\", \"name\": \"log_loss_min\", \"stepped\": true, \"type\": \"scatter\", \"data\": [0.4476168340485297, 0.415228338354097, 0.36216990978432234, 0.36216990978432234, 0.36216990978432234, 0.36216990978432234, 0.36216990978432234, 0.3530674760308938, 0.3530674760308938, 0.3530674760308938, 0.3530674760308938, 0.3530674760308938, 0.3530674760308938, 0.3530674760308938, 0.3530674760308938, 0.3530674760308938, 0.3530674760308938, 0.3530674760308938, 0.3530674760308938, 0.3530674760308938, 0.3530674760308938, 0.3530674760308938, 0.3530674760308938, 0.3530674760308938, 0.3530674760308938, 0.3530674760308938, 0.3530674760308938, 0.3530674760308938, 0.3530674760308938, 0.3530674760308938, 0.3530674760308938, 0.3530674760308938, 0.3530674760308938, 0.3530674760308938, 0.3530674760308938, 0.3530674760308938, 0.3530674760308938, 0.3530674760308938, 0.3530674760308938, 0.3530674760308938, 0.3530674760308938, 0.3530674760308938, 0.3530674760308938, 0.3530674760308938, 0.3530674760308938, 0.3530674760308938]}], \"precision_score_micro\": [{\"categories\": [\"0\", \"1\", \"2\", \"3\", \"4\", \"5\", \"6\", \"7\", \"8\", \"9\", \"10\", \"11\", \"12\", \"13\", \"14\", \"15\", \"16\", \"17\", \"18\", \"19\", \"20\", \"21\", \"22\", \"23\", \"24\", \"25\", \"26\", \"27\", \"28\", \"29\", \"30\", \"31\", \"32\", \"33\", \"34\", \"35\", \"36\", \"37\", \"38\", \"39\", \"40\", \"41\", \"42\", \"43\", \"45\", \"46\"], \"mode\": \"markers\", \"name\": \"precision_score_micro\", \"stepped\": false, \"type\": \"scatter\", \"data\": [0.845, 0.85, 0.86, 0.8400000000000001, 0.845, 0.8499999999999999, 0.755, 0.865, 0.85, 0.77, 0.85, 0.86, 0.8450000000000001, 0.86, 0.86, 0.8550000000000001, 0.845, 0.8099999999999999, 0.8099999999999999, 0.8699999999999999, 0.8, 0.8600000000000001, 0.865, 0.845, 0.76, 0.725, 0.805, 0.835, 0.8799999999999999, 0.865, 0.725, 0.875, 0.8049999999999999, 0.85, 0.725, 0.725, 0.8699999999999999, 0.76, 0.835, 0.8699999999999999, 0.865, 0.835, 0.8550000000000001, 0.845, 0.885, 0.885]}, {\"categories\": [\"0\", \"1\", \"2\", \"3\", \"4\", \"5\", \"6\", \"7\", \"8\", \"9\", \"10\", \"11\", \"12\", \"13\", \"14\", \"15\", \"16\", \"17\", \"18\", \"19\", \"20\", \"21\", \"22\", \"23\", \"24\", \"25\", \"26\", \"27\", \"28\", \"29\", \"30\", \"31\", \"32\", \"33\", \"34\", \"35\", \"36\", \"37\", \"38\", \"39\", \"40\", \"41\", \"42\", \"43\", \"45\", \"46\"], \"mode\": \"lines\", \"name\": \"precision_score_micro_max\", \"stepped\": true, \"type\": \"scatter\", \"data\": [0.845, 0.85, 0.86, 0.86, 0.86, 0.86, 0.86, 0.865, 0.865, 0.865, 0.865, 0.865, 0.865, 0.865, 0.865, 0.865, 0.865, 0.865, 0.865, 0.8699999999999999, 0.8699999999999999, 0.8699999999999999, 0.8699999999999999, 0.8699999999999999, 0.8699999999999999, 0.8699999999999999, 0.8699999999999999, 0.8699999999999999, 0.8799999999999999, 0.8799999999999999, 0.8799999999999999, 0.8799999999999999, 0.8799999999999999, 0.8799999999999999, 0.8799999999999999, 0.8799999999999999, 0.8799999999999999, 0.8799999999999999, 0.8799999999999999, 0.8799999999999999, 0.8799999999999999, 0.8799999999999999, 0.8799999999999999, 0.8799999999999999, 0.885, 0.885]}], \"average_precision_score_macro\": [{\"categories\": [\"0\", \"1\", \"2\", \"3\", \"4\", \"5\", \"6\", \"7\", \"8\", \"9\", \"10\", \"11\", \"12\", \"13\", \"14\", \"15\", \"16\", \"17\", \"18\", \"19\", \"20\", \"21\", \"22\", \"23\", \"24\", \"25\", \"26\", \"27\", \"28\", \"29\", \"30\", \"31\", \"32\", \"33\", \"34\", \"35\", \"36\", \"37\", \"38\", \"39\", \"40\", \"41\", \"42\", \"43\", \"45\", \"46\"], \"mode\": \"markers\", \"name\": \"average_precision_score_macro\", \"stepped\": false, \"type\": \"scatter\", \"data\": [0.8581143989645288, 0.8548490637424653, 0.8481524243299857, 0.8627639169391215, 0.8513213013094305, 0.8546873986331356, 0.7524966354516083, 0.8692055642382199, 0.862400726644314, 0.77185131392567, 0.8547567658925328, 0.8648814284881585, 0.8640716415231484, 0.8627948676046104, 0.855755460190976, 0.8663577874920424, 0.8586192489806654, 0.8363072014545061, 0.8304540243176962, 0.8670145750119559, 0.8367013239056916, 0.8503777352832526, 0.858356391948919, 0.8394379730154613, 0.730267762759594, 0.7929924615128263, 0.8027309978991157, 0.8492808303090609, 0.8608171571269818, 0.8663384615637314, 0.743167528283377, 0.8628324323590892, 0.8409344910342673, 0.87040279887384, 0.8455021250566761, 0.8318710552370749, 0.8632255928620204, 0.8755204610657124, 0.8534446340290824, 0.8746359150265246, 0.8441037073996872, 0.8519124779837274, 0.8697530356162362, 0.8645410559439078, 0.8779202126255777, 0.8787650500709356]}, {\"categories\": [\"0\", \"1\", \"2\", \"3\", \"4\", \"5\", \"6\", \"7\", \"8\", \"9\", \"10\", \"11\", \"12\", \"13\", \"14\", \"15\", \"16\", \"17\", \"18\", \"19\", \"20\", \"21\", \"22\", \"23\", \"24\", \"25\", \"26\", \"27\", \"28\", \"29\", \"30\", \"31\", \"32\", \"33\", \"34\", \"35\", \"36\", \"37\", \"38\", \"39\", \"40\", \"41\", \"42\", \"43\", \"45\", \"46\"], \"mode\": \"lines\", \"name\": \"average_precision_score_macro_max\", \"stepped\": true, \"type\": \"scatter\", \"data\": [0.8581143989645288, 0.8581143989645288, 0.8581143989645288, 0.8627639169391215, 0.8627639169391215, 0.8627639169391215, 0.8627639169391215, 0.8692055642382199, 0.8692055642382199, 0.8692055642382199, 0.8692055642382199, 0.8692055642382199, 0.8692055642382199, 0.8692055642382199, 0.8692055642382199, 0.8692055642382199, 0.8692055642382199, 0.8692055642382199, 0.8692055642382199, 0.8692055642382199, 0.8692055642382199, 0.8692055642382199, 0.8692055642382199, 0.8692055642382199, 0.8692055642382199, 0.8692055642382199, 0.8692055642382199, 0.8692055642382199, 0.8692055642382199, 0.8692055642382199, 0.8692055642382199, 0.8692055642382199, 0.8692055642382199, 0.87040279887384, 0.87040279887384, 0.87040279887384, 0.87040279887384, 0.8755204610657124, 0.8755204610657124, 0.8755204610657124, 0.8755204610657124, 0.8755204610657124, 0.8755204610657124, 0.8755204610657124, 0.8779202126255777, 0.8787650500709356]}], \"recall_score_micro\": [{\"categories\": [\"0\", \"1\", \"2\", \"3\", \"4\", \"5\", \"6\", \"7\", \"8\", \"9\", \"10\", \"11\", \"12\", \"13\", \"14\", \"15\", \"16\", \"17\", \"18\", \"19\", \"20\", \"21\", \"22\", \"23\", \"24\", \"25\", \"26\", \"27\", \"28\", \"29\", \"30\", \"31\", \"32\", \"33\", \"34\", \"35\", \"36\", \"37\", \"38\", \"39\", \"40\", \"41\", \"42\", \"43\", \"45\", \"46\"], \"mode\": \"markers\", \"name\": \"recall_score_micro\", \"stepped\": false, \"type\": \"scatter\", \"data\": [0.845, 0.85, 0.86, 0.8400000000000001, 0.845, 0.8499999999999999, 0.755, 0.865, 0.85, 0.77, 0.85, 0.86, 0.8450000000000001, 0.86, 0.86, 0.8550000000000001, 0.845, 0.8099999999999999, 0.8099999999999999, 0.8699999999999999, 0.8, 0.8600000000000001, 0.865, 0.845, 0.76, 0.725, 0.805, 0.835, 0.8799999999999999, 0.865, 0.725, 0.875, 0.8049999999999999, 0.85, 0.725, 0.725, 0.8699999999999999, 0.76, 0.835, 0.8699999999999999, 0.865, 0.835, 0.8550000000000001, 0.845, 0.885, 0.885]}, {\"categories\": [\"0\", \"1\", \"2\", \"3\", \"4\", \"5\", \"6\", \"7\", \"8\", \"9\", \"10\", \"11\", \"12\", \"13\", \"14\", \"15\", \"16\", \"17\", \"18\", \"19\", \"20\", \"21\", \"22\", \"23\", \"24\", \"25\", \"26\", \"27\", \"28\", \"29\", \"30\", \"31\", \"32\", \"33\", \"34\", \"35\", \"36\", \"37\", \"38\", \"39\", \"40\", \"41\", \"42\", \"43\", \"45\", \"46\"], \"mode\": \"lines\", \"name\": \"recall_score_micro_max\", \"stepped\": true, \"type\": \"scatter\", \"data\": [0.845, 0.85, 0.86, 0.86, 0.86, 0.86, 0.86, 0.865, 0.865, 0.865, 0.865, 0.865, 0.865, 0.865, 0.865, 0.865, 0.865, 0.865, 0.865, 0.8699999999999999, 0.8699999999999999, 0.8699999999999999, 0.8699999999999999, 0.8699999999999999, 0.8699999999999999, 0.8699999999999999, 0.8699999999999999, 0.8699999999999999, 0.8799999999999999, 0.8799999999999999, 0.8799999999999999, 0.8799999999999999, 0.8799999999999999, 0.8799999999999999, 0.8799999999999999, 0.8799999999999999, 0.8799999999999999, 0.8799999999999999, 0.8799999999999999, 0.8799999999999999, 0.8799999999999999, 0.8799999999999999, 0.8799999999999999, 0.8799999999999999, 0.885, 0.885]}], \"weighted_accuracy\": [{\"categories\": [\"0\", \"1\", \"2\", \"3\", \"4\", \"5\", \"6\", \"7\", \"8\", \"9\", \"10\", \"11\", \"12\", \"13\", \"14\", \"15\", \"16\", \"17\", \"18\", \"19\", \"20\", \"21\", \"22\", \"23\", \"24\", \"25\", \"26\", \"27\", \"28\", \"29\", \"30\", \"31\", \"32\", \"33\", \"34\", \"35\", \"36\", \"37\", \"38\", \"39\", \"40\", \"41\", \"42\", \"43\", \"45\", \"46\"], \"mode\": \"markers\", \"name\": \"weighted_accuracy\", \"stepped\": false, \"type\": \"scatter\", \"data\": [0.8866220714530059, 0.884601938198178, 0.8977392044858845, 0.8901562484760268, 0.8795052251790347, 0.897789682487681, 0.8456473074833577, 0.9032598865188127, 0.9010202535174405, 0.8786357110690485, 0.8902289465293791, 0.9174956070110497, 0.9093725284011557, 0.9174956070110497, 0.9044158833644648, 0.9173892321075146, 0.8863905098714697, 0.8589816555645259, 0.8637600462038953, 0.9163327190642621, 0.8484003113715438, 0.9091895087455194, 0.9127189205102253, 0.8851596891296447, 0.8612961627671014, 0.8635566847804977, 0.8162969065773588, 0.9024066285015934, 0.9249480319899197, 0.9070020902610165, 0.8635566847804977, 0.9283779599522262, 0.8766911958256813, 0.8948519888411383, 0.8635566847804977, 0.8635566847804977, 0.9164004620923754, 0.8705659980425315, 0.8852121453777654, 0.9129521862303065, 0.9127189205102253, 0.8894347941301646, 0.8983019688417523, 0.9143180874718759, 0.9308981279592097, 0.9308981279592097]}, {\"categories\": [\"0\", \"1\", \"2\", \"3\", \"4\", \"5\", \"6\", \"7\", \"8\", \"9\", \"10\", \"11\", \"12\", \"13\", \"14\", \"15\", \"16\", \"17\", \"18\", \"19\", \"20\", \"21\", \"22\", \"23\", \"24\", \"25\", \"26\", \"27\", \"28\", \"29\", \"30\", \"31\", \"32\", \"33\", \"34\", \"35\", \"36\", \"37\", \"38\", \"39\", \"40\", \"41\", \"42\", \"43\", \"45\", \"46\"], \"mode\": \"lines\", \"name\": \"weighted_accuracy_max\", \"stepped\": true, \"type\": \"scatter\", \"data\": [0.8866220714530059, 0.8866220714530059, 0.8977392044858845, 0.8977392044858845, 0.8977392044858845, 0.897789682487681, 0.897789682487681, 0.9032598865188127, 0.9032598865188127, 0.9032598865188127, 0.9032598865188127, 0.9174956070110497, 0.9174956070110497, 0.9174956070110497, 0.9174956070110497, 0.9174956070110497, 0.9174956070110497, 0.9174956070110497, 0.9174956070110497, 0.9174956070110497, 0.9174956070110497, 0.9174956070110497, 0.9174956070110497, 0.9174956070110497, 0.9174956070110497, 0.9174956070110497, 0.9174956070110497, 0.9174956070110497, 0.9249480319899197, 0.9249480319899197, 0.9249480319899197, 0.9283779599522262, 0.9283779599522262, 0.9283779599522262, 0.9283779599522262, 0.9283779599522262, 0.9283779599522262, 0.9283779599522262, 0.9283779599522262, 0.9283779599522262, 0.9283779599522262, 0.9283779599522262, 0.9283779599522262, 0.9283779599522262, 0.9308981279592097, 0.9308981279592097]}], \"accuracy\": [{\"categories\": [\"0\", \"1\", \"2\", \"3\", \"4\", \"5\", \"6\", \"7\", \"8\", \"9\", \"10\", \"11\", \"12\", \"13\", \"14\", \"15\", \"16\", \"17\", \"18\", \"19\", \"20\", \"21\", \"22\", \"23\", \"24\", \"25\", \"26\", \"27\", \"28\", \"29\", \"30\", \"31\", \"32\", \"33\", \"34\", \"35\", \"36\", \"37\", \"38\", \"39\", \"40\", \"41\", \"42\", \"43\", \"45\", \"46\"], \"mode\": \"markers\", \"name\": \"accuracy\", \"stepped\": false, \"type\": \"scatter\", \"data\": [0.845, 0.85, 0.86, 0.8400000000000001, 0.845, 0.8499999999999999, 0.755, 0.865, 0.85, 0.77, 0.85, 0.86, 0.8450000000000001, 0.86, 0.86, 0.8550000000000001, 0.845, 0.8099999999999999, 0.8099999999999999, 0.8699999999999999, 0.8, 0.8600000000000001, 0.865, 0.845, 0.76, 0.725, 0.805, 0.835, 0.8799999999999999, 0.865, 0.725, 0.875, 0.8049999999999999, 0.85, 0.725, 0.725, 0.8699999999999999, 0.76, 0.835, 0.8699999999999999, 0.865, 0.835, 0.8550000000000001, 0.845, 0.885, 0.885]}, {\"categories\": [\"0\", \"1\", \"2\", \"3\", \"4\", \"5\", \"6\", \"7\", \"8\", \"9\", \"10\", \"11\", \"12\", \"13\", \"14\", \"15\", \"16\", \"17\", \"18\", \"19\", \"20\", \"21\", \"22\", \"23\", \"24\", \"25\", \"26\", \"27\", \"28\", \"29\", \"30\", \"31\", \"32\", \"33\", \"34\", \"35\", \"36\", \"37\", \"38\", \"39\", \"40\", \"41\", \"42\", \"43\", \"45\", \"46\"], \"mode\": \"lines\", \"name\": \"accuracy_max\", \"stepped\": true, \"type\": \"scatter\", \"data\": [0.845, 0.85, 0.86, 0.86, 0.86, 0.86, 0.86, 0.865, 0.865, 0.865, 0.865, 0.865, 0.865, 0.865, 0.865, 0.865, 0.865, 0.865, 0.865, 0.8699999999999999, 0.8699999999999999, 0.8699999999999999, 0.8699999999999999, 0.8699999999999999, 0.8699999999999999, 0.8699999999999999, 0.8699999999999999, 0.8699999999999999, 0.8799999999999999, 0.8799999999999999, 0.8799999999999999, 0.8799999999999999, 0.8799999999999999, 0.8799999999999999, 0.8799999999999999, 0.8799999999999999, 0.8799999999999999, 0.8799999999999999, 0.8799999999999999, 0.8799999999999999, 0.8799999999999999, 0.8799999999999999, 0.8799999999999999, 0.8799999999999999, 0.885, 0.885]}], \"recall_score_weighted\": [{\"categories\": [\"0\", \"1\", \"2\", \"3\", \"4\", \"5\", \"6\", \"7\", \"8\", \"9\", \"10\", \"11\", \"12\", \"13\", \"14\", \"15\", \"16\", \"17\", \"18\", \"19\", \"20\", \"21\", \"22\", \"23\", \"24\", \"25\", \"26\", \"27\", \"28\", \"29\", \"30\", \"31\", \"32\", \"33\", \"34\", \"35\", \"36\", \"37\", \"38\", \"39\", \"40\", \"41\", \"42\", \"43\", \"45\", \"46\"], \"mode\": \"markers\", \"name\": \"recall_score_weighted\", \"stepped\": false, \"type\": \"scatter\", \"data\": [0.845, 0.85, 0.86, 0.8400000000000001, 0.845, 0.8499999999999999, 0.755, 0.865, 0.85, 0.77, 0.85, 0.86, 0.8450000000000001, 0.86, 0.86, 0.8550000000000001, 0.845, 0.8099999999999999, 0.8099999999999999, 0.8699999999999999, 0.8, 0.8600000000000001, 0.865, 0.845, 0.76, 0.725, 0.805, 0.835, 0.8799999999999999, 0.865, 0.725, 0.875, 0.8049999999999999, 0.85, 0.725, 0.725, 0.8699999999999999, 0.76, 0.835, 0.8699999999999999, 0.865, 0.835, 0.8550000000000001, 0.845, 0.885, 0.885]}, {\"categories\": [\"0\", \"1\", \"2\", \"3\", \"4\", \"5\", \"6\", \"7\", \"8\", \"9\", \"10\", \"11\", \"12\", \"13\", \"14\", \"15\", \"16\", \"17\", \"18\", \"19\", \"20\", \"21\", \"22\", \"23\", \"24\", \"25\", \"26\", \"27\", \"28\", \"29\", \"30\", \"31\", \"32\", \"33\", \"34\", \"35\", \"36\", \"37\", \"38\", \"39\", \"40\", \"41\", \"42\", \"43\", \"45\", \"46\"], \"mode\": \"lines\", \"name\": \"recall_score_weighted_max\", \"stepped\": true, \"type\": \"scatter\", \"data\": [0.845, 0.85, 0.86, 0.86, 0.86, 0.86, 0.86, 0.865, 0.865, 0.865, 0.865, 0.865, 0.865, 0.865, 0.865, 0.865, 0.865, 0.865, 0.865, 0.8699999999999999, 0.8699999999999999, 0.8699999999999999, 0.8699999999999999, 0.8699999999999999, 0.8699999999999999, 0.8699999999999999, 0.8699999999999999, 0.8699999999999999, 0.8799999999999999, 0.8799999999999999, 0.8799999999999999, 0.8799999999999999, 0.8799999999999999, 0.8799999999999999, 0.8799999999999999, 0.8799999999999999, 0.8799999999999999, 0.8799999999999999, 0.8799999999999999, 0.8799999999999999, 0.8799999999999999, 0.8799999999999999, 0.8799999999999999, 0.8799999999999999, 0.885, 0.885]}], \"AUC_weighted\": [{\"categories\": [\"0\", \"1\", \"2\", \"3\", \"4\", \"5\", \"6\", \"7\", \"8\", \"9\", \"10\", \"11\", \"12\", \"13\", \"14\", \"15\", \"16\", \"17\", \"18\", \"19\", \"20\", \"21\", \"22\", \"23\", \"24\", \"25\", \"26\", \"27\", \"28\", \"29\", \"30\", \"31\", \"32\", \"33\", \"34\", \"35\", \"36\", \"37\", \"38\", \"39\", \"40\", \"41\", \"42\", \"43\", \"45\", \"46\"], \"mode\": \"markers\", \"name\": \"AUC_weighted\", \"stepped\": false, \"type\": \"scatter\", \"data\": [0.872580665606486, 0.870543755166475, 0.8775186814614443, 0.8921731936499109, 0.881998944454075, 0.8870678023280638, 0.7687466599392142, 0.8968730856655703, 0.8868014737494925, 0.8134585731480545, 0.8845003587339308, 0.8761043600232421, 0.889955106247803, 0.8752018915317163, 0.8853513757871101, 0.8794599134118878, 0.8845024124979736, 0.8688854908933609, 0.8570684170783796, 0.8919619741431477, 0.86406156223967, 0.8795623244100789, 0.8739504688400371, 0.8675192950781451, 0.7573577592627371, 0.8335839927912125, 0.8294633284417351, 0.8650209785915326, 0.881864462146894, 0.8904269344786655, 0.7949953781468346, 0.8831143859639619, 0.877445312432284, 0.9038114866787212, 0.8732860438064902, 0.871398319024706, 0.8861481976727388, 0.8944651522575187, 0.8801291200078811, 0.8960823143339482, 0.8741989042508752, 0.8759923393316609, 0.8932096392275689, 0.8911469171795019, 0.9082762174221155, 0.9089930633002519]}, {\"categories\": [\"0\", \"1\", \"2\", \"3\", \"4\", \"5\", \"6\", \"7\", \"8\", \"9\", \"10\", \"11\", \"12\", \"13\", \"14\", \"15\", \"16\", \"17\", \"18\", \"19\", \"20\", \"21\", \"22\", \"23\", \"24\", \"25\", \"26\", \"27\", \"28\", \"29\", \"30\", \"31\", \"32\", \"33\", \"34\", \"35\", \"36\", \"37\", \"38\", \"39\", \"40\", \"41\", \"42\", \"43\", \"45\", \"46\"], \"mode\": \"lines\", \"name\": \"AUC_weighted_max\", \"stepped\": true, \"type\": \"scatter\", \"data\": [0.872580665606486, 0.872580665606486, 0.8775186814614443, 0.8921731936499109, 0.8921731936499109, 0.8921731936499109, 0.8921731936499109, 0.8968730856655703, 0.8968730856655703, 0.8968730856655703, 0.8968730856655703, 0.8968730856655703, 0.8968730856655703, 0.8968730856655703, 0.8968730856655703, 0.8968730856655703, 0.8968730856655703, 0.8968730856655703, 0.8968730856655703, 0.8968730856655703, 0.8968730856655703, 0.8968730856655703, 0.8968730856655703, 0.8968730856655703, 0.8968730856655703, 0.8968730856655703, 0.8968730856655703, 0.8968730856655703, 0.8968730856655703, 0.8968730856655703, 0.8968730856655703, 0.8968730856655703, 0.8968730856655703, 0.9038114866787212, 0.9038114866787212, 0.9038114866787212, 0.9038114866787212, 0.9038114866787212, 0.9038114866787212, 0.9038114866787212, 0.9038114866787212, 0.9038114866787212, 0.9038114866787212, 0.9038114866787212, 0.9082762174221155, 0.9089930633002519]}], \"average_precision_score_micro\": [{\"categories\": [\"0\", \"1\", \"2\", \"3\", \"4\", \"5\", \"6\", \"7\", \"8\", \"9\", \"10\", \"11\", \"12\", \"13\", \"14\", \"15\", \"16\", \"17\", \"18\", \"19\", \"20\", \"21\", \"22\", \"23\", \"24\", \"25\", \"26\", \"27\", \"28\", \"29\", \"30\", \"31\", \"32\", \"33\", \"34\", \"35\", \"36\", \"37\", \"38\", \"39\", \"40\", \"41\", \"42\", \"43\", \"45\", \"46\"], \"mode\": \"markers\", \"name\": \"average_precision_score_micro\", \"stepped\": false, \"type\": \"scatter\", \"data\": [0.9160422806901604, 0.9145060557192639, 0.9179926504957072, 0.9196829339115921, 0.9202477940139631, 0.9188762162196396, 0.8236610943684785, 0.9256374704405503, 0.9169354292290507, 0.8590863528820858, 0.916338922355297, 0.9181906626740339, 0.9097132659508371, 0.9125482780648497, 0.9161917624963488, 0.9090447969129098, 0.9197980115578966, 0.9074246986878368, 0.8958867889299877, 0.9189480731579398, 0.902695189782842, 0.9035004762482529, 0.9075296937039145, 0.9062816316650574, 0.8234898564266586, 0.8569109195318138, 0.8572918901617511, 0.9026479607107202, 0.9216800218539557, 0.924612836519082, 0.830542973333188, 0.9145175961564304, 0.9037845155490285, 0.9320468272858046, 0.877479428363209, 0.8788018061431064, 0.9159145842817024, 0.8913211118027912, 0.9148201622325761, 0.9259186383801028, 0.9017216617650158, 0.9118025838416264, 0.9240637110149761, 0.9141502290361192, 0.9289887770919055, 0.9278879094270721]}, {\"categories\": [\"0\", \"1\", \"2\", \"3\", \"4\", \"5\", \"6\", \"7\", \"8\", \"9\", \"10\", \"11\", \"12\", \"13\", \"14\", \"15\", \"16\", \"17\", \"18\", \"19\", \"20\", \"21\", \"22\", \"23\", \"24\", \"25\", \"26\", \"27\", \"28\", \"29\", \"30\", \"31\", \"32\", \"33\", \"34\", \"35\", \"36\", \"37\", \"38\", \"39\", \"40\", \"41\", \"42\", \"43\", \"45\", \"46\"], \"mode\": \"lines\", \"name\": \"average_precision_score_micro_max\", \"stepped\": true, \"type\": \"scatter\", \"data\": [0.9160422806901604, 0.9160422806901604, 0.9179926504957072, 0.9196829339115921, 0.9202477940139631, 0.9202477940139631, 0.9202477940139631, 0.9256374704405503, 0.9256374704405503, 0.9256374704405503, 0.9256374704405503, 0.9256374704405503, 0.9256374704405503, 0.9256374704405503, 0.9256374704405503, 0.9256374704405503, 0.9256374704405503, 0.9256374704405503, 0.9256374704405503, 0.9256374704405503, 0.9256374704405503, 0.9256374704405503, 0.9256374704405503, 0.9256374704405503, 0.9256374704405503, 0.9256374704405503, 0.9256374704405503, 0.9256374704405503, 0.9256374704405503, 0.9256374704405503, 0.9256374704405503, 0.9256374704405503, 0.9256374704405503, 0.9320468272858046, 0.9320468272858046, 0.9320468272858046, 0.9320468272858046, 0.9320468272858046, 0.9320468272858046, 0.9320468272858046, 0.9320468272858046, 0.9320468272858046, 0.9320468272858046, 0.9320468272858046, 0.9320468272858046, 0.9320468272858046]}], \"AUC_micro\": [{\"categories\": [\"0\", \"1\", \"2\", \"3\", \"4\", \"5\", \"6\", \"7\", \"8\", \"9\", \"10\", \"11\", \"12\", \"13\", \"14\", \"15\", \"16\", \"17\", \"18\", \"19\", \"20\", \"21\", \"22\", \"23\", \"24\", \"25\", \"26\", \"27\", \"28\", \"29\", \"30\", \"31\", \"32\", \"33\", \"34\", \"35\", \"36\", \"37\", \"38\", \"39\", \"40\", \"41\", \"42\", \"43\", \"45\", \"46\"], \"mode\": \"markers\", \"name\": \"AUC_micro\", \"stepped\": false, \"type\": \"scatter\", \"data\": [0.9123749999999999, 0.9102499999999999, 0.9140625, 0.92025, 0.9168749999999999, 0.9145, 0.828875, 0.924625, 0.9147500000000001, 0.8532499999999998, 0.91325, 0.9165000000000001, 0.9088750000000001, 0.91075, 0.916, 0.9078750000000001, 0.9172499999999999, 0.9015000000000001, 0.89125, 0.9225, 0.8977499999999999, 0.9109999999999999, 0.912125, 0.912125, 0.8320000000000001, 0.8549999999999999, 0.860125, 0.9023749999999999, 0.921, 0.921375, 0.8422499999999999, 0.9158750000000001, 0.9023749999999999, 0.92975, 0.8723750000000001, 0.8707500000000001, 0.9174999999999999, 0.8872499999999999, 0.9103749999999999, 0.9252499999999999, 0.906625, 0.907375, 0.920875, 0.914375, 0.927875, 0.9263750000000002]}, {\"categories\": [\"0\", \"1\", \"2\", \"3\", \"4\", \"5\", \"6\", \"7\", \"8\", \"9\", \"10\", \"11\", \"12\", \"13\", \"14\", \"15\", \"16\", \"17\", \"18\", \"19\", \"20\", \"21\", \"22\", \"23\", \"24\", \"25\", \"26\", \"27\", \"28\", \"29\", \"30\", \"31\", \"32\", \"33\", \"34\", \"35\", \"36\", \"37\", \"38\", \"39\", \"40\", \"41\", \"42\", \"43\", \"45\", \"46\"], \"mode\": \"lines\", \"name\": \"AUC_micro_max\", \"stepped\": true, \"type\": \"scatter\", \"data\": [0.9123749999999999, 0.9123749999999999, 0.9140625, 0.92025, 0.92025, 0.92025, 0.92025, 0.924625, 0.924625, 0.924625, 0.924625, 0.924625, 0.924625, 0.924625, 0.924625, 0.924625, 0.924625, 0.924625, 0.924625, 0.924625, 0.924625, 0.924625, 0.924625, 0.924625, 0.924625, 0.924625, 0.924625, 0.924625, 0.924625, 0.924625, 0.924625, 0.924625, 0.924625, 0.92975, 0.92975, 0.92975, 0.92975, 0.92975, 0.92975, 0.92975, 0.92975, 0.92975, 0.92975, 0.92975, 0.92975, 0.92975]}], \"recall_score_macro\": [{\"categories\": [\"0\", \"1\", \"2\", \"3\", \"4\", \"5\", \"6\", \"7\", \"8\", \"9\", \"10\", \"11\", \"12\", \"13\", \"14\", \"15\", \"16\", \"17\", \"18\", \"19\", \"20\", \"21\", \"22\", \"23\", \"24\", \"25\", \"26\", \"27\", \"28\", \"29\", \"30\", \"31\", \"32\", \"33\", \"34\", \"35\", \"36\", \"37\", \"38\", \"39\", \"40\", \"41\", \"42\", \"43\", \"45\", \"46\"], \"mode\": \"markers\", \"name\": \"recall_score_macro\", \"stepped\": false, \"type\": \"scatter\", \"data\": [0.7704739621705695, 0.7879795538011611, 0.7911182825794894, 0.7525353332707339, 0.7818528168624109, 0.7655917674279744, 0.6070238327980263, 0.795023204594812, 0.7627238020600089, 0.5901874098124098, 0.7780960964323034, 0.7603685064935064, 0.7378141700253769, 0.7603685064935064, 0.7819222380326384, 0.7511109307359306, 0.7713323443797582, 0.7276190273544278, 0.7182395382395382, 0.788618666604067, 0.715553167139374, 0.7749397111509179, 0.7816063778175847, 0.7732259695717705, 0.594431841456035, 0.5, 0.7814307419499299, 0.7217939680051749, 0.8004002757994695, 0.7893805713659718, 0.5, 0.7835351731601732, 0.6848719801703672, 0.7716841427945432, 0.5, 0.5, 0.78784447305568, 0.5800604256854257, 0.7460932337036341, 0.7926063778175847, 0.7816063778175847, 0.7382079290441359, 0.7787806202418271, 0.7292422438672439, 0.8036260822510822, 0.8036260822510822]}, {\"categories\": [\"0\", \"1\", \"2\", \"3\", \"4\", \"5\", \"6\", \"7\", \"8\", \"9\", \"10\", \"11\", \"12\", \"13\", \"14\", \"15\", \"16\", \"17\", \"18\", \"19\", \"20\", \"21\", \"22\", \"23\", \"24\", \"25\", \"26\", \"27\", \"28\", \"29\", \"30\", \"31\", \"32\", \"33\", \"34\", \"35\", \"36\", \"37\", \"38\", \"39\", \"40\", \"41\", \"42\", \"43\", \"45\", \"46\"], \"mode\": \"lines\", \"name\": \"recall_score_macro_max\", \"stepped\": true, \"type\": \"scatter\", \"data\": [0.7704739621705695, 0.7879795538011611, 0.7911182825794894, 0.7911182825794894, 0.7911182825794894, 0.7911182825794894, 0.7911182825794894, 0.795023204594812, 0.795023204594812, 0.795023204594812, 0.795023204594812, 0.795023204594812, 0.795023204594812, 0.795023204594812, 0.795023204594812, 0.795023204594812, 0.795023204594812, 0.795023204594812, 0.795023204594812, 0.795023204594812, 0.795023204594812, 0.795023204594812, 0.795023204594812, 0.795023204594812, 0.795023204594812, 0.795023204594812, 0.795023204594812, 0.795023204594812, 0.8004002757994695, 0.8004002757994695, 0.8004002757994695, 0.8004002757994695, 0.8004002757994695, 0.8004002757994695, 0.8004002757994695, 0.8004002757994695, 0.8004002757994695, 0.8004002757994695, 0.8004002757994695, 0.8004002757994695, 0.8004002757994695, 0.8004002757994695, 0.8004002757994695, 0.8004002757994695, 0.8036260822510822, 0.8036260822510822]}], \"norm_macro_recall\": [{\"categories\": [\"0\", \"1\", \"2\", \"3\", \"4\", \"5\", \"6\", \"7\", \"8\", \"9\", \"10\", \"11\", \"12\", \"13\", \"14\", \"15\", \"16\", \"17\", \"18\", \"19\", \"20\", \"21\", \"22\", \"23\", \"24\", \"25\", \"26\", \"27\", \"28\", \"29\", \"30\", \"31\", \"32\", \"33\", \"34\", \"35\", \"36\", \"37\", \"38\", \"39\", \"40\", \"41\", \"42\", \"43\", \"45\", \"46\"], \"mode\": \"markers\", \"name\": \"norm_macro_recall\", \"stepped\": false, \"type\": \"scatter\", \"data\": [0.540947924341139, 0.5759591076023223, 0.5822365651589789, 0.5050706665414675, 0.5637056337248217, 0.5311835348559486, 0.21404766559605268, 0.5900464091896238, 0.5254476041200179, 0.1803748196248196, 0.5561921928646065, 0.520737012987013, 0.4756283400507539, 0.520737012987013, 0.5638444760652769, 0.5022218614718614, 0.5426646887595163, 0.4552380547088556, 0.4364790764790765, 0.577237333208134, 0.4311063342787481, 0.5498794223018361, 0.5632127556351694, 0.546451939143541, 0.18886368291207, 0.0, 0.5628614838998599, 0.4435879360103499, 0.6008005515989387, 0.5787611427319436, 0.0, 0.5670703463203463, 0.36974396034073453, 0.5433682855890865, 0.0, 0.0, 0.5756889461113598, 0.16012085137085136, 0.49218646740726835, 0.5852127556351694, 0.5632127556351694, 0.4764158580882719, 0.5575612404836543, 0.4584844877344878, 0.6072521645021645, 0.6072521645021645]}, {\"categories\": [\"0\", \"1\", \"2\", \"3\", \"4\", \"5\", \"6\", \"7\", \"8\", \"9\", \"10\", \"11\", \"12\", \"13\", \"14\", \"15\", \"16\", \"17\", \"18\", \"19\", \"20\", \"21\", \"22\", \"23\", \"24\", \"25\", \"26\", \"27\", \"28\", \"29\", \"30\", \"31\", \"32\", \"33\", \"34\", \"35\", \"36\", \"37\", \"38\", \"39\", \"40\", \"41\", \"42\", \"43\", \"45\", \"46\"], \"mode\": \"lines\", \"name\": \"norm_macro_recall_max\", \"stepped\": true, \"type\": \"scatter\", \"data\": [0.540947924341139, 0.5759591076023223, 0.5822365651589789, 0.5822365651589789, 0.5822365651589789, 0.5822365651589789, 0.5822365651589789, 0.5900464091896238, 0.5900464091896238, 0.5900464091896238, 0.5900464091896238, 0.5900464091896238, 0.5900464091896238, 0.5900464091896238, 0.5900464091896238, 0.5900464091896238, 0.5900464091896238, 0.5900464091896238, 0.5900464091896238, 0.5900464091896238, 0.5900464091896238, 0.5900464091896238, 0.5900464091896238, 0.5900464091896238, 0.5900464091896238, 0.5900464091896238, 0.5900464091896238, 0.5900464091896238, 0.6008005515989387, 0.6008005515989387, 0.6008005515989387, 0.6008005515989387, 0.6008005515989387, 0.6008005515989387, 0.6008005515989387, 0.6008005515989387, 0.6008005515989387, 0.6008005515989387, 0.6008005515989387, 0.6008005515989387, 0.6008005515989387, 0.6008005515989387, 0.6008005515989387, 0.6008005515989387, 0.6072521645021645, 0.6072521645021645]}], \"f1_score_macro\": [{\"categories\": [\"0\", \"1\", \"2\", \"3\", \"4\", \"5\", \"6\", \"7\", \"8\", \"9\", \"10\", \"11\", \"12\", \"13\", \"14\", \"15\", \"16\", \"17\", \"18\", \"19\", \"20\", \"21\", \"22\", \"23\", \"24\", \"25\", \"26\", \"27\", \"28\", \"29\", \"30\", \"31\", \"32\", \"33\", \"34\", \"35\", \"36\", \"37\", \"38\", \"39\", \"40\", \"41\", \"42\", \"43\", \"45\", \"46\"], \"mode\": \"markers\", \"name\": \"f1_score_macro\", \"stepped\": false, \"type\": \"scatter\", \"data\": [0.7828106047338277, 0.7942195585889327, 0.8055017179441142, 0.768222973717774, 0.7881602746305871, 0.7804220047380221, 0.5995320254460674, 0.8083582469796493, 0.7854997764469606, 0.586597357444815, 0.7943330095416348, 0.7866291227862056, 0.7639860857768939, 0.7866291227862056, 0.7983447048145378, 0.7795757447341709, 0.7831255095479234, 0.7431092994532834, 0.7384896228854676, 0.808593137254902, 0.7319521176065165, 0.7988160061938726, 0.8047377382819333, 0.7840539032749987, 0.5952766982946012, 0.419546821664901, 0.7637682218467752, 0.7450453535646234, 0.8226878906708119, 0.8067699502189388, 0.419546821664901, 0.8125758955360473, 0.7045060188726586, 0.7880481926492872, 0.419546821664901, 0.419546821664901, 0.810227972082133, 0.572837896091753, 0.7611101919009304, 0.8134045656035542, 0.8047377382819333, 0.7577281572688959, 0.7937503055147357, 0.7555252141649201, 0.8293225060554272, 0.8293225060554272]}, {\"categories\": [\"0\", \"1\", \"2\", \"3\", \"4\", \"5\", \"6\", \"7\", \"8\", \"9\", \"10\", \"11\", \"12\", \"13\", \"14\", \"15\", \"16\", \"17\", \"18\", \"19\", \"20\", \"21\", \"22\", \"23\", \"24\", \"25\", \"26\", \"27\", \"28\", \"29\", \"30\", \"31\", \"32\", \"33\", \"34\", \"35\", \"36\", \"37\", \"38\", \"39\", \"40\", \"41\", \"42\", \"43\", \"45\", \"46\"], \"mode\": \"lines\", \"name\": \"f1_score_macro_max\", \"stepped\": true, \"type\": \"scatter\", \"data\": [0.7828106047338277, 0.7942195585889327, 0.8055017179441142, 0.8055017179441142, 0.8055017179441142, 0.8055017179441142, 0.8055017179441142, 0.8083582469796493, 0.8083582469796493, 0.8083582469796493, 0.8083582469796493, 0.8083582469796493, 0.8083582469796493, 0.8083582469796493, 0.8083582469796493, 0.8083582469796493, 0.8083582469796493, 0.8083582469796493, 0.8083582469796493, 0.808593137254902, 0.808593137254902, 0.808593137254902, 0.808593137254902, 0.808593137254902, 0.808593137254902, 0.808593137254902, 0.808593137254902, 0.808593137254902, 0.8226878906708119, 0.8226878906708119, 0.8226878906708119, 0.8226878906708119, 0.8226878906708119, 0.8226878906708119, 0.8226878906708119, 0.8226878906708119, 0.8226878906708119, 0.8226878906708119, 0.8226878906708119, 0.8226878906708119, 0.8226878906708119, 0.8226878906708119, 0.8226878906708119, 0.8226878906708119, 0.8293225060554272, 0.8293225060554272]}], \"average_precision_score_weighted\": [{\"categories\": [\"0\", \"1\", \"2\", \"3\", \"4\", \"5\", \"6\", \"7\", \"8\", \"9\", \"10\", \"11\", \"12\", \"13\", \"14\", \"15\", \"16\", \"17\", \"18\", \"19\", \"20\", \"21\", \"22\", \"23\", \"24\", \"25\", \"26\", \"27\", \"28\", \"29\", \"30\", \"31\", \"32\", \"33\", \"34\", \"35\", \"36\", \"37\", \"38\", \"39\", \"40\", \"41\", \"42\", \"43\", \"45\", \"46\"], \"mode\": \"markers\", \"name\": \"average_precision_score_weighted\", \"stepped\": false, \"type\": \"scatter\", \"data\": [0.9034876859454588, 0.9019012242909354, 0.9008837263760829, 0.9078040244425913, 0.9024646770524629, 0.9053195176644533, 0.8189315384004757, 0.9112913019856752, 0.9072179407929936, 0.8436056884479252, 0.9045027197523471, 0.9095965609808129, 0.9078819733857838, 0.9076222470384842, 0.9032241334356905, 0.9103145203950864, 0.9046213615746985, 0.8916889102539735, 0.8841741874798732, 0.9089384703674315, 0.891350502712595, 0.8946955980786202, 0.8991985927058893, 0.8889683053861009, 0.8053314552628972, 0.8573460366242989, 0.8632245724162079, 0.895627713484141, 0.907047457451118, 0.9106563003377568, 0.8149452780360434, 0.9054956492772094, 0.8930763382319953, 0.9164168613163989, 0.8953037064195692, 0.889479895113239, 0.906516693267247, 0.914014060392946, 0.9028912587220228, 0.9150204324695427, 0.8911854539956892, 0.901452859013315, 0.9153426131439538, 0.9085496757823739, 0.9202020970344016, 0.9208642878664453]}, {\"categories\": [\"0\", \"1\", \"2\", \"3\", \"4\", \"5\", \"6\", \"7\", \"8\", \"9\", \"10\", \"11\", \"12\", \"13\", \"14\", \"15\", \"16\", \"17\", \"18\", \"19\", \"20\", \"21\", \"22\", \"23\", \"24\", \"25\", \"26\", \"27\", \"28\", \"29\", \"30\", \"31\", \"32\", \"33\", \"34\", \"35\", \"36\", \"37\", \"38\", \"39\", \"40\", \"41\", \"42\", \"43\", \"45\", \"46\"], \"mode\": \"lines\", \"name\": \"average_precision_score_weighted_max\", \"stepped\": true, \"type\": \"scatter\", \"data\": [0.9034876859454588, 0.9034876859454588, 0.9034876859454588, 0.9078040244425913, 0.9078040244425913, 0.9078040244425913, 0.9078040244425913, 0.9112913019856752, 0.9112913019856752, 0.9112913019856752, 0.9112913019856752, 0.9112913019856752, 0.9112913019856752, 0.9112913019856752, 0.9112913019856752, 0.9112913019856752, 0.9112913019856752, 0.9112913019856752, 0.9112913019856752, 0.9112913019856752, 0.9112913019856752, 0.9112913019856752, 0.9112913019856752, 0.9112913019856752, 0.9112913019856752, 0.9112913019856752, 0.9112913019856752, 0.9112913019856752, 0.9112913019856752, 0.9112913019856752, 0.9112913019856752, 0.9112913019856752, 0.9112913019856752, 0.9164168613163989, 0.9164168613163989, 0.9164168613163989, 0.9164168613163989, 0.9164168613163989, 0.9164168613163989, 0.9164168613163989, 0.9164168613163989, 0.9164168613163989, 0.9164168613163989, 0.9164168613163989, 0.9202020970344016, 0.9208642878664453]}], \"matthews_correlation\": [{\"categories\": [\"0\", \"1\", \"2\", \"3\", \"4\", \"5\", \"6\", \"7\", \"8\", \"9\", \"10\", \"11\", \"12\", \"13\", \"14\", \"15\", \"16\", \"17\", \"18\", \"19\", \"20\", \"21\", \"22\", \"23\", \"24\", \"25\", \"26\", \"27\", \"28\", \"29\", \"30\", \"31\", \"32\", \"33\", \"34\", \"35\", \"36\", \"37\", \"38\", \"39\", \"40\", \"41\", \"42\", \"43\", \"45\", \"46\"], \"mode\": \"markers\", \"name\": \"matthews_correlation\", \"stepped\": false, \"type\": \"scatter\", \"data\": [0.5754383131951536, 0.591679644468923, 0.6194339612859184, 0.5481012566425767, 0.5788886995857171, 0.5760063368824886, 0.28998631304093314, 0.6293159136779606, 0.5871805307420159, 0.311425902252172, 0.5986072637606473, 0.6051909296269249, 0.5662434043470103, 0.6051909296269249, 0.606751433603318, 0.5977303200830782, 0.5781166678840439, 0.4955518194893961, 0.4959231992648389, 0.6347984580906776, 0.4776086411296318, 0.6170380044490252, 0.6281375898479608, 0.5788265328753424, 0.28853304739869556, 0.0, 0.5387202271804664, 0.5326647857356342, 0.6631648562960645, 0.6276305577614659, 0.0, 0.6524671560734425, 0.44473176812798165, 0.5849458264175789, 0.0, 0.0, 0.6415241700156165, 0.28970000679965097, 0.5354096004441383, 0.6441166455452138, 0.6281375898479608, 0.536261572113691, 0.5990620125379269, 0.5612982684428844, 0.6796509440798123, 0.6796509440798123]}, {\"categories\": [\"0\", \"1\", \"2\", \"3\", \"4\", \"5\", \"6\", \"7\", \"8\", \"9\", \"10\", \"11\", \"12\", \"13\", \"14\", \"15\", \"16\", \"17\", \"18\", \"19\", \"20\", \"21\", \"22\", \"23\", \"24\", \"25\", \"26\", \"27\", \"28\", \"29\", \"30\", \"31\", \"32\", \"33\", \"34\", \"35\", \"36\", \"37\", \"38\", \"39\", \"40\", \"41\", \"42\", \"43\", \"45\", \"46\"], \"mode\": \"lines\", \"name\": \"matthews_correlation_max\", \"stepped\": true, \"type\": \"scatter\", \"data\": [0.5754383131951536, 0.591679644468923, 0.6194339612859184, 0.6194339612859184, 0.6194339612859184, 0.6194339612859184, 0.6194339612859184, 0.6293159136779606, 0.6293159136779606, 0.6293159136779606, 0.6293159136779606, 0.6293159136779606, 0.6293159136779606, 0.6293159136779606, 0.6293159136779606, 0.6293159136779606, 0.6293159136779606, 0.6293159136779606, 0.6293159136779606, 0.6347984580906776, 0.6347984580906776, 0.6347984580906776, 0.6347984580906776, 0.6347984580906776, 0.6347984580906776, 0.6347984580906776, 0.6347984580906776, 0.6347984580906776, 0.6631648562960645, 0.6631648562960645, 0.6631648562960645, 0.6631648562960645, 0.6631648562960645, 0.6631648562960645, 0.6631648562960645, 0.6631648562960645, 0.6631648562960645, 0.6631648562960645, 0.6631648562960645, 0.6631648562960645, 0.6631648562960645, 0.6631648562960645, 0.6631648562960645, 0.6631648562960645, 0.6796509440798123, 0.6796509440798123]}], \"f1_score_micro\": [{\"categories\": [\"0\", \"1\", \"2\", \"3\", \"4\", \"5\", \"6\", \"7\", \"8\", \"9\", \"10\", \"11\", \"12\", \"13\", \"14\", \"15\", \"16\", \"17\", \"18\", \"19\", \"20\", \"21\", \"22\", \"23\", \"24\", \"25\", \"26\", \"27\", \"28\", \"29\", \"30\", \"31\", \"32\", \"33\", \"34\", \"35\", \"36\", \"37\", \"38\", \"39\", \"40\", \"41\", \"42\", \"43\", \"45\", \"46\"], \"mode\": \"markers\", \"name\": \"f1_score_micro\", \"stepped\": false, \"type\": \"scatter\", \"data\": [0.845, 0.85, 0.86, 0.8400000000000001, 0.8450000000000001, 0.85, 0.755, 0.865, 0.85, 0.7700000000000002, 0.85, 0.86, 0.8450000000000001, 0.86, 0.86, 0.8550000000000001, 0.8450000000000001, 0.8099999999999999, 0.8099999999999999, 0.8699999999999999, 0.8, 0.8600000000000001, 0.865, 0.845, 0.76, 0.725, 0.805, 0.835, 0.8799999999999999, 0.865, 0.725, 0.875, 0.805, 0.85, 0.725, 0.725, 0.8699999999999999, 0.76, 0.8350000000000002, 0.8699999999999999, 0.865, 0.8350000000000002, 0.8550000000000001, 0.845, 0.885, 0.885]}, {\"categories\": [\"0\", \"1\", \"2\", \"3\", \"4\", \"5\", \"6\", \"7\", \"8\", \"9\", \"10\", \"11\", \"12\", \"13\", \"14\", \"15\", \"16\", \"17\", \"18\", \"19\", \"20\", \"21\", \"22\", \"23\", \"24\", \"25\", \"26\", \"27\", \"28\", \"29\", \"30\", \"31\", \"32\", \"33\", \"34\", \"35\", \"36\", \"37\", \"38\", \"39\", \"40\", \"41\", \"42\", \"43\", \"45\", \"46\"], \"mode\": \"lines\", \"name\": \"f1_score_micro_max\", \"stepped\": true, \"type\": \"scatter\", \"data\": [0.845, 0.85, 0.86, 0.86, 0.86, 0.86, 0.86, 0.865, 0.865, 0.865, 0.865, 0.865, 0.865, 0.865, 0.865, 0.865, 0.865, 0.865, 0.865, 0.8699999999999999, 0.8699999999999999, 0.8699999999999999, 0.8699999999999999, 0.8699999999999999, 0.8699999999999999, 0.8699999999999999, 0.8699999999999999, 0.8699999999999999, 0.8799999999999999, 0.8799999999999999, 0.8799999999999999, 0.8799999999999999, 0.8799999999999999, 0.8799999999999999, 0.8799999999999999, 0.8799999999999999, 0.8799999999999999, 0.8799999999999999, 0.8799999999999999, 0.8799999999999999, 0.8799999999999999, 0.8799999999999999, 0.8799999999999999, 0.8799999999999999, 0.885, 0.885]}], \"precision_score_weighted\": [{\"categories\": [\"0\", \"1\", \"2\", \"3\", \"4\", \"5\", \"6\", \"7\", \"8\", \"9\", \"10\", \"11\", \"12\", \"13\", \"14\", \"15\", \"16\", \"17\", \"18\", \"19\", \"20\", \"21\", \"22\", \"23\", \"24\", \"25\", \"26\", \"27\", \"28\", \"29\", \"30\", \"31\", \"32\", \"33\", \"34\", \"35\", \"36\", \"37\", \"38\", \"39\", \"40\", \"41\", \"42\", \"43\", \"45\", \"46\"], \"mode\": \"markers\", \"name\": \"precision_score_weighted\", \"stepped\": false, \"type\": \"scatter\", \"data\": [0.8395099783889075, 0.8446789215686274, 0.8581715818047648, 0.8313563810741231, 0.8410435049019608, 0.841320312795645, 0.7593246608912244, 0.8614457972582972, 0.8453126323040934, 0.7802775489230598, 0.8469975220857574, 0.8581615124997478, 0.843154337492573, 0.8581615124997478, 0.8533832332542011, 0.8557294584500467, 0.841152493606138, 0.8045942097118568, 0.8093308197179165, 0.8658649280826701, 0.799781236005374, 0.8568041837633867, 0.8617238011830042, 0.8399965277777778, 0.7525646887488993, 0.529375, 0.8248027853876312, 0.830171227465345, 0.8777505687636736, 0.86130242808267, 0.529375, 0.8756174299556653, 0.7972391774891774, 0.8433426448103868, 0.529375, 0.529375, 0.8682287713472485, 0.7684601706970128, 0.8258138528138529, 0.8681454380139153, 0.8617238011830042, 0.8286190476190477, 0.8500232843137254, 0.8455482295482295, 0.884593578694919, 0.884593578694919]}, {\"categories\": [\"0\", \"1\", \"2\", \"3\", \"4\", \"5\", \"6\", \"7\", \"8\", \"9\", \"10\", \"11\", \"12\", \"13\", \"14\", \"15\", \"16\", \"17\", \"18\", \"19\", \"20\", \"21\", \"22\", \"23\", \"24\", \"25\", \"26\", \"27\", \"28\", \"29\", \"30\", \"31\", \"32\", \"33\", \"34\", \"35\", \"36\", \"37\", \"38\", \"39\", \"40\", \"41\", \"42\", \"43\", \"45\", \"46\"], \"mode\": \"lines\", \"name\": \"precision_score_weighted_max\", \"stepped\": true, \"type\": \"scatter\", \"data\": [0.8395099783889075, 0.8446789215686274, 0.8581715818047648, 0.8581715818047648, 0.8581715818047648, 0.8581715818047648, 0.8581715818047648, 0.8614457972582972, 0.8614457972582972, 0.8614457972582972, 0.8614457972582972, 0.8614457972582972, 0.8614457972582972, 0.8614457972582972, 0.8614457972582972, 0.8614457972582972, 0.8614457972582972, 0.8614457972582972, 0.8614457972582972, 0.8658649280826701, 0.8658649280826701, 0.8658649280826701, 0.8658649280826701, 0.8658649280826701, 0.8658649280826701, 0.8658649280826701, 0.8658649280826701, 0.8658649280826701, 0.8777505687636736, 0.8777505687636736, 0.8777505687636736, 0.8777505687636736, 0.8777505687636736, 0.8777505687636736, 0.8777505687636736, 0.8777505687636736, 0.8777505687636736, 0.8777505687636736, 0.8777505687636736, 0.8777505687636736, 0.8777505687636736, 0.8777505687636736, 0.8777505687636736, 0.8777505687636736, 0.884593578694919, 0.884593578694919]}]}, \"metricName\": null, \"primaryMetricName\": \"accuracy\", \"showLegend\": false}, \"run_metrics\": [{\"name\": \"experiment_status\", \"run_id\": \"AutoML_7dfd39c3-7a02-4dea-bd45-57388d5a593f\", \"categories\": [0, 1, 2, 3, 4, 5, 6, 7, 8, 9, 10, 11, 12, 13], \"series\": [{\"data\": [\"DatasetEvaluation\", \"FeaturesGeneration\", \"DatasetFeaturization\", \"DatasetFeaturizationCompleted\", \"DatasetCrossValidationSplit\", \"ModelSelection\", \"BestRunExplainModel\", \"ModelExplanationDataSetSetup\", \"PickSurrogateModel\", \"EngineeredFeatureExplanations\", \"EngineeredFeatureExplanations\", \"RawFeaturesExplanations\", \"RawFeaturesExplanations\", \"BestRunExplainModel\"]}]}, {\"name\": \"experiment_status_description\", \"run_id\": \"AutoML_7dfd39c3-7a02-4dea-bd45-57388d5a593f\", \"categories\": [0, 1, 2, 3, 4, 5, 6, 7, 8, 9, 10, 11, 12, 13], \"series\": [{\"data\": [\"Gathering dataset statistics.\", \"Generating features for the dataset.\", \"Beginning to fit featurizers and featurize the dataset.\", \"Completed fit featurizers and featurizing the dataset.\", \"Generating individually featurized CV splits.\", \"Beginning model selection.\", \"Best run model explanations started\", \"Model explanations data setup completed\", \"Choosing LightGBM as the surrogate model for explanations\", \"Computation of engineered features started\", \"Computation of engineered features completed\", \"Computation of raw features started\", \"Computation of raw features completed\", \"Best run model explanations completed\"]}]}, {\"name\": \"recall_score_weighted\", \"run_id\": \"AutoML_7dfd39c3-7a02-4dea-bd45-57388d5a593f\", \"categories\": [0], \"series\": [{\"data\": [0.885]}]}, {\"name\": \"AUC_macro\", \"run_id\": \"AutoML_7dfd39c3-7a02-4dea-bd45-57388d5a593f\", \"categories\": [0], \"series\": [{\"data\": [0.9089930633002516]}]}, {\"name\": \"balanced_accuracy\", \"run_id\": \"AutoML_7dfd39c3-7a02-4dea-bd45-57388d5a593f\", \"categories\": [0], \"series\": [{\"data\": [0.8036260822510822]}]}, {\"name\": \"AUC_weighted\", \"run_id\": \"AutoML_7dfd39c3-7a02-4dea-bd45-57388d5a593f\", \"categories\": [0], \"series\": [{\"data\": [0.9089930633002519]}]}, {\"name\": \"average_precision_score_weighted\", \"run_id\": \"AutoML_7dfd39c3-7a02-4dea-bd45-57388d5a593f\", \"categories\": [0], \"series\": [{\"data\": [0.9208642878664453]}]}, {\"name\": \"weighted_accuracy\", \"run_id\": \"AutoML_7dfd39c3-7a02-4dea-bd45-57388d5a593f\", \"categories\": [0], \"series\": [{\"data\": [0.9308981279592097]}]}, {\"name\": \"recall_score_micro\", \"run_id\": \"AutoML_7dfd39c3-7a02-4dea-bd45-57388d5a593f\", \"categories\": [0], \"series\": [{\"data\": [0.885]}]}, {\"name\": \"precision_score_macro\", \"run_id\": \"AutoML_7dfd39c3-7a02-4dea-bd45-57388d5a593f\", \"categories\": [0], \"series\": [{\"data\": [0.8832279938857264]}]}, {\"name\": \"norm_macro_recall\", \"run_id\": \"AutoML_7dfd39c3-7a02-4dea-bd45-57388d5a593f\", \"categories\": [0], \"series\": [{\"data\": [0.6072521645021645]}]}, {\"name\": \"log_loss\", \"run_id\": \"AutoML_7dfd39c3-7a02-4dea-bd45-57388d5a593f\", \"categories\": [0], \"series\": [{\"data\": [0.3648240126044199]}]}, {\"name\": \"f1_score_weighted\", \"run_id\": \"AutoML_7dfd39c3-7a02-4dea-bd45-57388d5a593f\", \"categories\": [0], \"series\": [{\"data\": [0.8773029792285054]}]}, {\"name\": \"AUC_micro\", \"run_id\": \"AutoML_7dfd39c3-7a02-4dea-bd45-57388d5a593f\", \"categories\": [0], \"series\": [{\"data\": [0.9263750000000002]}]}, {\"name\": \"accuracy\", \"run_id\": \"AutoML_7dfd39c3-7a02-4dea-bd45-57388d5a593f\", \"categories\": [0], \"series\": [{\"data\": [0.885]}]}, {\"name\": \"recall_score_macro\", \"run_id\": \"AutoML_7dfd39c3-7a02-4dea-bd45-57388d5a593f\", \"categories\": [0], \"series\": [{\"data\": [0.8036260822510822]}]}, {\"name\": \"average_precision_score_micro\", \"run_id\": \"AutoML_7dfd39c3-7a02-4dea-bd45-57388d5a593f\", \"categories\": [0], \"series\": [{\"data\": [0.9278879094270721]}]}, {\"name\": \"f1_score_micro\", \"run_id\": \"AutoML_7dfd39c3-7a02-4dea-bd45-57388d5a593f\", \"categories\": [0], \"series\": [{\"data\": [0.885]}]}, {\"name\": \"f1_score_macro\", \"run_id\": \"AutoML_7dfd39c3-7a02-4dea-bd45-57388d5a593f\", \"categories\": [0], \"series\": [{\"data\": [0.8293225060554272]}]}, {\"name\": \"precision_score_weighted\", \"run_id\": \"AutoML_7dfd39c3-7a02-4dea-bd45-57388d5a593f\", \"categories\": [0], \"series\": [{\"data\": [0.884593578694919]}]}, {\"name\": \"matthews_correlation\", \"run_id\": \"AutoML_7dfd39c3-7a02-4dea-bd45-57388d5a593f\", \"categories\": [0], \"series\": [{\"data\": [0.6796509440798123]}]}, {\"name\": \"average_precision_score_macro\", \"run_id\": \"AutoML_7dfd39c3-7a02-4dea-bd45-57388d5a593f\", \"categories\": [0], \"series\": [{\"data\": [0.8787650500709356]}]}, {\"name\": \"precision_score_micro\", \"run_id\": \"AutoML_7dfd39c3-7a02-4dea-bd45-57388d5a593f\", \"categories\": [0], \"series\": [{\"data\": [0.885]}]}], \"run_logs\": \"\\nRun is completed.\", \"graph\": {}, \"widget_settings\": {\"childWidgetDisplay\": \"popup\", \"send_telemetry\": false, \"log_level\": \"INFO\", \"sdk_version\": \"1.26.0\"}, \"loading\": false}"
     },
     "metadata": {},
     "output_type": "display_data"
    },
    {
     "data": {
      "text/html": [
       "<table style=\"width:100%\"><tr><th>Experiment</th><th>Id</th><th>Type</th><th>Status</th><th>Details Page</th><th>Docs Page</th></tr><tr><td>udacity-azure-capstone-project</td><td>AutoML_7dfd39c3-7a02-4dea-bd45-57388d5a593f</td><td>automl</td><td>Completed</td><td><a href=\"https://ml.azure.com/runs/AutoML_7dfd39c3-7a02-4dea-bd45-57388d5a593f?wsid=/subscriptions/6b4af8be-9931-443e-90f6-c4c34a1f9737/resourcegroups/aml-quickstarts-143110/workspaces/quick-starts-ws-143110&amp;tid=660b3398-b80e-49d2-bc5b-ac1dc93b5254\" target=\"_blank\" rel=\"noopener\">Link to Azure Machine Learning studio</a></td><td><a href=\"https://docs.microsoft.com/en-us/python/api/overview/azure/ml/intro?view=azure-ml-py\" target=\"_blank\" rel=\"noopener\">Link to Documentation</a></td></tr></table>"
      ],
      "text/plain": [
       "<IPython.core.display.HTML object>"
      ]
     },
     "metadata": {},
     "output_type": "display_data"
    },
    {
     "name": "stdout",
     "output_type": "stream",
     "text": [
      "\n",
      "\n",
      "****************************************************************************************************\n",
      "DATA GUARDRAILS: \n",
      "\n",
      "TYPE:         Class balancing detection\n",
      "STATUS:       PASSED\n",
      "DESCRIPTION:  Your inputs were analyzed, and all classes are balanced in your training data.\n",
      "              Learn more about imbalanced data: https://aka.ms/AutomatedMLImbalancedData\n",
      "\n",
      "****************************************************************************************************\n",
      "\n",
      "TYPE:         Missing feature values imputation\n",
      "STATUS:       PASSED\n",
      "DESCRIPTION:  No feature missing values were detected in the training data.\n",
      "              Learn more about missing value imputation: https://aka.ms/AutomatedMLFeaturization\n",
      "\n",
      "****************************************************************************************************\n",
      "\n",
      "TYPE:         High cardinality feature detection\n",
      "STATUS:       PASSED\n",
      "DESCRIPTION:  Your inputs were analyzed, and no high cardinality features were detected.\n",
      "              Learn more about high cardinality feature handling: https://aka.ms/AutomatedMLFeaturization\n",
      "\n",
      "****************************************************************************************************\n",
      "\n",
      "****************************************************************************************************\n",
      "ITERATION: The iteration being evaluated.\n",
      "PIPELINE: A summary description of the pipeline being evaluated.\n",
      "DURATION: Time taken for the current iteration.\n",
      "METRIC: The result of computing score on the fitted pipeline.\n",
      "BEST: The best observed score thus far.\n",
      "****************************************************************************************************\n",
      "\n",
      " ITERATION   PIPELINE                                       DURATION      METRIC      BEST\n",
      "         0   MaxAbsScaler LightGBM                          0:05:14       0.8450    0.8450\n",
      "         1   MaxAbsScaler XGBoostClassifier                 0:00:44       0.8500    0.8500\n",
      "         2   MinMaxScaler RandomForest                      0:01:00       0.8600    0.8600\n",
      "         3   MinMaxScaler RandomForest                      0:00:37       0.8400    0.8600\n",
      "         4   MinMaxScaler RandomForest                      0:02:57       0.8450    0.8600\n",
      "         5   SparseNormalizer XGBoostClassifier             0:05:19       0.8500    0.8600\n",
      "         6   MinMaxScaler SVM                               0:00:43       0.7550    0.8600\n",
      "         7   MaxAbsScaler GradientBoosting                  0:00:53       0.8650    0.8650\n",
      "        10   SparseNormalizer XGBoostClassifier             0:00:48       0.8500    0.8650\n",
      "        11   RobustScaler ExtremeRandomTrees                0:00:46       0.8600    0.8650\n",
      "         8   StandardScalerWrapper RandomForest             0:00:49       0.8500    0.8650\n",
      "         9   SparseNormalizer LightGBM                      0:00:40       0.7700    0.8650\n",
      "        12   StandardScalerWrapper LightGBM                 0:00:41       0.8450    0.8650\n",
      "        13   RobustScaler ExtremeRandomTrees                0:00:46       0.8600    0.8650\n",
      "        14   RobustScaler RandomForest                      0:00:41       0.8600    0.8650\n",
      "        15   StandardScalerWrapper ExtremeRandomTrees       0:00:49       0.8550    0.8650\n",
      "        16   StandardScalerWrapper RandomForest             0:00:48       0.8450    0.8650\n",
      "        17   SparseNormalizer XGBoostClassifier             0:00:44       0.8100    0.8650\n",
      "        18   SparseNormalizer XGBoostClassifier             0:00:43       0.8100    0.8650\n",
      "        19   StandardScalerWrapper LightGBM                 0:00:46       0.8700    0.8700\n",
      "        20   SparseNormalizer XGBoostClassifier             0:00:49       0.8000    0.8700\n",
      "        21   StandardScalerWrapper XGBoostClassifier        0:00:51       0.8600    0.8700\n",
      "        22   MaxAbsScaler LightGBM                          0:00:49       0.8650    0.8700\n",
      "        23   StandardScalerWrapper XGBoostClassifier        0:00:44       0.8450    0.8700\n",
      "        24   MaxAbsScaler KNN                               0:00:43       0.7600    0.8700\n",
      "        25   SparseNormalizer LightGBM                      0:00:43       0.7250    0.8700\n",
      "        26   MaxAbsScaler ExtremeRandomTrees                0:00:49       0.8050    0.8700\n",
      "        27   StandardScalerWrapper LightGBM                 0:00:44       0.8350    0.8700\n",
      "        28   RobustScaler LightGBM                          0:00:48       0.8800    0.8800\n",
      "        29   StandardScalerWrapper GradientBoosting         0:00:54       0.8650    0.8800\n",
      "        30   StandardScalerWrapper LightGBM                 0:00:41       0.7250    0.8800\n",
      "        31   StandardScalerWrapper LightGBM                 0:00:45       0.8750    0.8800\n",
      "        32   StandardScalerWrapper LightGBM                 0:00:41       0.8050    0.8800\n",
      "        33   RobustScaler RandomForest                      0:00:44       0.8500    0.8800\n",
      "        34   StandardScalerWrapper ExtremeRandomTrees       0:00:40       0.7250    0.8800\n",
      "        35   RobustScaler LightGBM                          0:00:47       0.7250    0.8800\n",
      "        36   StandardScalerWrapper LightGBM                 0:00:47       0.8700    0.8800\n",
      "        37   RobustScaler LightGBM                          0:00:46       0.7600    0.8800\n",
      "        38   SparseNormalizer XGBoostClassifier             0:00:49       0.8350    0.8800\n",
      "        39   StandardScalerWrapper XGBoostClassifier        0:00:44       0.8700    0.8800\n",
      "        40   MinMaxScaler LightGBM                          0:00:46       0.8650    0.8800\n",
      "        41   SparseNormalizer XGBoostClassifier             0:00:40       0.8350    0.8800\n",
      "        42   RobustScaler RandomForest                      0:00:40       0.8550    0.8800\n",
      "        43   MinMaxScaler LightGBM                          0:00:25       0.8450    0.8800\n",
      "        44                                                  0:00:18          nan    0.8800\n",
      "        45    VotingEnsemble                                0:01:11       0.8850    0.8850\n",
      "        46    StackEnsemble                                 0:01:18       0.8850    0.8850\n"
     ]
    },
    {
     "data": {
      "text/plain": [
       "{'runId': 'AutoML_7dfd39c3-7a02-4dea-bd45-57388d5a593f',\n",
       " 'target': 'Saturn-AI',\n",
       " 'status': 'Completed',\n",
       " 'startTimeUtc': '2021-04-19T06:11:29.834521Z',\n",
       " 'endTimeUtc': '2021-04-19T06:39:14.787395Z',\n",
       " 'properties': {'num_iterations': '1000',\n",
       "  'training_type': 'TrainFull',\n",
       "  'acquisition_function': 'EI',\n",
       "  'primary_metric': 'accuracy',\n",
       "  'train_split': '0',\n",
       "  'acquisition_parameter': '0',\n",
       "  'num_cross_validation': '5',\n",
       "  'target': 'Saturn-AI',\n",
       "  'AMLSettingsJsonString': '{\"path\":null,\"name\":\"udacity-azure-capstone-project\",\"subscription_id\":\"6b4af8be-9931-443e-90f6-c4c34a1f9737\",\"resource_group\":\"aml-quickstarts-143110\",\"workspace_name\":\"quick-starts-ws-143110\",\"region\":\"southcentralus\",\"compute_target\":\"Saturn-AI\",\"spark_service\":null,\"azure_service\":\"remote\",\"many_models\":false,\"pipeline_fetch_max_batch_size\":1,\"enable_batch_run\":false,\"enable_run_restructure\":false,\"iterations\":1000,\"primary_metric\":\"accuracy\",\"task_type\":\"classification\",\"data_script\":null,\"test_size\":0.0,\"validation_size\":0.0,\"n_cross_validations\":5,\"y_min\":null,\"y_max\":null,\"num_classes\":null,\"featurization\":\"auto\",\"_ignore_package_version_incompatibilities\":false,\"is_timeseries\":false,\"max_cores_per_iteration\":1,\"max_concurrent_iterations\":4,\"iteration_timeout_minutes\":null,\"mem_in_mb\":null,\"enforce_time_on_windows\":true,\"experiment_timeout_minutes\":30,\"experiment_exit_score\":null,\"whitelist_models\":null,\"blacklist_algos\":[\"TensorFlowLinearClassifier\",\"TensorFlowDNN\"],\"supported_models\":[\"SVM\",\"XGBoostClassifier\",\"DecisionTree\",\"KNN\",\"LogisticRegression\",\"BernoulliNaiveBayes\",\"AveragedPerceptronClassifier\",\"TensorFlowDNN\",\"RandomForest\",\"LinearSVM\",\"LightGBM\",\"GradientBoosting\",\"TensorFlowLinearClassifier\",\"MultinomialNaiveBayes\",\"SGD\",\"ExtremeRandomTrees\"],\"private_models\":[],\"auto_blacklist\":true,\"blacklist_samples_reached\":false,\"exclude_nan_labels\":true,\"verbosity\":20,\"_debug_log\":\"azureml_automl.log\",\"show_warnings\":false,\"model_explainability\":true,\"service_url\":null,\"sdk_url\":null,\"sdk_packages\":null,\"enable_onnx_compatible_models\":false,\"enable_split_onnx_featurizer_estimator_models\":false,\"vm_type\":\"STANDARD_D2_V2\",\"telemetry_verbosity\":20,\"send_telemetry\":true,\"enable_dnn\":false,\"scenario\":\"SDK-1.13.0\",\"environment_label\":null,\"save_mlflow\":false,\"force_text_dnn\":false,\"enable_feature_sweeping\":true,\"enable_early_stopping\":true,\"early_stopping_n_iters\":10,\"metrics\":null,\"enable_metric_confidence\":false,\"enable_ensembling\":true,\"enable_stack_ensembling\":true,\"ensemble_iterations\":15,\"enable_tf\":false,\"enable_subsampling\":null,\"subsample_seed\":null,\"enable_nimbusml\":false,\"enable_streaming\":false,\"force_streaming\":false,\"track_child_runs\":true,\"allowed_private_models\":[],\"label_column_name\":\"DEATH_EVENT\",\"weight_column_name\":null,\"cv_split_column_names\":null,\"enable_local_managed\":false,\"_local_managed_run_id\":null,\"cost_mode\":1,\"lag_length\":0,\"metric_operation\":\"maximize\",\"preprocess\":true}',\n",
       "  'DataPrepJsonString': '{\\\\\"training_data\\\\\": {\\\\\"datasetId\\\\\": \\\\\"95ea76fe-93a6-46ee-b100-c0b053b62c3d\\\\\"}, \\\\\"datasets\\\\\": 0}',\n",
       "  'EnableSubsampling': None,\n",
       "  'runTemplate': 'AutoML',\n",
       "  'azureml.runsource': 'automl',\n",
       "  'display_task_type': 'classification',\n",
       "  'dependencies_versions': '{\"azureml-widgets\": \"1.26.0\", \"azureml-train\": \"1.26.0\", \"azureml-train-restclients-hyperdrive\": \"1.26.0\", \"azureml-train-core\": \"1.26.0\", \"azureml-train-automl-client\": \"1.26.0\", \"azureml-telemetry\": \"1.26.0\", \"azureml-sdk\": \"1.26.0\", \"azureml-pipeline\": \"1.26.0\", \"azureml-pipeline-steps\": \"1.26.0\", \"azureml-pipeline-core\": \"1.26.0\", \"azureml-dataset-runtime\": \"1.26.0\", \"azureml-dataprep\": \"2.13.2\", \"azureml-dataprep-rslex\": \"1.11.2\", \"azureml-dataprep-native\": \"32.0.0\", \"azureml-core\": \"1.26.0\", \"azureml-contrib-services\": \"1.26.0\", \"azureml-contrib-server\": \"1.26.0\", \"azureml-contrib-pipeline-steps\": \"1.26.0\", \"azureml-contrib-notebook\": \"1.26.0\", \"azureml-automl-core\": \"1.26.0\"}',\n",
       "  '_aml_system_scenario_identification': 'Remote.Parent',\n",
       "  'ClientType': 'SDK',\n",
       "  'environment_cpu_name': 'AzureML-AutoML',\n",
       "  'environment_cpu_label': 'prod',\n",
       "  'environment_gpu_name': 'AzureML-AutoML-GPU',\n",
       "  'environment_gpu_label': 'prod',\n",
       "  'root_attribution': 'automl',\n",
       "  'attribution': 'AutoML',\n",
       "  'Orchestrator': 'AutoML',\n",
       "  'CancelUri': 'https://southcentralus.experiments.azureml.net/jasmine/v1.0/subscriptions/6b4af8be-9931-443e-90f6-c4c34a1f9737/resourceGroups/aml-quickstarts-143110/providers/Microsoft.MachineLearningServices/workspaces/quick-starts-ws-143110/experimentids/c9287a94-b876-4693-bfe8-1bab5f0fbc99/cancel/AutoML_7dfd39c3-7a02-4dea-bd45-57388d5a593f',\n",
       "  'ClientSdkVersion': '1.25.0',\n",
       "  'snapshotId': '00000000-0000-0000-0000-000000000000',\n",
       "  'SetupRunId': 'AutoML_7dfd39c3-7a02-4dea-bd45-57388d5a593f_setup',\n",
       "  'SetupRunContainerId': 'dcid.AutoML_7dfd39c3-7a02-4dea-bd45-57388d5a593f_setup',\n",
       "  'FeaturizationRunJsonPath': 'featurizer_container.json',\n",
       "  'FeaturizationRunId': 'AutoML_7dfd39c3-7a02-4dea-bd45-57388d5a593f_featurize',\n",
       "  'ProblemInfoJsonString': '{\"dataset_num_categorical\": 0, \"is_sparse\": false, \"subsampling\": false, \"dataset_classes\": 2, \"dataset_features\": 12, \"dataset_samples\": 200, \"single_frequency_class_detected\": false}',\n",
       "  'ModelExplainRunId': 'AutoML_7dfd39c3-7a02-4dea-bd45-57388d5a593f_ModelExplain',\n",
       "  'azureml.git.repository_uri': 'https://github.com/bhuiyanmobasshir94/Azure-Machine-Learning-Capstone-Project.git',\n",
       "  'mlflow.source.git.repoURL': 'https://github.com/bhuiyanmobasshir94/Azure-Machine-Learning-Capstone-Project.git',\n",
       "  'azureml.git.branch': 'main',\n",
       "  'mlflow.source.git.branch': 'main',\n",
       "  'azureml.git.commit': '14626b62e03ed4329ece6507aeb4eb39da0f0bb9',\n",
       "  'mlflow.source.git.commit': '14626b62e03ed4329ece6507aeb4eb39da0f0bb9',\n",
       "  'azureml.git.dirty': 'True'},\n",
       " 'inputDatasets': [{'dataset': {'id': '95ea76fe-93a6-46ee-b100-c0b053b62c3d'}, 'consumptionDetails': {'type': 'RunInput', 'inputName': 'training_data', 'mechanism': 'Direct'}}],\n",
       " 'outputDatasets': [],\n",
       " 'logFiles': {},\n",
       " 'submittedBy': 'ODL_User 143110'}"
      ]
     },
     "execution_count": 16,
     "metadata": {},
     "output_type": "execute_result"
    }
   ],
   "source": [
    "from azureml.widgets import RunDetails\n",
    "\n",
    "RunDetails(remote_run).show()\n",
    "remote_run.wait_for_completion(show_output=True)"
   ]
  },
  {
   "cell_type": "markdown",
   "metadata": {},
   "source": [
    "## Best Model\n",
    "\n",
    "TODO: In the cell below, get the best model from the automl experiments and display all the properties of the model.\n",
    "\n"
   ]
  },
  {
   "cell_type": "code",
   "execution_count": 18,
   "metadata": {
    "gather": {
     "logged": 1598431425670
    },
    "jupyter": {
     "outputs_hidden": false,
     "source_hidden": false
    },
    "nteract": {
     "transient": {
      "deleting": false
     }
    }
   },
   "outputs": [
    {
     "name": "stderr",
     "output_type": "stream",
     "text": [
      "WARNING - The model you attempted to retrieve requires 'azureml-train-automl-runtime' to be installed at '==1.25.0'. Please install 'azureml-train-automl-runtime==1.25.0' (e.g. `pip install azureml-train-automl-runtime==1.25.0`) and then rerun the previous command.\n"
     ]
    }
   ],
   "source": [
    "best_run, model = remote_run.get_output()\n",
    "best_run_tags = best_run.get_tags()\n",
    "best_run_metrics = best_run.get_metrics()"
   ]
  },
  {
   "cell_type": "code",
   "execution_count": 19,
   "metadata": {
    "gather": {
     "logged": 1598431426111
    },
    "jupyter": {
     "outputs_hidden": false,
     "source_hidden": false
    },
    "nteract": {
     "transient": {
      "deleting": false
     }
    }
   },
   "outputs": [
    {
     "data": {
      "text/plain": [
       "{'_aml_system_azureml.automlComponent': 'AutoML',\n",
       " '_aml_system_ComputeTargetStatus': '{\"AllocationState\":\"steady\",\"PreparingNodeCount\":0,\"RunningNodeCount\":4,\"CurrentNodeCount\":4}',\n",
       " 'mlflow.source.type': 'JOB',\n",
       " 'mlflow.source.name': 'automl_driver.py',\n",
       " 'ensembled_iterations': '[28, 31, 39, 36, 19, 10]',\n",
       " 'ensembled_algorithms': \"['LightGBM', 'LightGBM', 'XGBoostClassifier', 'LightGBM', 'LightGBM', 'XGBoostClassifier']\",\n",
       " 'ensemble_weights': '[0.16666666666666666, 0.16666666666666666, 0.16666666666666666, 0.16666666666666666, 0.16666666666666666, 0.16666666666666666]',\n",
       " 'best_individual_pipeline_score': '0.8799999999999999',\n",
       " 'best_individual_iteration': '28',\n",
       " '_aml_system_automl_is_child_run_end_telemetry_event_logged': 'True',\n",
       " 'model_explain_run_id': 'AutoML_7dfd39c3-7a02-4dea-bd45-57388d5a593f_ModelExplain',\n",
       " 'model_explanation': 'True'}"
      ]
     },
     "execution_count": 19,
     "metadata": {},
     "output_type": "execute_result"
    }
   ],
   "source": [
    "best_run_tags"
   ]
  },
  {
   "cell_type": "code",
   "execution_count": 20,
   "metadata": {},
   "outputs": [
    {
     "data": {
      "text/plain": [
       "{'average_precision_score_macro': 0.8787650500709356,\n",
       " 'f1_score_weighted': 0.8773029792285054,\n",
       " 'log_loss': 0.3648240126044199,\n",
       " 'recall_score_weighted': 0.885,\n",
       " 'recall_score_micro': 0.885,\n",
       " 'balanced_accuracy': 0.8036260822510822,\n",
       " 'AUC_macro': 0.9089930633002516,\n",
       " 'norm_macro_recall': 0.6072521645021645,\n",
       " 'accuracy': 0.885,\n",
       " 'precision_score_weighted': 0.884593578694919,\n",
       " 'recall_score_macro': 0.8036260822510822,\n",
       " 'f1_score_micro': 0.885,\n",
       " 'matthews_correlation': 0.6796509440798123,\n",
       " 'AUC_micro': 0.9263750000000002,\n",
       " 'precision_score_micro': 0.885,\n",
       " 'precision_score_macro': 0.8832279938857264,\n",
       " 'average_precision_score_weighted': 0.9208642878664453,\n",
       " 'f1_score_macro': 0.8293225060554272,\n",
       " 'average_precision_score_micro': 0.9278879094270721,\n",
       " 'weighted_accuracy': 0.9308981279592097,\n",
       " 'AUC_weighted': 0.9089930633002519,\n",
       " 'accuracy_table': 'aml://artifactId/ExperimentRun/dcid.AutoML_7dfd39c3-7a02-4dea-bd45-57388d5a593f_46/accuracy_table',\n",
       " 'confusion_matrix': 'aml://artifactId/ExperimentRun/dcid.AutoML_7dfd39c3-7a02-4dea-bd45-57388d5a593f_46/confusion_matrix'}"
      ]
     },
     "execution_count": 20,
     "metadata": {},
     "output_type": "execute_result"
    }
   ],
   "source": [
    "best_run_metrics"
   ]
  },
  {
   "cell_type": "code",
   "execution_count": 25,
   "metadata": {},
   "outputs": [
    {
     "data": {
      "text/plain": [
       "['models/automl.pkl']"
      ]
     },
     "execution_count": 25,
     "metadata": {},
     "output_type": "execute_result"
    }
   ],
   "source": [
    "joblib.dump(model,'models/automl.pkl')"
   ]
  },
  {
   "cell_type": "markdown",
   "metadata": {},
   "source": [
    "## Model Deployment\n",
    "\n",
    "Remember you have to deploy only one of the two models you trained.. Perform the steps in the rest of this notebook only if you wish to deploy this model.\n",
    "\n",
    "TODO: In the cell below, register the model, create an inference config and deploy the model as a web service."
   ]
  },
  {
   "cell_type": "code",
   "execution_count": 28,
   "metadata": {
    "gather": {
     "logged": 1598431435189
    },
    "jupyter": {
     "outputs_hidden": false,
     "source_hidden": false
    },
    "nteract": {
     "transient": {
      "deleting": false
     }
    }
   },
   "outputs": [
    {
     "data": {
      "text/plain": [
       "Model(workspace=Workspace.create(name='quick-starts-ws-143110', subscription_id='6b4af8be-9931-443e-90f6-c4c34a1f9737', resource_group='aml-quickstarts-143110'), name=automl, id=automl:1, version=1, tags={'Name': 'AutoML'}, properties={'AUC': '0.9089930633002519', 'Accuracy': '0.885'})"
      ]
     },
     "execution_count": 28,
     "metadata": {},
     "output_type": "execute_result"
    }
   ],
   "source": [
    "best_run.register_model(model_path='outputs/model.pkl', model_name='automl',\n",
    "                        tags={'Name':'AutoML'},\n",
    "                        properties={'AUC': best_run_metrics['AUC_weighted'], 'Accuracy': best_run_metrics['accuracy']})"
   ]
  },
  {
   "cell_type": "code",
   "execution_count": 38,
   "metadata": {},
   "outputs": [],
   "source": [
    "best_run.download_file(constants.CONDA_ENV_FILE_PATH, \"env.yml\")"
   ]
  },
  {
   "cell_type": "code",
   "execution_count": 41,
   "metadata": {},
   "outputs": [],
   "source": [
    "env  = os.getenv(\"env.yml\")\n",
    "env"
   ]
  },
  {
   "cell_type": "code",
   "execution_count": 40,
   "metadata": {},
   "outputs": [],
   "source": [
    "inference_config = InferenceConfig(entry_script=\"scoring.py\", environment)\n",
    "aci_config = AciWebservice.deploy_configuration(cpu_cores=1, memory_gb=1)"
   ]
  },
  {
   "cell_type": "code",
   "execution_count": null,
   "metadata": {},
   "outputs": [],
   "source": [
    "service = Model.deploy(workspace=ws,\n",
    "                      name=\"automl-service\",\n",
    "                      models=[model],\n",
    "                      inference_config=inference_config,\n",
    "                      deployment_config=aci_config,\n",
    "                      overwrite=True)\n",
    "service.wait_for_deployment(show_output=True)"
   ]
  },
  {
   "cell_type": "markdown",
   "metadata": {
    "collapsed": true,
    "gather": {
     "logged": 1598431657736
    },
    "jupyter": {
     "outputs_hidden": false,
     "source_hidden": false
    },
    "nteract": {
     "transient": {
      "deleting": false
     }
    }
   },
   "source": [
    "TODO: In the cell below, send a request to the web service you deployed to test it."
   ]
  },
  {
   "cell_type": "code",
   "execution_count": null,
   "metadata": {
    "gather": {
     "logged": 1598432707604
    },
    "jupyter": {
     "outputs_hidden": false,
     "source_hidden": false
    },
    "nteract": {
     "transient": {
      "deleting": false
     }
    }
   },
   "outputs": [],
   "source": []
  },
  {
   "cell_type": "markdown",
   "metadata": {
    "collapsed": true,
    "gather": {
     "logged": 1598432765711
    },
    "jupyter": {
     "outputs_hidden": false,
     "source_hidden": false
    },
    "nteract": {
     "transient": {
      "deleting": false
     }
    }
   },
   "source": [
    "TODO: In the cell below, print the logs of the web service and delete the service"
   ]
  },
  {
   "cell_type": "code",
   "execution_count": null,
   "metadata": {
    "jupyter": {
     "outputs_hidden": false,
     "source_hidden": false
    },
    "nteract": {
     "transient": {
      "deleting": false
     }
    }
   },
   "outputs": [],
   "source": []
  }
 ],
 "metadata": {
  "kernel_info": {
   "name": "python3-azureml"
  },
  "kernelspec": {
   "display_name": "Python 3",
   "language": "python",
   "name": "python3"
  },
  "language_info": {
   "codemirror_mode": {
    "name": "ipython",
    "version": 3
   },
   "file_extension": ".py",
   "mimetype": "text/x-python",
   "name": "python",
   "nbconvert_exporter": "python",
   "pygments_lexer": "ipython3",
   "version": "3.8.5"
  },
  "nteract": {
   "version": "nteract-front-end@1.0.0"
  }
 },
 "nbformat": 4,
 "nbformat_minor": 2
}
