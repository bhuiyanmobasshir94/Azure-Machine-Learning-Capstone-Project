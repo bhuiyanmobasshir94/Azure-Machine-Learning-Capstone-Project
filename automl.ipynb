{
 "cells": [
  {
   "cell_type": "markdown",
   "metadata": {},
   "source": [
    "# Automated ML\n",
    "\n",
    "TODO: Import Dependencies. In the cell below, import all the dependencies that you will need to complete the project."
   ]
  },
  {
   "cell_type": "code",
   "execution_count": 1,
   "metadata": {
    "gather": {
     "logged": 1598423888013
    },
    "jupyter": {
     "outputs_hidden": false,
     "source_hidden": false
    },
    "nteract": {
     "transient": {
      "deleting": false
     }
    }
   },
   "outputs": [],
   "source": [
    "from azureml.core.experiment import Experiment\n",
    "from azureml.core.workspace import Workspace\n",
    "\n",
    "from azureml.core.dataset import Dataset\n",
    "from sklearn.model_selection import train_test_split\n",
    "\n",
    "from azureml.core.compute import ComputeTarget, AmlCompute\n",
    "from azureml.exceptions import ComputeTargetException"
   ]
  },
  {
   "cell_type": "code",
   "execution_count": 2,
   "metadata": {},
   "outputs": [],
   "source": [
    "from azureml.train.automl import AutoMLConfig"
   ]
  },
  {
   "cell_type": "code",
   "execution_count": 3,
   "metadata": {},
   "outputs": [],
   "source": [
    "from azureml.core import Model"
   ]
  },
  {
   "cell_type": "code",
   "execution_count": 4,
   "metadata": {},
   "outputs": [],
   "source": [
    "from azureml.automl.core.shared import constants\n",
    "from azureml.core.model import InferenceConfig\n",
    "from azureml.core.environment import Environment\n",
    "from azureml.core.webservice import Webservice, AciWebservice"
   ]
  },
  {
   "cell_type": "code",
   "execution_count": 5,
   "metadata": {},
   "outputs": [],
   "source": [
    "import joblib"
   ]
  },
  {
   "cell_type": "markdown",
   "metadata": {},
   "source": [
    "## Dataset\n",
    "\n",
    "### Overview\n",
    "TODO: In this markdown cell, give an overview of the dataset you are using. Also mention the task you will be performing.\n",
    "```\n",
    "In this prooject I am using heart failure clinical records dataset from UCI machine learning repository which follow ups death events based on 12 clinical features.\n",
    "```\n",
    "TODO: Get data. In the cell below, write code to access the data you will be using in this project. Remember that the dataset needs to be external.\n",
    "\n",
    "`UCI ML Repository for this dataset is` - [link](https://archive.ics.uci.edu/ml/machine-learning-databases/00519/heart_failure_clinical_records_dataset.csv)"
   ]
  },
  {
   "cell_type": "code",
   "execution_count": 6,
   "metadata": {
    "gather": {
     "logged": 1598423890461
    },
    "jupyter": {
     "outputs_hidden": false,
     "source_hidden": false
    },
    "nteract": {
     "transient": {
      "deleting": false
     }
    }
   },
   "outputs": [
    {
     "name": "stdout",
     "output_type": "stream",
     "text": [
      "Performing interactive authentication. Please follow the instructions on the terminal.\n"
     ]
    },
    {
     "name": "stderr",
     "output_type": "stream",
     "text": [
      "WARNING - Note, we have launched a browser for you to login. For old experience with device code, use \"az login --use-device-code\"\n"
     ]
    },
    {
     "name": "stdout",
     "output_type": "stream",
     "text": [
      "You have logged in. Now let us find all the subscriptions to which you have access...\n",
      "Interactive authentication successfully completed.\n"
     ]
    }
   ],
   "source": [
    "ws = Workspace.from_config()\n",
    "\n",
    "# choose a name for experiment\n",
    "experiment_name = 'udacity-azure-capstone-project'\n",
    "\n",
    "experiment=Experiment(ws, experiment_name)"
   ]
  },
  {
   "cell_type": "code",
   "execution_count": 7,
   "metadata": {},
   "outputs": [
    {
     "name": "stdout",
     "output_type": "stream",
     "text": [
      "Workspace name: quick-starts-ws-143143\n",
      "Azure region: southcentralus\n",
      "Subscription id: 9a7511b8-150f-4a58-8528-3e7d50216c31\n",
      "Resource group: aml-quickstarts-143143\n",
      "Workspace.create(name='quick-starts-ws-143143', subscription_id='9a7511b8-150f-4a58-8528-3e7d50216c31', resource_group='aml-quickstarts-143143')\n"
     ]
    }
   ],
   "source": [
    "print('Workspace name: ' + ws.name, \n",
    "      'Azure region: ' + ws.location, \n",
    "      'Subscription id: ' + ws.subscription_id, \n",
    "      'Resource group: ' + ws.resource_group, sep = '\\n')\n",
    "\n",
    "run = experiment.start_logging()\n",
    "print(ws)"
   ]
  },
  {
   "cell_type": "code",
   "execution_count": 8,
   "metadata": {},
   "outputs": [
    {
     "name": "stdout",
     "output_type": "stream",
     "text": [
      "Creating....\n",
      "SucceededProvisioning operation finished, operation \"Succeeded\"\n",
      "Succeeded\n",
      "AmlCompute wait for completion finished\n",
      "\n",
      "Minimum number of nodes requested have been provisioned\n"
     ]
    }
   ],
   "source": [
    "compute_cluster_name = \"Saturn-AI\"\n",
    "\n",
    "try:\n",
    "    compute_cluster = ComputeTarget(workspace=ws, name=compute_cluster_name)\n",
    "except ComputeTargetException:\n",
    "    compute_cluster_config = AmlCompute.provisioning_configuration(vm_size=\"STANDARD_D2_V2\", max_nodes=4)\n",
    "    compute_cluster = ComputeTarget.create(ws, compute_cluster_name, compute_cluster_config)\n",
    "\n",
    "compute_cluster.wait_for_completion(show_output=True)"
   ]
  },
  {
   "cell_type": "code",
   "execution_count": 9,
   "metadata": {},
   "outputs": [],
   "source": [
    "DATASET_URI = 'https://archive.ics.uci.edu/ml/machine-learning-databases/00519/heart_failure_clinical_records_dataset.csv'"
   ]
  },
  {
   "cell_type": "code",
   "execution_count": 10,
   "metadata": {},
   "outputs": [
    {
     "name": "stdout",
     "output_type": "stream",
     "text": [
      "Dataframe shape: (299, 13)\n",
      "Train count:  200\n",
      "Test count:  99\n",
      "Uploading an estimated of 1 files\n",
      "Uploading ./train.csv\n",
      "Uploaded ./train.csv, 1 files out of an estimated total of 1\n",
      "Uploaded 1 files\n",
      "Uploading an estimated of 1 files\n",
      "Uploading ./test.csv\n",
      "Uploaded ./test.csv, 1 files out of an estimated total of 1\n",
      "Uploaded 1 files\n"
     ]
    }
   ],
   "source": [
    "key = 'Heart Failure Clinical Records'\n",
    "\n",
    "if key in ws.datasets.keys():\n",
    "    dataset = ws.datasets[key]\n",
    "    print(\"Dataset exists in the datastore.\")\n",
    "\n",
    "else:\n",
    "    dataset = Dataset.Tabular.from_delimited_files(DATASET_URI)\n",
    "    dataset = dataset.register(ws,key)\n",
    "\n",
    "df = dataset.to_pandas_dataframe()\n",
    "print(f'Dataframe shape:', df.shape)\n",
    "\n",
    "train, test = train_test_split(df, test_size=.33, shuffle=True)\n",
    "print(f'Train count: ', len(train))\n",
    "print(f'Test count: ', len(test))\n",
    "train.to_csv('train.csv',index = False)\n",
    "test.to_csv('test.csv',index = False)\n",
    "\n",
    "datastore = ws.get_default_datastore()\n",
    "datastore.upload_files(files = ['./train.csv'])\n",
    "datastore.upload_files(files = ['./test.csv'])\n",
    "\n",
    "train = Dataset.Tabular.from_delimited_files([(datastore,'train.csv')])\n",
    "test = Dataset.Tabular.from_delimited_files([(datastore,'test.csv')])"
   ]
  },
  {
   "cell_type": "markdown",
   "metadata": {},
   "source": [
    "## AutoML Configuration\n",
    "\n",
    "TODO: Explain why you chose the automl settings and cofiguration you used below."
   ]
  },
  {
   "cell_type": "code",
   "execution_count": 11,
   "metadata": {
    "gather": {
     "logged": 1598429217746
    },
    "jupyter": {
     "outputs_hidden": false,
     "source_hidden": false
    },
    "nteract": {
     "transient": {
      "deleting": false
     }
    }
   },
   "outputs": [],
   "source": [
    "# TODO: Put your automl settings here\n",
    "automl_settings = {} ## Defined in altogether with config\n",
    "\n",
    "# TODO: Put your automl config here\n",
    "automl_config = AutoMLConfig(\n",
    "    compute_target=compute_cluster,\n",
    "    task=\"classification\",\n",
    "    training_data=train,\n",
    "    label_column_name=\"DEATH_EVENT\",\n",
    "    primary_metric=\"accuracy\",\n",
    "    n_cross_validations=5,\n",
    "    experiment_timeout_minutes=30,\n",
    "    enable_early_stopping=True,\n",
    "    max_concurrent_iterations=4)"
   ]
  },
  {
   "cell_type": "code",
   "execution_count": 12,
   "metadata": {
    "gather": {
     "logged": 1598431107951
    },
    "jupyter": {
     "outputs_hidden": false,
     "source_hidden": false
    },
    "nteract": {
     "transient": {
      "deleting": false
     }
    }
   },
   "outputs": [
    {
     "name": "stdout",
     "output_type": "stream",
     "text": [
      "Submitting remote run.\n",
      "No run_configuration provided, running on Saturn-AI with default configuration\n",
      "Running on remote compute: Saturn-AI\n"
     ]
    },
    {
     "data": {
      "text/html": [
       "<table style=\"width:100%\"><tr><th>Experiment</th><th>Id</th><th>Type</th><th>Status</th><th>Details Page</th><th>Docs Page</th></tr><tr><td>udacity-azure-capstone-project</td><td>AutoML_665cb8fb-2826-4b41-a971-2e6ac8178cfc</td><td>automl</td><td>NotStarted</td><td><a href=\"https://ml.azure.com/runs/AutoML_665cb8fb-2826-4b41-a971-2e6ac8178cfc?wsid=/subscriptions/9a7511b8-150f-4a58-8528-3e7d50216c31/resourcegroups/aml-quickstarts-143143/workspaces/quick-starts-ws-143143&amp;tid=660b3398-b80e-49d2-bc5b-ac1dc93b5254\" target=\"_blank\" rel=\"noopener\">Link to Azure Machine Learning studio</a></td><td><a href=\"https://docs.microsoft.com/en-us/python/api/overview/azure/ml/intro?view=azure-ml-py\" target=\"_blank\" rel=\"noopener\">Link to Documentation</a></td></tr></table>"
      ],
      "text/plain": [
       "<IPython.core.display.HTML object>"
      ]
     },
     "metadata": {},
     "output_type": "display_data"
    },
    {
     "name": "stdout",
     "output_type": "stream",
     "text": [
      "\n",
      "Current status: FeaturesGeneration. Generating features for the dataset.\n",
      "Current status: DatasetCrossValidationSplit. Generating individually featurized CV splits.\n",
      "Current status: ModelSelection. Beginning model selection.\n",
      "\n",
      "****************************************************************************************************\n",
      "DATA GUARDRAILS: \n",
      "\n",
      "TYPE:         Class balancing detection\n",
      "STATUS:       PASSED\n",
      "DESCRIPTION:  Your inputs were analyzed, and all classes are balanced in your training data.\n",
      "              Learn more about imbalanced data: https://aka.ms/AutomatedMLImbalancedData\n",
      "\n",
      "****************************************************************************************************\n",
      "\n",
      "TYPE:         Missing feature values imputation\n",
      "STATUS:       PASSED\n",
      "DESCRIPTION:  No feature missing values were detected in the training data.\n",
      "              Learn more about missing value imputation: https://aka.ms/AutomatedMLFeaturization\n",
      "\n",
      "****************************************************************************************************\n",
      "\n",
      "TYPE:         High cardinality feature detection\n",
      "STATUS:       PASSED\n",
      "DESCRIPTION:  Your inputs were analyzed, and no high cardinality features were detected.\n",
      "              Learn more about high cardinality feature handling: https://aka.ms/AutomatedMLFeaturization\n",
      "\n",
      "****************************************************************************************************\n",
      "\n",
      "****************************************************************************************************\n",
      "ITERATION: The iteration being evaluated.\n",
      "PIPELINE: A summary description of the pipeline being evaluated.\n",
      "DURATION: Time taken for the current iteration.\n",
      "METRIC: The result of computing score on the fitted pipeline.\n",
      "BEST: The best observed score thus far.\n",
      "****************************************************************************************************\n",
      "\n",
      " ITERATION   PIPELINE                                       DURATION      METRIC      BEST\n",
      "         0   MaxAbsScaler LightGBM                          0:00:43       0.7950    0.7950\n",
      "         1   MaxAbsScaler XGBoostClassifier                 0:00:45       0.8450    0.8450\n",
      "         3   MinMaxScaler RandomForest                      0:00:45       0.8100    0.8450\n",
      "         6   TruncatedSVDWrapper LightGBM                   0:00:45       0.7900    0.8450\n",
      "         5   MaxAbsScaler LightGBM                          0:02:05       0.8100    0.8450\n",
      "         7   MinMaxScaler SVM                               0:00:53       0.7150    0.8450\n",
      "         2   MinMaxScaler RandomForest                      0:03:15       0.8350    0.8450\n",
      "         8   MinMaxScaler SVM                               0:00:51       0.7150    0.8450\n",
      "         9   MaxAbsScaler LightGBM                          0:00:50       0.8300    0.8450\n",
      "        10   StandardScalerWrapper LightGBM                 0:00:41       0.8350    0.8450\n",
      "        11   RobustScaler RandomForest                      0:00:46       0.8500    0.8500\n",
      "        12   MinMaxScaler LightGBM                          0:00:48       0.7950    0.8500\n",
      "        13   MaxAbsScaler LightGBM                          0:00:44       0.8300    0.8500\n",
      "        14   StandardScalerWrapper LogisticRegression       0:00:43       0.8050    0.8500\n",
      "         4   MinMaxScaler RandomForest                      0:05:19       0.8400    0.8500\n",
      "        15   MinMaxScaler LightGBM                          0:00:50       0.8250    0.8500\n",
      "        16   MaxAbsScaler LightGBM                          0:00:46       0.6950    0.8500\n",
      "        17   MaxAbsScaler ExtremeRandomTrees                0:00:51       0.8450    0.8500\n",
      "        18   MinMaxScaler LightGBM                          0:00:44       0.8350    0.8500\n",
      "        19   StandardScalerWrapper XGBoostClassifier        0:00:51       0.8400    0.8500\n",
      "        20   MinMaxScaler LightGBM                          0:00:44       0.8550    0.8550\n",
      "        21   SparseNormalizer XGBoostClassifier             0:00:46       0.8200    0.8550\n",
      "        22   SparseNormalizer LightGBM                      0:00:46       0.8350    0.8550\n",
      "        23   MinMaxScaler LightGBM                          0:00:41       0.8350    0.8550\n",
      "        24   StandardScalerWrapper XGBoostClassifier        0:00:45       0.8650    0.8650\n",
      "        25   StandardScalerWrapper LightGBM                 0:00:46       0.6750    0.8650\n",
      "        26   SparseNormalizer XGBoostClassifier             0:00:45       0.8100    0.8650\n",
      "        28   MinMaxScaler LightGBM                          0:00:44       0.8200    0.8650\n",
      "        27   MaxAbsScaler ExtremeRandomTrees                0:01:00       0.8350    0.8650\n",
      "        30   SparseNormalizer XGBoostClassifier             0:00:42       0.7800    0.8650\n",
      "        29   SparseNormalizer ExtremeRandomTrees            0:00:49       0.7800    0.8650\n",
      "        31   SparseNormalizer RandomForest                  0:00:43       0.8000    0.8650\n",
      "        32   SparseNormalizer XGBoostClassifier             0:00:43       0.8150    0.8650\n",
      "        33   RobustScaler ExtremeRandomTrees                0:00:41       0.7900    0.8650\n",
      "        34   MaxAbsScaler LightGBM                          0:00:51       0.7950    0.8650\n",
      "        35   PCA XGBoostClassifier                          0:00:50       0.6750    0.8650\n",
      "        36   MaxAbsScaler LightGBM                          0:00:52       0.8700    0.8700\n",
      "        37   StandardScalerWrapper GradientBoosting         0:00:54       0.8450    0.8700\n",
      "        38   MaxAbsScaler LightGBM                          0:00:46       0.8100    0.8700\n",
      "        39   MinMaxScaler GradientBoosting                  0:00:45       0.8300    0.8700\n",
      "        40   StandardScalerWrapper LightGBM                 0:00:48       0.7900    0.8700\n",
      "        41   RobustScaler LightGBM                          0:00:42       0.8300    0.8700\n",
      "        42   RobustScaler ExtremeRandomTrees                0:00:49       0.8300    0.8700\n",
      "        43   RobustScaler ExtremeRandomTrees                0:00:48       0.8400    0.8700\n",
      "        45   SparseNormalizer LightGBM                      0:00:40       0.8250    0.8700\n",
      "        44   MinMaxScaler GradientBoosting                  0:01:07       0.8400    0.8700\n",
      "        46   MinMaxScaler LightGBM                          0:00:47       0.8500    0.8700\n",
      "        47   RobustScaler ExtremeRandomTrees                0:00:38       0.8100    0.8700\n",
      "        48   StandardScalerWrapper RandomForest             0:00:40       0.8500    0.8700\n",
      "        49   MinMaxScaler LightGBM                          0:00:43       0.8100    0.8700\n",
      "        50   MaxAbsScaler ExtremeRandomTrees                0:00:50       0.8450    0.8700\n",
      "        51                                                  0:00:16          nan    0.8700\n",
      "        52                                                  0:00:14          nan    0.8700\n",
      "        53    VotingEnsemble                                0:01:08       0.8900    0.8900\n",
      "        54    StackEnsemble                                 0:01:24       0.8550    0.8900\n"
     ]
    }
   ],
   "source": [
    "# TODO: Submit your experiment\n",
    "remote_run = experiment.submit(automl_config, show_output=True)"
   ]
  },
  {
   "cell_type": "markdown",
   "metadata": {},
   "source": [
    "## Run Details\n",
    "\n",
    "OPTIONAL: Write about the different models trained and their performance. Why do you think some models did better than others?\n",
    "\n",
    "TODO: In the cell below, use the `RunDetails` widget to show the different experiments."
   ]
  },
  {
   "cell_type": "code",
   "execution_count": 13,
   "metadata": {
    "gather": {
     "logged": 1598431121770
    },
    "jupyter": {
     "outputs_hidden": false,
     "source_hidden": false
    },
    "nteract": {
     "transient": {
      "deleting": false
     }
    }
   },
   "outputs": [
    {
     "data": {
      "application/vnd.jupyter.widget-view+json": {
       "model_id": "d0bbd6b579be41a588d80fe1869f9fbf",
       "version_major": 2,
       "version_minor": 0
      },
      "text/plain": [
       "_AutoMLWidget(widget_settings={'childWidgetDisplay': 'popup', 'send_telemetry': False, 'log_level': 'INFO', 's…"
      ]
     },
     "metadata": {},
     "output_type": "display_data"
    },
    {
     "data": {
      "application/aml.mini.widget.v1": "{\"status\": \"Completed\", \"workbench_run_details_uri\": \"https://ml.azure.com/runs/AutoML_665cb8fb-2826-4b41-a971-2e6ac8178cfc?wsid=/subscriptions/9a7511b8-150f-4a58-8528-3e7d50216c31/resourcegroups/aml-quickstarts-143143/workspaces/quick-starts-ws-143143&tid=660b3398-b80e-49d2-bc5b-ac1dc93b5254\", \"run_id\": \"AutoML_665cb8fb-2826-4b41-a971-2e6ac8178cfc\", \"run_properties\": {\"run_id\": \"AutoML_665cb8fb-2826-4b41-a971-2e6ac8178cfc\", \"created_utc\": \"2021-04-19T11:09:30.997813Z\", \"properties\": {\"num_iterations\": \"1000\", \"training_type\": \"TrainFull\", \"acquisition_function\": \"EI\", \"primary_metric\": \"accuracy\", \"train_split\": \"0\", \"acquisition_parameter\": \"0\", \"num_cross_validation\": \"5\", \"target\": \"Saturn-AI\", \"AMLSettingsJsonString\": \"{\\\"path\\\":null,\\\"name\\\":\\\"udacity-azure-capstone-project\\\",\\\"subscription_id\\\":\\\"9a7511b8-150f-4a58-8528-3e7d50216c31\\\",\\\"resource_group\\\":\\\"aml-quickstarts-143143\\\",\\\"workspace_name\\\":\\\"quick-starts-ws-143143\\\",\\\"region\\\":\\\"southcentralus\\\",\\\"compute_target\\\":\\\"Saturn-AI\\\",\\\"spark_service\\\":null,\\\"azure_service\\\":\\\"remote\\\",\\\"many_models\\\":false,\\\"pipeline_fetch_max_batch_size\\\":1,\\\"enable_batch_run\\\":false,\\\"enable_run_restructure\\\":false,\\\"iterations\\\":1000,\\\"primary_metric\\\":\\\"accuracy\\\",\\\"task_type\\\":\\\"classification\\\",\\\"data_script\\\":null,\\\"test_size\\\":0.0,\\\"validation_size\\\":0.0,\\\"n_cross_validations\\\":5,\\\"y_min\\\":null,\\\"y_max\\\":null,\\\"num_classes\\\":null,\\\"featurization\\\":\\\"auto\\\",\\\"_ignore_package_version_incompatibilities\\\":false,\\\"is_timeseries\\\":false,\\\"max_cores_per_iteration\\\":1,\\\"max_concurrent_iterations\\\":4,\\\"iteration_timeout_minutes\\\":null,\\\"mem_in_mb\\\":null,\\\"enforce_time_on_windows\\\":true,\\\"experiment_timeout_minutes\\\":30,\\\"experiment_exit_score\\\":null,\\\"whitelist_models\\\":null,\\\"blacklist_algos\\\":[\\\"TensorFlowLinearClassifier\\\",\\\"TensorFlowDNN\\\"],\\\"supported_models\\\":[\\\"TensorFlowDNN\\\",\\\"BernoulliNaiveBayes\\\",\\\"MultinomialNaiveBayes\\\",\\\"LinearSVM\\\",\\\"RandomForest\\\",\\\"XGBoostClassifier\\\",\\\"DecisionTree\\\",\\\"KNN\\\",\\\"SGD\\\",\\\"AveragedPerceptronClassifier\\\",\\\"GradientBoosting\\\",\\\"LogisticRegression\\\",\\\"SVM\\\",\\\"LightGBM\\\",\\\"ExtremeRandomTrees\\\",\\\"TensorFlowLinearClassifier\\\"],\\\"private_models\\\":[],\\\"auto_blacklist\\\":true,\\\"blacklist_samples_reached\\\":false,\\\"exclude_nan_labels\\\":true,\\\"verbosity\\\":20,\\\"_debug_log\\\":\\\"azureml_automl.log\\\",\\\"show_warnings\\\":false,\\\"model_explainability\\\":true,\\\"service_url\\\":null,\\\"sdk_url\\\":null,\\\"sdk_packages\\\":null,\\\"enable_onnx_compatible_models\\\":false,\\\"enable_split_onnx_featurizer_estimator_models\\\":false,\\\"vm_type\\\":\\\"STANDARD_D2_V2\\\",\\\"telemetry_verbosity\\\":20,\\\"send_telemetry\\\":true,\\\"enable_dnn\\\":false,\\\"scenario\\\":\\\"SDK-1.13.0\\\",\\\"environment_label\\\":null,\\\"save_mlflow\\\":false,\\\"force_text_dnn\\\":false,\\\"enable_feature_sweeping\\\":true,\\\"enable_early_stopping\\\":true,\\\"early_stopping_n_iters\\\":10,\\\"metrics\\\":null,\\\"enable_metric_confidence\\\":false,\\\"enable_ensembling\\\":true,\\\"enable_stack_ensembling\\\":true,\\\"ensemble_iterations\\\":15,\\\"enable_tf\\\":false,\\\"enable_subsampling\\\":null,\\\"subsample_seed\\\":null,\\\"enable_nimbusml\\\":false,\\\"enable_streaming\\\":false,\\\"force_streaming\\\":false,\\\"track_child_runs\\\":true,\\\"allowed_private_models\\\":[],\\\"label_column_name\\\":\\\"DEATH_EVENT\\\",\\\"weight_column_name\\\":null,\\\"cv_split_column_names\\\":null,\\\"enable_local_managed\\\":false,\\\"_local_managed_run_id\\\":null,\\\"cost_mode\\\":1,\\\"lag_length\\\":0,\\\"metric_operation\\\":\\\"maximize\\\",\\\"preprocess\\\":true}\", \"DataPrepJsonString\": \"{\\\\\\\"training_data\\\\\\\": {\\\\\\\"datasetId\\\\\\\": \\\\\\\"bf26633b-deb0-48a4-994e-02e6eab6be6c\\\\\\\"}, \\\\\\\"datasets\\\\\\\": 0}\", \"EnableSubsampling\": null, \"runTemplate\": \"AutoML\", \"azureml.runsource\": \"automl\", \"display_task_type\": \"classification\", \"dependencies_versions\": \"{\\\"azureml-widgets\\\": \\\"1.26.0\\\", \\\"azureml-train\\\": \\\"1.26.0\\\", \\\"azureml-train-restclients-hyperdrive\\\": \\\"1.26.0\\\", \\\"azureml-train-core\\\": \\\"1.26.0\\\", \\\"azureml-train-automl-client\\\": \\\"1.26.0\\\", \\\"azureml-telemetry\\\": \\\"1.26.0\\\", \\\"azureml-sdk\\\": \\\"1.26.0\\\", \\\"azureml-pipeline\\\": \\\"1.26.0\\\", \\\"azureml-pipeline-steps\\\": \\\"1.26.0\\\", \\\"azureml-pipeline-core\\\": \\\"1.26.0\\\", \\\"azureml-dataset-runtime\\\": \\\"1.26.0\\\", \\\"azureml-dataprep\\\": \\\"2.13.2\\\", \\\"azureml-dataprep-rslex\\\": \\\"1.11.2\\\", \\\"azureml-dataprep-native\\\": \\\"32.0.0\\\", \\\"azureml-core\\\": \\\"1.26.0\\\", \\\"azureml-contrib-services\\\": \\\"1.26.0\\\", \\\"azureml-contrib-server\\\": \\\"1.26.0\\\", \\\"azureml-contrib-pipeline-steps\\\": \\\"1.26.0\\\", \\\"azureml-contrib-notebook\\\": \\\"1.26.0\\\", \\\"azureml-automl-core\\\": \\\"1.26.0\\\"}\", \"_aml_system_scenario_identification\": \"Remote.Parent\", \"ClientType\": \"SDK\", \"environment_cpu_name\": \"AzureML-AutoML\", \"environment_cpu_label\": \"prod\", \"environment_gpu_name\": \"AzureML-AutoML-GPU\", \"environment_gpu_label\": \"prod\", \"root_attribution\": \"automl\", \"attribution\": \"AutoML\", \"Orchestrator\": \"AutoML\", \"CancelUri\": \"https://southcentralus.experiments.azureml.net/jasmine/v1.0/subscriptions/9a7511b8-150f-4a58-8528-3e7d50216c31/resourceGroups/aml-quickstarts-143143/providers/Microsoft.MachineLearningServices/workspaces/quick-starts-ws-143143/experimentids/da815bf2-8274-4573-8033-679dd7d02a67/cancel/AutoML_665cb8fb-2826-4b41-a971-2e6ac8178cfc\", \"ClientSdkVersion\": \"1.26.0\", \"snapshotId\": \"00000000-0000-0000-0000-000000000000\", \"SetupRunId\": \"AutoML_665cb8fb-2826-4b41-a971-2e6ac8178cfc_setup\", \"SetupRunContainerId\": \"dcid.AutoML_665cb8fb-2826-4b41-a971-2e6ac8178cfc_setup\", \"FeaturizationRunJsonPath\": \"featurizer_container.json\", \"FeaturizationRunId\": \"AutoML_665cb8fb-2826-4b41-a971-2e6ac8178cfc_featurize\", \"ProblemInfoJsonString\": \"{\\\"dataset_num_categorical\\\": 0, \\\"is_sparse\\\": false, \\\"subsampling\\\": false, \\\"dataset_classes\\\": 2, \\\"dataset_features\\\": 12, \\\"dataset_samples\\\": 200, \\\"single_frequency_class_detected\\\": false}\", \"ModelExplainRunId\": \"AutoML_665cb8fb-2826-4b41-a971-2e6ac8178cfc_ModelExplain\", \"azureml.git.repository_uri\": \"https://github.com/bhuiyanmobasshir94/Azure-Machine-Learning-Capstone-Project.git\", \"mlflow.source.git.repoURL\": \"https://github.com/bhuiyanmobasshir94/Azure-Machine-Learning-Capstone-Project.git\", \"azureml.git.branch\": \"main\", \"mlflow.source.git.branch\": \"main\", \"azureml.git.commit\": \"f7dacfa212dfd565874cf275a248c497e4fb63ef\", \"mlflow.source.git.commit\": \"f7dacfa212dfd565874cf275a248c497e4fb63ef\", \"azureml.git.dirty\": \"True\"}, \"tags\": {\"model_explain_run\": \"best_run\", \"_aml_system_azureml.automlComponent\": \"AutoML\", \"pipeline_id\": \"\", \"score\": \"\", \"predicted_cost\": \"\", \"fit_time\": \"\", \"training_percent\": \"\", \"iteration\": \"\", \"run_preprocessor\": \"\", \"run_algorithm\": \"\", \"dynamic_whitelisting_iterations\": \"<25>;<30>;<35>;<40>;<45>;<49>;\", \"automl_best_child_run_id\": \"AutoML_665cb8fb-2826-4b41-a971-2e6ac8178cfc_53\", \"model_explain_best_run_child_id\": \"AutoML_665cb8fb-2826-4b41-a971-2e6ac8178cfc_53\"}, \"end_time_utc\": \"2021-04-19T11:39:14.406235Z\", \"status\": \"Completed\", \"log_files\": {}, \"log_groups\": [], \"run_duration\": \"0:29:43\", \"run_number\": \"2\", \"run_queued_details\": {\"status\": \"Completed\", \"details\": null}}, \"child_runs\": [{\"run_id\": \"AutoML_665cb8fb-2826-4b41-a971-2e6ac8178cfc_0\", \"run_number\": 6, \"metric\": null, \"status\": \"Completed\", \"run_type\": \"azureml.scriptrun\", \"training_percent\": \"100\", \"start_time\": \"2021-04-19T11:20:34.352795Z\", \"end_time\": \"2021-04-19T11:21:17.522033Z\", \"created_time\": \"2021-04-19T11:20:20.820243Z\", \"created_time_dt\": \"2021-04-19T11:20:20.820243Z\", \"duration\": \"0:00:56\", \"iteration\": \"0\", \"goal\": \"accuracy_max\", \"run_name\": \"MaxAbsScaler, LightGBM\", \"run_properties\": \"copy=True\", \"primary_metric\": 0.795, \"best_metric\": 0.795}, {\"run_id\": \"AutoML_665cb8fb-2826-4b41-a971-2e6ac8178cfc_1\", \"run_number\": 7, \"metric\": null, \"status\": \"Completed\", \"run_type\": \"azureml.scriptrun\", \"training_percent\": \"100\", \"start_time\": \"2021-04-19T11:21:33.521611Z\", \"end_time\": \"2021-04-19T11:22:18.27785Z\", \"created_time\": \"2021-04-19T11:20:20.836886Z\", \"created_time_dt\": \"2021-04-19T11:20:20.836886Z\", \"duration\": \"0:01:57\", \"iteration\": \"1\", \"goal\": \"accuracy_max\", \"run_name\": \"MaxAbsScaler, XGBoostClassifier\", \"run_properties\": \"copy=True\", \"primary_metric\": 0.845, \"best_metric\": 0.845}, {\"run_id\": \"AutoML_665cb8fb-2826-4b41-a971-2e6ac8178cfc_3\", \"run_number\": 8, \"metric\": null, \"status\": \"Completed\", \"run_type\": \"azureml.scriptrun\", \"training_percent\": \"100\", \"start_time\": \"2021-04-19T11:22:34.861171Z\", \"end_time\": \"2021-04-19T11:23:19.436051Z\", \"created_time\": \"2021-04-19T11:20:21.173477Z\", \"created_time_dt\": \"2021-04-19T11:20:21.173477Z\", \"duration\": \"0:02:58\", \"iteration\": \"3\", \"goal\": \"accuracy_max\", \"run_name\": \"MinMaxScaler, RandomForest\", \"run_properties\": \"copy=True, feature_range=(0, 1\", \"primary_metric\": 0.81, \"best_metric\": 0.845}, {\"run_id\": \"AutoML_665cb8fb-2826-4b41-a971-2e6ac8178cfc_2\", \"run_number\": 9, \"metric\": null, \"status\": \"Completed\", \"run_type\": \"azureml.scriptrun\", \"training_percent\": \"100\", \"start_time\": \"2021-04-19T11:22:44.595227Z\", \"end_time\": \"2021-04-19T11:25:59.745885Z\", \"created_time\": \"2021-04-19T11:20:21.283384Z\", \"created_time_dt\": \"2021-04-19T11:20:21.283384Z\", \"duration\": \"0:05:38\", \"iteration\": \"2\", \"goal\": \"accuracy_max\", \"run_name\": \"MinMaxScaler, RandomForest\", \"run_properties\": \"copy=True, feature_range=(0, 1\", \"primary_metric\": 0.835, \"best_metric\": 0.845}, {\"run_id\": \"AutoML_665cb8fb-2826-4b41-a971-2e6ac8178cfc_4\", \"run_number\": 10, \"metric\": null, \"status\": \"Completed\", \"run_type\": \"azureml.scriptrun\", \"training_percent\": \"100\", \"start_time\": \"2021-04-19T11:22:50.137003Z\", \"end_time\": \"2021-04-19T11:28:09.305187Z\", \"created_time\": \"2021-04-19T11:21:21.880956Z\", \"created_time_dt\": \"2021-04-19T11:21:21.880956Z\", \"duration\": \"0:06:47\", \"iteration\": \"4\", \"goal\": \"accuracy_max\", \"run_name\": \"MinMaxScaler, RandomForest\", \"run_properties\": \"copy=True, feature_range=(0, 1\", \"primary_metric\": 0.84, \"best_metric\": 0.845}, {\"run_id\": \"AutoML_665cb8fb-2826-4b41-a971-2e6ac8178cfc_5\", \"run_number\": 11, \"metric\": null, \"status\": \"Completed\", \"run_type\": \"azureml.scriptrun\", \"training_percent\": \"100\", \"start_time\": \"2021-04-19T11:22:48.278622Z\", \"end_time\": \"2021-04-19T11:24:52.78748Z\", \"created_time\": \"2021-04-19T11:22:21.090158Z\", \"created_time_dt\": \"2021-04-19T11:22:21.090158Z\", \"duration\": \"0:02:31\", \"iteration\": \"5\", \"goal\": \"accuracy_max\", \"run_name\": \"MaxAbsScaler, LightGBM\", \"run_properties\": \"copy=True\", \"primary_metric\": 0.81, \"best_metric\": 0.845}, {\"run_id\": \"AutoML_665cb8fb-2826-4b41-a971-2e6ac8178cfc_6\", \"run_number\": 12, \"metric\": null, \"status\": \"Completed\", \"run_type\": \"azureml.scriptrun\", \"training_percent\": \"100\", \"start_time\": \"2021-04-19T11:23:36.449447Z\", \"end_time\": \"2021-04-19T11:24:21.935805Z\", \"created_time\": \"2021-04-19T11:23:23.600341Z\", \"created_time_dt\": \"2021-04-19T11:23:23.600341Z\", \"duration\": \"0:00:58\", \"iteration\": \"6\", \"goal\": \"accuracy_max\", \"run_name\": \"TruncatedSVDWrapper, LightGBM\", \"run_properties\": \"n_components=0.8510526315789474, random_state=None\", \"primary_metric\": 0.79, \"best_metric\": 0.845}, {\"run_id\": \"AutoML_665cb8fb-2826-4b41-a971-2e6ac8178cfc_7\", \"run_number\": 13, \"metric\": null, \"status\": \"Completed\", \"run_type\": \"azureml.scriptrun\", \"training_percent\": \"100\", \"start_time\": \"2021-04-19T11:24:36.432918Z\", \"end_time\": \"2021-04-19T11:25:29.456613Z\", \"created_time\": \"2021-04-19T11:24:24.563789Z\", \"created_time_dt\": \"2021-04-19T11:24:24.563789Z\", \"duration\": \"0:01:04\", \"iteration\": \"7\", \"goal\": \"accuracy_max\", \"run_name\": \"MinMaxScaler, SVM\", \"run_properties\": \"copy=True, feature_range=(0, 1\", \"primary_metric\": 0.715, \"best_metric\": 0.845}, {\"run_id\": \"AutoML_665cb8fb-2826-4b41-a971-2e6ac8178cfc_8\", \"run_number\": 14, \"metric\": null, \"status\": \"Completed\", \"run_type\": \"azureml.scriptrun\", \"training_percent\": \"100\", \"start_time\": \"2021-04-19T11:25:09.231989Z\", \"end_time\": \"2021-04-19T11:26:00.635364Z\", \"created_time\": \"2021-04-19T11:24:56.557985Z\", \"created_time_dt\": \"2021-04-19T11:24:56.557985Z\", \"duration\": \"0:01:04\", \"iteration\": \"8\", \"goal\": \"accuracy_max\", \"run_name\": \"MinMaxScaler, SVM\", \"run_properties\": \"copy=True, feature_range=(0, 1\", \"primary_metric\": 0.715, \"best_metric\": 0.845}, {\"run_id\": \"AutoML_665cb8fb-2826-4b41-a971-2e6ac8178cfc_9\", \"run_number\": 16, \"metric\": null, \"status\": \"Completed\", \"run_type\": \"azureml.scriptrun\", \"training_percent\": \"100\", \"start_time\": \"2021-04-19T11:25:47.487681Z\", \"end_time\": \"2021-04-19T11:26:37.447886Z\", \"created_time\": \"2021-04-19T11:25:32.525572Z\", \"created_time_dt\": \"2021-04-19T11:25:32.525572Z\", \"duration\": \"0:01:04\", \"iteration\": \"9\", \"goal\": \"accuracy_max\", \"run_name\": \"MaxAbsScaler, LightGBM\", \"run_properties\": \"copy=True\", \"primary_metric\": 0.83, \"best_metric\": 0.845}, {\"run_id\": \"AutoML_665cb8fb-2826-4b41-a971-2e6ac8178cfc_10\", \"run_number\": 17, \"metric\": null, \"status\": \"Completed\", \"run_type\": \"azureml.scriptrun\", \"training_percent\": \"100\", \"start_time\": \"2021-04-19T11:26:13.442919Z\", \"end_time\": \"2021-04-19T11:26:54.069643Z\", \"created_time\": \"2021-04-19T11:26:02.458624Z\", \"created_time_dt\": \"2021-04-19T11:26:02.458624Z\", \"duration\": \"0:00:51\", \"iteration\": \"10\", \"goal\": \"accuracy_max\", \"run_name\": \"StandardScalerWrapper, LightGBM\", \"run_properties\": \"<azureml.automl.runtime.shared.model_wrappers.StandardScalerWrapper object at 0x7f582f05ac50\", \"primary_metric\": 0.835, \"best_metric\": 0.845}, {\"run_id\": \"AutoML_665cb8fb-2826-4b41-a971-2e6ac8178cfc_11\", \"run_number\": 18, \"metric\": null, \"status\": \"Completed\", \"run_type\": \"azureml.scriptrun\", \"training_percent\": \"100\", \"start_time\": \"2021-04-19T11:26:19.845868Z\", \"end_time\": \"2021-04-19T11:27:05.98871Z\", \"created_time\": \"2021-04-19T11:26:07.666116Z\", \"created_time_dt\": \"2021-04-19T11:26:07.666116Z\", \"duration\": \"0:00:58\", \"iteration\": \"11\", \"goal\": \"accuracy_max\", \"run_name\": \"RobustScaler, RandomForest\", \"run_properties\": \"copy=True, quantile_range=[10, 90], with_centering=True,\\n             with_scaling=True\", \"primary_metric\": 0.85, \"best_metric\": 0.85}, {\"run_id\": \"AutoML_665cb8fb-2826-4b41-a971-2e6ac8178cfc_12\", \"run_number\": 19, \"metric\": null, \"status\": \"Completed\", \"run_type\": \"azureml.scriptrun\", \"training_percent\": \"100\", \"start_time\": \"2021-04-19T11:26:52.987657Z\", \"end_time\": \"2021-04-19T11:27:41.451826Z\", \"created_time\": \"2021-04-19T11:26:39.85769Z\", \"created_time_dt\": \"2021-04-19T11:26:39.85769Z\", \"duration\": \"0:01:01\", \"iteration\": \"12\", \"goal\": \"accuracy_max\", \"run_name\": \"MinMaxScaler, LightGBM\", \"run_properties\": \"copy=True, feature_range=(0, 1\", \"primary_metric\": 0.795, \"best_metric\": 0.85}, {\"run_id\": \"AutoML_665cb8fb-2826-4b41-a971-2e6ac8178cfc_13\", \"run_number\": 20, \"metric\": null, \"status\": \"Completed\", \"run_type\": \"azureml.scriptrun\", \"training_percent\": \"100\", \"start_time\": \"2021-04-19T11:27:10.022359Z\", \"end_time\": \"2021-04-19T11:27:53.558297Z\", \"created_time\": \"2021-04-19T11:26:56.721263Z\", \"created_time_dt\": \"2021-04-19T11:26:56.721263Z\", \"duration\": \"0:00:56\", \"iteration\": \"13\", \"goal\": \"accuracy_max\", \"run_name\": \"MaxAbsScaler, LightGBM\", \"run_properties\": \"copy=True\", \"primary_metric\": 0.83, \"best_metric\": 0.85}, {\"run_id\": \"AutoML_665cb8fb-2826-4b41-a971-2e6ac8178cfc_14\", \"run_number\": 21, \"metric\": null, \"status\": \"Completed\", \"run_type\": \"azureml.scriptrun\", \"training_percent\": \"100\", \"start_time\": \"2021-04-19T11:27:21.308892Z\", \"end_time\": \"2021-04-19T11:28:03.990522Z\", \"created_time\": \"2021-04-19T11:27:08.929233Z\", \"created_time_dt\": \"2021-04-19T11:27:08.929233Z\", \"duration\": \"0:00:55\", \"iteration\": \"14\", \"goal\": \"accuracy_max\", \"run_name\": \"StandardScalerWrapper, LogisticRegression\", \"run_properties\": \"<azureml.automl.runtime.shared.model_wrappers.StandardScalerWrapper object at 0x7f398c23e898\", \"primary_metric\": 0.805, \"best_metric\": 0.85}, {\"run_id\": \"AutoML_665cb8fb-2826-4b41-a971-2e6ac8178cfc_15\", \"run_number\": 22, \"metric\": null, \"status\": \"Completed\", \"run_type\": \"azureml.scriptrun\", \"training_percent\": \"100\", \"start_time\": \"2021-04-19T11:27:57.49765Z\", \"end_time\": \"2021-04-19T11:28:47.811577Z\", \"created_time\": \"2021-04-19T11:27:43.762454Z\", \"created_time_dt\": \"2021-04-19T11:27:43.762454Z\", \"duration\": \"0:01:04\", \"iteration\": \"15\", \"goal\": \"accuracy_max\", \"run_name\": \"MinMaxScaler, LightGBM\", \"run_properties\": \"copy=True, feature_range=(0, 1\", \"primary_metric\": 0.825, \"best_metric\": 0.85}, {\"run_id\": \"AutoML_665cb8fb-2826-4b41-a971-2e6ac8178cfc_16\", \"run_number\": 23, \"metric\": null, \"status\": \"Completed\", \"run_type\": \"azureml.scriptrun\", \"training_percent\": \"100\", \"start_time\": \"2021-04-19T11:28:07.770523Z\", \"end_time\": \"2021-04-19T11:28:53.580656Z\", \"created_time\": \"2021-04-19T11:27:56.738716Z\", \"created_time_dt\": \"2021-04-19T11:27:56.738716Z\", \"duration\": \"0:00:56\", \"iteration\": \"16\", \"goal\": \"accuracy_max\", \"run_name\": \"MaxAbsScaler, LightGBM\", \"run_properties\": \"copy=True\", \"primary_metric\": 0.695, \"best_metric\": 0.85}, {\"run_id\": \"AutoML_665cb8fb-2826-4b41-a971-2e6ac8178cfc_17\", \"run_number\": 24, \"metric\": null, \"status\": \"Completed\", \"run_type\": \"azureml.scriptrun\", \"training_percent\": \"100\", \"start_time\": \"2021-04-19T11:28:19.527764Z\", \"end_time\": \"2021-04-19T11:29:10.99683Z\", \"created_time\": \"2021-04-19T11:28:06.829241Z\", \"created_time_dt\": \"2021-04-19T11:28:06.829241Z\", \"duration\": \"0:01:04\", \"iteration\": \"17\", \"goal\": \"accuracy_max\", \"run_name\": \"MaxAbsScaler, ExtremeRandomTrees\", \"run_properties\": \"copy=True\", \"primary_metric\": 0.845, \"best_metric\": 0.85}, {\"run_id\": \"AutoML_665cb8fb-2826-4b41-a971-2e6ac8178cfc_18\", \"run_number\": 25, \"metric\": null, \"status\": \"Completed\", \"run_type\": \"azureml.scriptrun\", \"training_percent\": \"100\", \"start_time\": \"2021-04-19T11:28:21.583109Z\", \"end_time\": \"2021-04-19T11:29:06.081131Z\", \"created_time\": \"2021-04-19T11:28:11.385921Z\", \"created_time_dt\": \"2021-04-19T11:28:11.385921Z\", \"duration\": \"0:00:54\", \"iteration\": \"18\", \"goal\": \"accuracy_max\", \"run_name\": \"MinMaxScaler, LightGBM\", \"run_properties\": \"copy=True, feature_range=(0, 1\", \"primary_metric\": 0.835, \"best_metric\": 0.85}, {\"run_id\": \"AutoML_665cb8fb-2826-4b41-a971-2e6ac8178cfc_19\", \"run_number\": 26, \"metric\": null, \"status\": \"Completed\", \"run_type\": \"azureml.scriptrun\", \"training_percent\": \"100\", \"start_time\": \"2021-04-19T11:29:02.874011Z\", \"end_time\": \"2021-04-19T11:29:54.235591Z\", \"created_time\": \"2021-04-19T11:28:50.276681Z\", \"created_time_dt\": \"2021-04-19T11:28:50.276681Z\", \"duration\": \"0:01:03\", \"iteration\": \"19\", \"goal\": \"accuracy_max\", \"run_name\": \"StandardScalerWrapper, XGBoostClassifier\", \"run_properties\": \"<azureml.automl.runtime.shared.model_wrappers.StandardScalerWrapper object at 0x7f22c495e8d0\", \"primary_metric\": 0.84, \"best_metric\": 0.85}, {\"run_id\": \"AutoML_665cb8fb-2826-4b41-a971-2e6ac8178cfc_20\", \"run_number\": 27, \"metric\": null, \"status\": \"Completed\", \"run_type\": \"azureml.scriptrun\", \"training_percent\": \"100\", \"start_time\": \"2021-04-19T11:29:10.917625Z\", \"end_time\": \"2021-04-19T11:29:54.498235Z\", \"created_time\": \"2021-04-19T11:28:56.697892Z\", \"created_time_dt\": \"2021-04-19T11:28:56.697892Z\", \"duration\": \"0:00:57\", \"iteration\": \"20\", \"goal\": \"accuracy_max\", \"run_name\": \"MinMaxScaler, LightGBM\", \"run_properties\": \"copy=True, feature_range=(0, 1\", \"primary_metric\": 0.855, \"best_metric\": 0.855}, {\"run_id\": \"AutoML_665cb8fb-2826-4b41-a971-2e6ac8178cfc_21\", \"run_number\": 28, \"metric\": null, \"status\": \"Completed\", \"run_type\": \"azureml.scriptrun\", \"training_percent\": \"100\", \"start_time\": \"2021-04-19T11:29:21.951453Z\", \"end_time\": \"2021-04-19T11:30:08.27913Z\", \"created_time\": \"2021-04-19T11:29:08.480661Z\", \"created_time_dt\": \"2021-04-19T11:29:08.480661Z\", \"duration\": \"0:00:59\", \"iteration\": \"21\", \"goal\": \"accuracy_max\", \"run_name\": \"SparseNormalizer, XGBoostClassifier\", \"run_properties\": \"<azureml.automl.runtime.shared.model_wrappers.SparseNormalizer object at 0x7f9ef32fa048\", \"primary_metric\": 0.82, \"best_metric\": 0.855}, {\"run_id\": \"AutoML_665cb8fb-2826-4b41-a971-2e6ac8178cfc_22\", \"run_number\": 29, \"metric\": null, \"status\": \"Completed\", \"run_type\": \"azureml.scriptrun\", \"training_percent\": \"100\", \"start_time\": \"2021-04-19T11:29:26.311972Z\", \"end_time\": \"2021-04-19T11:30:11.943351Z\", \"created_time\": \"2021-04-19T11:29:13.768421Z\", \"created_time_dt\": \"2021-04-19T11:29:13.768421Z\", \"duration\": \"0:00:58\", \"iteration\": \"22\", \"goal\": \"accuracy_max\", \"run_name\": \"SparseNormalizer, LightGBM\", \"run_properties\": \"<azureml.automl.runtime.shared.model_wrappers.SparseNormalizer object at 0x7fc698eb1860\", \"primary_metric\": 0.835, \"best_metric\": 0.855}, {\"run_id\": \"AutoML_665cb8fb-2826-4b41-a971-2e6ac8178cfc_23\", \"run_number\": 30, \"metric\": null, \"status\": \"Completed\", \"run_type\": \"azureml.scriptrun\", \"training_percent\": \"100\", \"start_time\": \"2021-04-19T11:30:09.962757Z\", \"end_time\": \"2021-04-19T11:30:50.47741Z\", \"created_time\": \"2021-04-19T11:29:56.882868Z\", \"created_time_dt\": \"2021-04-19T11:29:56.882868Z\", \"duration\": \"0:00:53\", \"iteration\": \"23\", \"goal\": \"accuracy_max\", \"run_name\": \"MinMaxScaler, LightGBM\", \"run_properties\": \"copy=True, feature_range=(0, 1\", \"primary_metric\": 0.835, \"best_metric\": 0.855}, {\"run_id\": \"AutoML_665cb8fb-2826-4b41-a971-2e6ac8178cfc_24\", \"run_number\": 31, \"metric\": null, \"status\": \"Completed\", \"run_type\": \"azureml.scriptrun\", \"training_percent\": \"100\", \"start_time\": \"2021-04-19T11:30:08.205637Z\", \"end_time\": \"2021-04-19T11:30:53.148544Z\", \"created_time\": \"2021-04-19T11:29:57.004412Z\", \"created_time_dt\": \"2021-04-19T11:29:57.004412Z\", \"duration\": \"0:00:56\", \"iteration\": \"24\", \"goal\": \"accuracy_max\", \"run_name\": \"StandardScalerWrapper, XGBoostClassifier\", \"run_properties\": \"<azureml.automl.runtime.shared.model_wrappers.StandardScalerWrapper object at 0x7f61c994bd30\", \"primary_metric\": 0.865, \"best_metric\": 0.865}, {\"run_id\": \"AutoML_665cb8fb-2826-4b41-a971-2e6ac8178cfc_25\", \"run_number\": 32, \"metric\": null, \"status\": \"Completed\", \"run_type\": \"azureml.scriptrun\", \"training_percent\": \"100\", \"start_time\": \"2021-04-19T11:30:24.11923Z\", \"end_time\": \"2021-04-19T11:31:09.801293Z\", \"created_time\": \"2021-04-19T11:30:11.376541Z\", \"created_time_dt\": \"2021-04-19T11:30:11.376541Z\", \"duration\": \"0:00:58\", \"iteration\": \"25\", \"goal\": \"accuracy_max\", \"run_name\": \"StandardScalerWrapper, LightGBM\", \"run_properties\": \"<azureml.automl.runtime.shared.model_wrappers.StandardScalerWrapper object at 0x7f17c11a5eb8\", \"primary_metric\": 0.675, \"best_metric\": 0.865}, {\"run_id\": \"AutoML_665cb8fb-2826-4b41-a971-2e6ac8178cfc_26\", \"run_number\": 33, \"metric\": null, \"status\": \"Completed\", \"run_type\": \"azureml.scriptrun\", \"training_percent\": \"100\", \"start_time\": \"2021-04-19T11:30:26.265059Z\", \"end_time\": \"2021-04-19T11:31:11.181096Z\", \"created_time\": \"2021-04-19T11:30:15.422783Z\", \"created_time_dt\": \"2021-04-19T11:30:15.422783Z\", \"duration\": \"0:00:55\", \"iteration\": \"26\", \"goal\": \"accuracy_max\", \"run_name\": \"SparseNormalizer, XGBoostClassifier\", \"run_properties\": \"<azureml.automl.runtime.shared.model_wrappers.SparseNormalizer object at 0x7f76ac4a5ac8\", \"primary_metric\": 0.81, \"best_metric\": 0.865}, {\"run_id\": \"AutoML_665cb8fb-2826-4b41-a971-2e6ac8178cfc_27\", \"run_number\": 34, \"metric\": null, \"status\": \"Completed\", \"run_type\": \"azureml.scriptrun\", \"training_percent\": \"100\", \"start_time\": \"2021-04-19T11:31:03.804946Z\", \"end_time\": \"2021-04-19T11:32:04.127067Z\", \"created_time\": \"2021-04-19T11:30:52.775146Z\", \"created_time_dt\": \"2021-04-19T11:30:52.775146Z\", \"duration\": \"0:01:11\", \"iteration\": \"27\", \"goal\": \"accuracy_max\", \"run_name\": \"MaxAbsScaler, ExtremeRandomTrees\", \"run_properties\": \"copy=True\", \"primary_metric\": 0.835, \"best_metric\": 0.865}, {\"run_id\": \"AutoML_665cb8fb-2826-4b41-a971-2e6ac8178cfc_28\", \"run_number\": 35, \"metric\": null, \"status\": \"Completed\", \"run_type\": \"azureml.scriptrun\", \"training_percent\": \"100\", \"start_time\": \"2021-04-19T11:31:09.668267Z\", \"end_time\": \"2021-04-19T11:31:53.372728Z\", \"created_time\": \"2021-04-19T11:30:57.096563Z\", \"created_time_dt\": \"2021-04-19T11:30:57.096563Z\", \"duration\": \"0:00:56\", \"iteration\": \"28\", \"goal\": \"accuracy_max\", \"run_name\": \"MinMaxScaler, LightGBM\", \"run_properties\": \"copy=True, feature_range=(0, 1\", \"primary_metric\": 0.82, \"best_metric\": 0.865}, {\"run_id\": \"AutoML_665cb8fb-2826-4b41-a971-2e6ac8178cfc_29\", \"run_number\": 38, \"metric\": null, \"status\": \"Completed\", \"run_type\": \"azureml.scriptrun\", \"training_percent\": \"100\", \"start_time\": \"2021-04-19T11:31:24.886799Z\", \"end_time\": \"2021-04-19T11:32:14.105294Z\", \"created_time\": \"2021-04-19T11:31:12.005727Z\", \"created_time_dt\": \"2021-04-19T11:31:12.005727Z\", \"duration\": \"0:01:02\", \"iteration\": \"29\", \"goal\": \"accuracy_max\", \"run_name\": \"SparseNormalizer, ExtremeRandomTrees\", \"run_properties\": \"<azureml.automl.runtime.shared.model_wrappers.SparseNormalizer object at 0x7f2010c5f9b0\", \"primary_metric\": 0.78, \"best_metric\": 0.865}, {\"run_id\": \"AutoML_665cb8fb-2826-4b41-a971-2e6ac8178cfc_30\", \"run_number\": 39, \"metric\": null, \"status\": \"Completed\", \"run_type\": \"azureml.scriptrun\", \"training_percent\": \"100\", \"start_time\": \"2021-04-19T11:31:26.233416Z\", \"end_time\": \"2021-04-19T11:32:08.202413Z\", \"created_time\": \"2021-04-19T11:31:17.53021Z\", \"created_time_dt\": \"2021-04-19T11:31:17.53021Z\", \"duration\": \"0:00:50\", \"iteration\": \"30\", \"goal\": \"accuracy_max\", \"run_name\": \"SparseNormalizer, XGBoostClassifier\", \"run_properties\": \"<azureml.automl.runtime.shared.model_wrappers.SparseNormalizer object at 0x7f8b5b839278\", \"primary_metric\": 0.78, \"best_metric\": 0.865}, {\"run_id\": \"AutoML_665cb8fb-2826-4b41-a971-2e6ac8178cfc_31\", \"run_number\": 44, \"metric\": null, \"status\": \"Completed\", \"run_type\": \"azureml.scriptrun\", \"training_percent\": \"100\", \"start_time\": \"2021-04-19T11:32:06.344672Z\", \"end_time\": \"2021-04-19T11:32:49.441781Z\", \"created_time\": \"2021-04-19T11:31:55.58997Z\", \"created_time_dt\": \"2021-04-19T11:31:55.58997Z\", \"duration\": \"0:00:53\", \"iteration\": \"31\", \"goal\": \"accuracy_max\", \"run_name\": \"SparseNormalizer, RandomForest\", \"run_properties\": \"<azureml.automl.runtime.shared.model_wrappers.SparseNormalizer object at 0x7f319a930160\", \"primary_metric\": 0.8, \"best_metric\": 0.865}, {\"run_id\": \"AutoML_665cb8fb-2826-4b41-a971-2e6ac8178cfc_32\", \"run_number\": 45, \"metric\": null, \"status\": \"Completed\", \"run_type\": \"azureml.scriptrun\", \"training_percent\": \"100\", \"start_time\": \"2021-04-19T11:32:19.675141Z\", \"end_time\": \"2021-04-19T11:33:03.016762Z\", \"created_time\": \"2021-04-19T11:32:06.763853Z\", \"created_time_dt\": \"2021-04-19T11:32:06.763853Z\", \"duration\": \"0:00:56\", \"iteration\": \"32\", \"goal\": \"accuracy_max\", \"run_name\": \"SparseNormalizer, XGBoostClassifier\", \"run_properties\": \"<azureml.automl.runtime.shared.model_wrappers.SparseNormalizer object at 0x7f466fee3e48\", \"primary_metric\": 0.815, \"best_metric\": 0.865}, {\"run_id\": \"AutoML_665cb8fb-2826-4b41-a971-2e6ac8178cfc_33\", \"run_number\": 46, \"metric\": null, \"status\": \"Completed\", \"run_type\": \"azureml.scriptrun\", \"training_percent\": \"100\", \"start_time\": \"2021-04-19T11:32:21.062417Z\", \"end_time\": \"2021-04-19T11:33:02.528862Z\", \"created_time\": \"2021-04-19T11:32:12.314919Z\", \"created_time_dt\": \"2021-04-19T11:32:12.314919Z\", \"duration\": \"0:00:50\", \"iteration\": \"33\", \"goal\": \"accuracy_max\", \"run_name\": \"RobustScaler, ExtremeRandomTrees\", \"run_properties\": \"copy=True, quantile_range=[25, 75], with_centering=False,\\n             with_scaling=False\", \"primary_metric\": 0.79, \"best_metric\": 0.865}, {\"run_id\": \"AutoML_665cb8fb-2826-4b41-a971-2e6ac8178cfc_34\", \"run_number\": 47, \"metric\": null, \"status\": \"Completed\", \"run_type\": \"azureml.scriptrun\", \"training_percent\": \"100\", \"start_time\": \"2021-04-19T11:32:28.056471Z\", \"end_time\": \"2021-04-19T11:33:18.691044Z\", \"created_time\": \"2021-04-19T11:32:17.387318Z\", \"created_time_dt\": \"2021-04-19T11:32:17.387318Z\", \"duration\": \"0:01:01\", \"iteration\": \"34\", \"goal\": \"accuracy_max\", \"run_name\": \"MaxAbsScaler, LightGBM\", \"run_properties\": \"copy=True\", \"primary_metric\": 0.795, \"best_metric\": 0.865}, {\"run_id\": \"AutoML_665cb8fb-2826-4b41-a971-2e6ac8178cfc_35\", \"run_number\": 48, \"metric\": null, \"status\": \"Completed\", \"run_type\": \"azureml.scriptrun\", \"training_percent\": \"100\", \"start_time\": \"2021-04-19T11:33:08.772893Z\", \"end_time\": \"2021-04-19T11:33:59.101137Z\", \"created_time\": \"2021-04-19T11:32:52.777916Z\", \"created_time_dt\": \"2021-04-19T11:32:52.777916Z\", \"duration\": \"0:01:06\", \"iteration\": \"35\", \"goal\": \"accuracy_max\", \"run_name\": \"PCA, XGBoostClassifier\", \"run_properties\": \"copy=True, iterated_power='auto', n_components=0.15842105263157896,\\n    random_state=None, svd_solver='auto', tol=0.0, whiten=True\", \"primary_metric\": 0.675, \"best_metric\": 0.865}, {\"run_id\": \"AutoML_665cb8fb-2826-4b41-a971-2e6ac8178cfc_36\", \"run_number\": 49, \"metric\": null, \"status\": \"Completed\", \"run_type\": \"azureml.scriptrun\", \"training_percent\": \"100\", \"start_time\": \"2021-04-19T11:33:16.351064Z\", \"end_time\": \"2021-04-19T11:34:08.224118Z\", \"created_time\": \"2021-04-19T11:33:05.569588Z\", \"created_time_dt\": \"2021-04-19T11:33:05.569588Z\", \"duration\": \"0:01:02\", \"iteration\": \"36\", \"goal\": \"accuracy_max\", \"run_name\": \"MaxAbsScaler, LightGBM\", \"run_properties\": \"copy=True\", \"primary_metric\": 0.87, \"best_metric\": 0.87}, {\"run_id\": \"AutoML_665cb8fb-2826-4b41-a971-2e6ac8178cfc_37\", \"run_number\": 50, \"metric\": null, \"status\": \"Completed\", \"run_type\": \"azureml.scriptrun\", \"training_percent\": \"100\", \"start_time\": \"2021-04-19T11:33:16.953738Z\", \"end_time\": \"2021-04-19T11:34:11.187569Z\", \"created_time\": \"2021-04-19T11:33:05.689311Z\", \"created_time_dt\": \"2021-04-19T11:33:05.689311Z\", \"duration\": \"0:01:05\", \"iteration\": \"37\", \"goal\": \"accuracy_max\", \"run_name\": \"StandardScalerWrapper, GradientBoosting\", \"run_properties\": \"<azureml.automl.runtime.shared.model_wrappers.StandardScalerWrapper object at 0x7f30e946e7f0\", \"primary_metric\": 0.845, \"best_metric\": 0.87}, {\"run_id\": \"AutoML_665cb8fb-2826-4b41-a971-2e6ac8178cfc_38\", \"run_number\": 51, \"metric\": null, \"status\": \"Completed\", \"run_type\": \"azureml.scriptrun\", \"training_percent\": \"100\", \"start_time\": \"2021-04-19T11:33:35.132372Z\", \"end_time\": \"2021-04-19T11:34:21.407033Z\", \"created_time\": \"2021-04-19T11:33:22.334312Z\", \"created_time_dt\": \"2021-04-19T11:33:22.334312Z\", \"duration\": \"0:00:59\", \"iteration\": \"38\", \"goal\": \"accuracy_max\", \"run_name\": \"MaxAbsScaler, LightGBM\", \"run_properties\": \"copy=True\", \"primary_metric\": 0.81, \"best_metric\": 0.87}, {\"run_id\": \"AutoML_665cb8fb-2826-4b41-a971-2e6ac8178cfc_39\", \"run_number\": 52, \"metric\": null, \"status\": \"Completed\", \"run_type\": \"azureml.scriptrun\", \"training_percent\": \"100\", \"start_time\": \"2021-04-19T11:34:14.562938Z\", \"end_time\": \"2021-04-19T11:34:59.667592Z\", \"created_time\": \"2021-04-19T11:34:02.080588Z\", \"created_time_dt\": \"2021-04-19T11:34:02.080588Z\", \"duration\": \"0:00:57\", \"iteration\": \"39\", \"goal\": \"accuracy_max\", \"run_name\": \"MinMaxScaler, GradientBoosting\", \"run_properties\": \"copy=True, feature_range=(0, 1\", \"primary_metric\": 0.83, \"best_metric\": 0.87}, {\"run_id\": \"AutoML_665cb8fb-2826-4b41-a971-2e6ac8178cfc_40\", \"run_number\": 53, \"metric\": null, \"status\": \"Completed\", \"run_type\": \"azureml.scriptrun\", \"training_percent\": \"100\", \"start_time\": \"2021-04-19T11:34:22.851426Z\", \"end_time\": \"2021-04-19T11:35:10.779414Z\", \"created_time\": \"2021-04-19T11:34:11.372376Z\", \"created_time_dt\": \"2021-04-19T11:34:11.372376Z\", \"duration\": \"0:00:59\", \"iteration\": \"40\", \"goal\": \"accuracy_max\", \"run_name\": \"StandardScalerWrapper, LightGBM\", \"run_properties\": \"<azureml.automl.runtime.shared.model_wrappers.StandardScalerWrapper object at 0x7efcd498f208\", \"primary_metric\": 0.79, \"best_metric\": 0.87}, {\"run_id\": \"AutoML_665cb8fb-2826-4b41-a971-2e6ac8178cfc_41\", \"run_number\": 54, \"metric\": null, \"status\": \"Completed\", \"run_type\": \"azureml.scriptrun\", \"training_percent\": \"100\", \"start_time\": \"2021-04-19T11:34:27.048025Z\", \"end_time\": \"2021-04-19T11:35:08.946408Z\", \"created_time\": \"2021-04-19T11:34:17.402462Z\", \"created_time_dt\": \"2021-04-19T11:34:17.402462Z\", \"duration\": \"0:00:51\", \"iteration\": \"41\", \"goal\": \"accuracy_max\", \"run_name\": \"RobustScaler, LightGBM\", \"run_properties\": \"copy=True, quantile_range=[10, 90], with_centering=False,\\n             with_scaling=True\", \"primary_metric\": 0.83, \"best_metric\": 0.87}, {\"run_id\": \"AutoML_665cb8fb-2826-4b41-a971-2e6ac8178cfc_42\", \"run_number\": 55, \"metric\": null, \"status\": \"Completed\", \"run_type\": \"azureml.scriptrun\", \"training_percent\": \"100\", \"start_time\": \"2021-04-19T11:34:36.054124Z\", \"end_time\": \"2021-04-19T11:35:24.695539Z\", \"created_time\": \"2021-04-19T11:34:23.978469Z\", \"created_time_dt\": \"2021-04-19T11:34:23.978469Z\", \"duration\": \"0:01:00\", \"iteration\": \"42\", \"goal\": \"accuracy_max\", \"run_name\": \"RobustScaler, ExtremeRandomTrees\", \"run_properties\": \"copy=True, quantile_range=[10, 90], with_centering=True,\\n             with_scaling=False\", \"primary_metric\": 0.83, \"best_metric\": 0.87}, {\"run_id\": \"AutoML_665cb8fb-2826-4b41-a971-2e6ac8178cfc_43\", \"run_number\": 56, \"metric\": null, \"status\": \"Completed\", \"run_type\": \"azureml.scriptrun\", \"training_percent\": \"100\", \"start_time\": \"2021-04-19T11:35:19.576244Z\", \"end_time\": \"2021-04-19T11:36:07.25278Z\", \"created_time\": \"2021-04-19T11:35:02.199175Z\", \"created_time_dt\": \"2021-04-19T11:35:02.199175Z\", \"duration\": \"0:01:05\", \"iteration\": \"43\", \"goal\": \"accuracy_max\", \"run_name\": \"RobustScaler, ExtremeRandomTrees\", \"run_properties\": \"copy=True, quantile_range=[25, 75], with_centering=True,\\n             with_scaling=True\", \"primary_metric\": 0.84, \"best_metric\": 0.87}, {\"run_id\": \"AutoML_665cb8fb-2826-4b41-a971-2e6ac8178cfc_44\", \"run_number\": 57, \"metric\": null, \"status\": \"Completed\", \"run_type\": \"azureml.scriptrun\", \"training_percent\": \"100\", \"start_time\": \"2021-04-19T11:35:22.419783Z\", \"end_time\": \"2021-04-19T11:36:28.925298Z\", \"created_time\": \"2021-04-19T11:35:11.624682Z\", \"created_time_dt\": \"2021-04-19T11:35:11.624682Z\", \"duration\": \"0:01:17\", \"iteration\": \"44\", \"goal\": \"accuracy_max\", \"run_name\": \"MinMaxScaler, GradientBoosting\", \"run_properties\": \"copy=True, feature_range=(0, 1\", \"primary_metric\": 0.84, \"best_metric\": 0.87}, {\"run_id\": \"AutoML_665cb8fb-2826-4b41-a971-2e6ac8178cfc_45\", \"run_number\": 58, \"metric\": null, \"status\": \"Completed\", \"run_type\": \"azureml.scriptrun\", \"training_percent\": \"100\", \"start_time\": \"2021-04-19T11:35:28.507429Z\", \"end_time\": \"2021-04-19T11:36:08.525099Z\", \"created_time\": \"2021-04-19T11:35:17.845453Z\", \"created_time_dt\": \"2021-04-19T11:35:17.845453Z\", \"duration\": \"0:00:50\", \"iteration\": \"45\", \"goal\": \"accuracy_max\", \"run_name\": \"SparseNormalizer, LightGBM\", \"run_properties\": \"<azureml.automl.runtime.shared.model_wrappers.SparseNormalizer object at 0x7f4f9b510eb8\", \"primary_metric\": 0.825, \"best_metric\": 0.87}, {\"run_id\": \"AutoML_665cb8fb-2826-4b41-a971-2e6ac8178cfc_46\", \"run_number\": 59, \"metric\": null, \"status\": \"Completed\", \"run_type\": \"azureml.scriptrun\", \"training_percent\": \"100\", \"start_time\": \"2021-04-19T11:35:42.123376Z\", \"end_time\": \"2021-04-19T11:36:28.654658Z\", \"created_time\": \"2021-04-19T11:35:27.078494Z\", \"created_time_dt\": \"2021-04-19T11:35:27.078494Z\", \"duration\": \"0:01:01\", \"iteration\": \"46\", \"goal\": \"accuracy_max\", \"run_name\": \"MinMaxScaler, LightGBM\", \"run_properties\": \"copy=True, feature_range=(0, 1\", \"primary_metric\": 0.85, \"best_metric\": 0.87}, {\"run_id\": \"AutoML_665cb8fb-2826-4b41-a971-2e6ac8178cfc_47\", \"run_number\": 60, \"metric\": null, \"status\": \"Completed\", \"run_type\": \"azureml.scriptrun\", \"training_percent\": \"100\", \"start_time\": \"2021-04-19T11:36:23.246121Z\", \"end_time\": \"2021-04-19T11:37:01.205892Z\", \"created_time\": \"2021-04-19T11:36:09.639756Z\", \"created_time_dt\": \"2021-04-19T11:36:09.639756Z\", \"duration\": \"0:00:51\", \"iteration\": \"47\", \"goal\": \"accuracy_max\", \"run_name\": \"RobustScaler, ExtremeRandomTrees\", \"run_properties\": \"copy=True, quantile_range=[10, 90], with_centering=True,\\n             with_scaling=False\", \"primary_metric\": 0.81, \"best_metric\": 0.87}, {\"run_id\": \"AutoML_665cb8fb-2826-4b41-a971-2e6ac8178cfc_48\", \"run_number\": 61, \"metric\": null, \"status\": \"Completed\", \"run_type\": \"azureml.scriptrun\", \"training_percent\": \"100\", \"start_time\": \"2021-04-19T11:36:25.066909Z\", \"end_time\": \"2021-04-19T11:37:05.07147Z\", \"created_time\": \"2021-04-19T11:36:14.799528Z\", \"created_time_dt\": \"2021-04-19T11:36:14.799528Z\", \"duration\": \"0:00:50\", \"iteration\": \"48\", \"goal\": \"accuracy_max\", \"run_name\": \"StandardScalerWrapper, RandomForest\", \"run_properties\": \"<azureml.automl.runtime.shared.model_wrappers.StandardScalerWrapper object at 0x7fca70de1e80\", \"primary_metric\": 0.85, \"best_metric\": 0.87}, {\"run_id\": \"AutoML_665cb8fb-2826-4b41-a971-2e6ac8178cfc_49\", \"run_number\": 62, \"metric\": null, \"status\": \"Completed\", \"run_type\": \"azureml.scriptrun\", \"training_percent\": \"100\", \"start_time\": \"2021-04-19T11:36:42.46226Z\", \"end_time\": \"2021-04-19T11:37:25.197386Z\", \"created_time\": \"2021-04-19T11:36:32.070447Z\", \"created_time_dt\": \"2021-04-19T11:36:32.070447Z\", \"duration\": \"0:00:53\", \"iteration\": \"49\", \"goal\": \"accuracy_max\", \"run_name\": \"MinMaxScaler, LightGBM\", \"run_properties\": \"copy=True, feature_range=(0, 1\", \"primary_metric\": 0.81, \"best_metric\": 0.87}, {\"run_id\": \"AutoML_665cb8fb-2826-4b41-a971-2e6ac8178cfc_50\", \"run_number\": 63, \"metric\": null, \"status\": \"Canceled\", \"run_type\": \"azureml.scriptrun\", \"training_percent\": \"100\", \"start_time\": \"2021-04-19T11:36:41.930088Z\", \"end_time\": \"2021-04-19T11:37:31.950527Z\", \"created_time\": \"2021-04-19T11:36:32.191966Z\", \"created_time_dt\": \"2021-04-19T11:36:32.191966Z\", \"duration\": \"0:00:59\", \"iteration\": \"50\", \"goal\": \"accuracy_max\", \"run_name\": \"MaxAbsScaler, ExtremeRandomTrees\", \"run_properties\": \"copy=True\", \"primary_metric\": 0.845, \"best_metric\": 0.87}, {\"run_id\": \"AutoML_665cb8fb-2826-4b41-a971-2e6ac8178cfc_51\", \"run_number\": 68, \"metric\": null, \"status\": \"Canceled\", \"run_type\": \"azureml.scriptrun\", \"training_percent\": \"100\", \"start_time\": \"2021-04-19T11:37:16.020016Z\", \"end_time\": \"2021-04-19T11:37:32.303444Z\", \"created_time\": \"2021-04-19T11:37:03.584584Z\", \"created_time_dt\": \"2021-04-19T11:37:03.584584Z\", \"duration\": \"0:00:28\", \"iteration\": \"51\", \"goal\": null, \"run_name\": \"Canceled\", \"run_properties\": null}, {\"run_id\": \"AutoML_665cb8fb-2826-4b41-a971-2e6ac8178cfc_52\", \"run_number\": 69, \"metric\": null, \"status\": \"Canceled\", \"run_type\": \"azureml.scriptrun\", \"training_percent\": \"100\", \"start_time\": \"2021-04-19T11:37:18.573123Z\", \"end_time\": \"2021-04-19T11:37:32.094943Z\", \"created_time\": \"2021-04-19T11:37:07.952159Z\", \"created_time_dt\": \"2021-04-19T11:37:07.952159Z\", \"duration\": \"0:00:24\", \"iteration\": \"52\", \"goal\": null, \"run_name\": \"Canceled\", \"run_properties\": null}, {\"run_id\": \"AutoML_665cb8fb-2826-4b41-a971-2e6ac8178cfc_53\", \"run_number\": 70, \"metric\": null, \"status\": \"Completed\", \"run_type\": \"azureml.scriptrun\", \"training_percent\": \"100\", \"start_time\": \"2021-04-19T11:37:45.422904Z\", \"end_time\": \"2021-04-19T11:38:53.456397Z\", \"created_time\": \"2021-04-19T11:37:33.871163Z\", \"created_time_dt\": \"2021-04-19T11:37:33.871163Z\", \"duration\": \"0:01:19\", \"iteration\": \"53\", \"goal\": \"accuracy_max\", \"run_name\": \"VotingEnsemble\", \"run_properties\": \"classification_labels=None,\\n                              estimators=[('36',\\n                                           Pipeline(memory=None,\\n                                                    steps=[('maxabsscaler',\\n                                                            MaxAbsScaler(copy=True\", \"primary_metric\": 0.89, \"best_metric\": 0.89}, {\"run_id\": \"AutoML_665cb8fb-2826-4b41-a971-2e6ac8178cfc_54\", \"run_number\": 71, \"metric\": null, \"status\": \"Completed\", \"run_type\": \"azureml.scriptrun\", \"training_percent\": \"100\", \"start_time\": \"2021-04-19T11:37:44.954291Z\", \"end_time\": \"2021-04-19T11:39:08.766453Z\", \"created_time\": \"2021-04-19T11:37:34.112886Z\", \"created_time_dt\": \"2021-04-19T11:37:34.112886Z\", \"duration\": \"0:01:34\", \"iteration\": \"54\", \"goal\": \"accuracy_max\", \"run_name\": \"StackEnsemble\", \"run_properties\": \"base_learners=[('36',\\n                                        Pipeline(memory=None,\\n                                                 steps=[('maxabsscaler',\\n                                                         MaxAbsScaler(copy=True\", \"primary_metric\": 0.855, \"best_metric\": 0.89}], \"children_metrics\": {\"categories\": [0], \"series\": {\"recall_score_micro\": [{\"categories\": [\"0\", \"1\", \"2\", \"3\", \"4\", \"5\", \"6\", \"7\", \"8\", \"9\", \"10\", \"11\", \"12\", \"13\", \"14\", \"15\", \"16\", \"17\", \"18\", \"19\", \"20\", \"21\", \"22\", \"23\", \"24\", \"25\", \"26\", \"27\", \"28\", \"29\", \"30\", \"31\", \"32\", \"33\", \"34\", \"35\", \"36\", \"37\", \"38\", \"39\", \"40\", \"41\", \"42\", \"43\", \"44\", \"45\", \"46\", \"47\", \"48\", \"49\", \"50\", \"53\", \"54\"], \"mode\": \"markers\", \"name\": \"recall_score_micro\", \"stepped\": false, \"type\": \"scatter\", \"data\": [0.7949999999999999, 0.845, 0.8350000000000002, 0.8100000000000002, 0.8400000000000001, 0.8099999999999999, 0.7899999999999999, 0.7150000000000001, 0.7150000000000001, 0.8300000000000001, 0.835, 0.85, 0.7950000000000002, 0.8300000000000001, 0.805, 0.825, 0.6950000000000001, 0.845, 0.835, 0.8400000000000001, 0.8550000000000001, 0.8200000000000001, 0.835, 0.835, 0.8649999999999999, 0.675, 0.8099999999999999, 0.835, 0.8200000000000001, 0.78, 0.78, 0.8, 0.8150000000000001, 0.7899999999999999, 0.7949999999999999, 0.675, 0.8700000000000001, 0.8450000000000001, 0.8099999999999999, 0.8299999999999998, 0.79, 0.8300000000000001, 0.8300000000000001, 0.8400000000000001, 0.8400000000000001, 0.825, 0.85, 0.8099999999999999, 0.85, 0.8099999999999999, 0.8450000000000001, 0.89, 0.8550000000000001]}, {\"categories\": [\"0\", \"1\", \"2\", \"3\", \"4\", \"5\", \"6\", \"7\", \"8\", \"9\", \"10\", \"11\", \"12\", \"13\", \"14\", \"15\", \"16\", \"17\", \"18\", \"19\", \"20\", \"21\", \"22\", \"23\", \"24\", \"25\", \"26\", \"27\", \"28\", \"29\", \"30\", \"31\", \"32\", \"33\", \"34\", \"35\", \"36\", \"37\", \"38\", \"39\", \"40\", \"41\", \"42\", \"43\", \"44\", \"45\", \"46\", \"47\", \"48\", \"49\", \"50\", \"53\", \"54\"], \"mode\": \"lines\", \"name\": \"recall_score_micro_max\", \"stepped\": true, \"type\": \"scatter\", \"data\": [0.7949999999999999, 0.845, 0.845, 0.845, 0.845, 0.845, 0.845, 0.845, 0.845, 0.845, 0.845, 0.85, 0.85, 0.85, 0.85, 0.85, 0.85, 0.85, 0.85, 0.85, 0.8550000000000001, 0.8550000000000001, 0.8550000000000001, 0.8550000000000001, 0.8649999999999999, 0.8649999999999999, 0.8649999999999999, 0.8649999999999999, 0.8649999999999999, 0.8649999999999999, 0.8649999999999999, 0.8649999999999999, 0.8649999999999999, 0.8649999999999999, 0.8649999999999999, 0.8649999999999999, 0.8700000000000001, 0.8700000000000001, 0.8700000000000001, 0.8700000000000001, 0.8700000000000001, 0.8700000000000001, 0.8700000000000001, 0.8700000000000001, 0.8700000000000001, 0.8700000000000001, 0.8700000000000001, 0.8700000000000001, 0.8700000000000001, 0.8700000000000001, 0.8700000000000001, 0.89, 0.89]}], \"f1_score_micro\": [{\"categories\": [\"0\", \"1\", \"2\", \"3\", \"4\", \"5\", \"6\", \"7\", \"8\", \"9\", \"10\", \"11\", \"12\", \"13\", \"14\", \"15\", \"16\", \"17\", \"18\", \"19\", \"20\", \"21\", \"22\", \"23\", \"24\", \"25\", \"26\", \"27\", \"28\", \"29\", \"30\", \"31\", \"32\", \"33\", \"34\", \"35\", \"36\", \"37\", \"38\", \"39\", \"40\", \"41\", \"42\", \"43\", \"44\", \"45\", \"46\", \"47\", \"48\", \"49\", \"50\", \"53\", \"54\"], \"mode\": \"markers\", \"name\": \"f1_score_micro\", \"stepped\": false, \"type\": \"scatter\", \"data\": [0.7950000000000002, 0.845, 0.8350000000000002, 0.8100000000000002, 0.8400000000000001, 0.8099999999999999, 0.79, 0.7150000000000001, 0.7150000000000001, 0.8300000000000001, 0.8350000000000002, 0.85, 0.7950000000000002, 0.8300000000000001, 0.805, 0.825, 0.6950000000000001, 0.845, 0.835, 0.8400000000000001, 0.8550000000000001, 0.8200000000000001, 0.835, 0.835, 0.8649999999999999, 0.675, 0.8100000000000002, 0.835, 0.8200000000000001, 0.78, 0.78, 0.8, 0.8150000000000001, 0.79, 0.7949999999999999, 0.675, 0.8700000000000001, 0.8450000000000001, 0.8100000000000002, 0.8299999999999998, 0.79, 0.8300000000000001, 0.8300000000000001, 0.8400000000000001, 0.8400000000000001, 0.825, 0.85, 0.8100000000000002, 0.85, 0.8100000000000002, 0.8450000000000001, 0.89, 0.8550000000000001]}, {\"categories\": [\"0\", \"1\", \"2\", \"3\", \"4\", \"5\", \"6\", \"7\", \"8\", \"9\", \"10\", \"11\", \"12\", \"13\", \"14\", \"15\", \"16\", \"17\", \"18\", \"19\", \"20\", \"21\", \"22\", \"23\", \"24\", \"25\", \"26\", \"27\", \"28\", \"29\", \"30\", \"31\", \"32\", \"33\", \"34\", \"35\", \"36\", \"37\", \"38\", \"39\", \"40\", \"41\", \"42\", \"43\", \"44\", \"45\", \"46\", \"47\", \"48\", \"49\", \"50\", \"53\", \"54\"], \"mode\": \"lines\", \"name\": \"f1_score_micro_max\", \"stepped\": true, \"type\": \"scatter\", \"data\": [0.7950000000000002, 0.845, 0.845, 0.845, 0.845, 0.845, 0.845, 0.845, 0.845, 0.845, 0.845, 0.85, 0.85, 0.85, 0.85, 0.85, 0.85, 0.85, 0.85, 0.85, 0.8550000000000001, 0.8550000000000001, 0.8550000000000001, 0.8550000000000001, 0.8649999999999999, 0.8649999999999999, 0.8649999999999999, 0.8649999999999999, 0.8649999999999999, 0.8649999999999999, 0.8649999999999999, 0.8649999999999999, 0.8649999999999999, 0.8649999999999999, 0.8649999999999999, 0.8649999999999999, 0.8700000000000001, 0.8700000000000001, 0.8700000000000001, 0.8700000000000001, 0.8700000000000001, 0.8700000000000001, 0.8700000000000001, 0.8700000000000001, 0.8700000000000001, 0.8700000000000001, 0.8700000000000001, 0.8700000000000001, 0.8700000000000001, 0.8700000000000001, 0.8700000000000001, 0.89, 0.89]}], \"accuracy\": [{\"categories\": [\"0\", \"1\", \"2\", \"3\", \"4\", \"5\", \"6\", \"7\", \"8\", \"9\", \"10\", \"11\", \"12\", \"13\", \"14\", \"15\", \"16\", \"17\", \"18\", \"19\", \"20\", \"21\", \"22\", \"23\", \"24\", \"25\", \"26\", \"27\", \"28\", \"29\", \"30\", \"31\", \"32\", \"33\", \"34\", \"35\", \"36\", \"37\", \"38\", \"39\", \"40\", \"41\", \"42\", \"43\", \"44\", \"45\", \"46\", \"47\", \"48\", \"49\", \"50\", \"53\", \"54\"], \"mode\": \"markers\", \"name\": \"accuracy\", \"stepped\": false, \"type\": \"scatter\", \"data\": [0.7949999999999999, 0.845, 0.8350000000000002, 0.8100000000000002, 0.8400000000000001, 0.8099999999999999, 0.7899999999999999, 0.7150000000000001, 0.7150000000000001, 0.8300000000000001, 0.835, 0.85, 0.7950000000000002, 0.8300000000000001, 0.805, 0.825, 0.6950000000000001, 0.845, 0.835, 0.8400000000000001, 0.8550000000000001, 0.8200000000000001, 0.835, 0.835, 0.8649999999999999, 0.675, 0.8099999999999999, 0.835, 0.8200000000000001, 0.78, 0.78, 0.8, 0.8150000000000001, 0.7899999999999999, 0.7949999999999999, 0.675, 0.8700000000000001, 0.8450000000000001, 0.8099999999999999, 0.8299999999999998, 0.79, 0.8300000000000001, 0.8300000000000001, 0.8400000000000001, 0.8400000000000001, 0.825, 0.85, 0.8099999999999999, 0.85, 0.8099999999999999, 0.8450000000000001, 0.89, 0.8550000000000001]}, {\"categories\": [\"0\", \"1\", \"2\", \"3\", \"4\", \"5\", \"6\", \"7\", \"8\", \"9\", \"10\", \"11\", \"12\", \"13\", \"14\", \"15\", \"16\", \"17\", \"18\", \"19\", \"20\", \"21\", \"22\", \"23\", \"24\", \"25\", \"26\", \"27\", \"28\", \"29\", \"30\", \"31\", \"32\", \"33\", \"34\", \"35\", \"36\", \"37\", \"38\", \"39\", \"40\", \"41\", \"42\", \"43\", \"44\", \"45\", \"46\", \"47\", \"48\", \"49\", \"50\", \"53\", \"54\"], \"mode\": \"lines\", \"name\": \"accuracy_max\", \"stepped\": true, \"type\": \"scatter\", \"data\": [0.7949999999999999, 0.845, 0.845, 0.845, 0.845, 0.845, 0.845, 0.845, 0.845, 0.845, 0.845, 0.85, 0.85, 0.85, 0.85, 0.85, 0.85, 0.85, 0.85, 0.85, 0.8550000000000001, 0.8550000000000001, 0.8550000000000001, 0.8550000000000001, 0.8649999999999999, 0.8649999999999999, 0.8649999999999999, 0.8649999999999999, 0.8649999999999999, 0.8649999999999999, 0.8649999999999999, 0.8649999999999999, 0.8649999999999999, 0.8649999999999999, 0.8649999999999999, 0.8649999999999999, 0.8700000000000001, 0.8700000000000001, 0.8700000000000001, 0.8700000000000001, 0.8700000000000001, 0.8700000000000001, 0.8700000000000001, 0.8700000000000001, 0.8700000000000001, 0.8700000000000001, 0.8700000000000001, 0.8700000000000001, 0.8700000000000001, 0.8700000000000001, 0.8700000000000001, 0.89, 0.89]}], \"precision_score_weighted\": [{\"categories\": [\"0\", \"1\", \"2\", \"3\", \"4\", \"5\", \"6\", \"7\", \"8\", \"9\", \"10\", \"11\", \"12\", \"13\", \"14\", \"15\", \"16\", \"17\", \"18\", \"19\", \"20\", \"21\", \"22\", \"23\", \"24\", \"25\", \"26\", \"27\", \"28\", \"29\", \"30\", \"31\", \"32\", \"33\", \"34\", \"35\", \"36\", \"37\", \"38\", \"39\", \"40\", \"41\", \"42\", \"43\", \"44\", \"45\", \"46\", \"47\", \"48\", \"49\", \"50\", \"53\", \"54\"], \"mode\": \"markers\", \"name\": \"precision_score_weighted\", \"stepped\": false, \"type\": \"scatter\", \"data\": [0.799157905982906, 0.847230322040667, 0.8423168868168869, 0.8199947443150768, 0.8443155694879833, 0.8089819597069597, 0.7940643294246786, 0.7028152456907527, 0.6988108134070866, 0.8346081504702194, 0.8429978389577174, 0.8543971115091805, 0.8102763011160578, 0.8346495905116594, 0.813737684309048, 0.8277265850040043, 0.7206538461538462, 0.8606714802521255, 0.8450607860699139, 0.8383742349604418, 0.8660083594566353, 0.8315019027200792, 0.8449139152435168, 0.8465539786967419, 0.8680692913562769, 0.456125, 0.8143555754590237, 0.8409229390681003, 0.8296297954918644, 0.7920565355696935, 0.7838369140438106, 0.8269795619534731, 0.8186166144200626, 0.8248656666967863, 0.8278823604710702, 0.456125, 0.8802235357235357, 0.8554449168797953, 0.8194280645280646, 0.8419650958038932, 0.8058314946702044, 0.8393550726155565, 0.8319084757834758, 0.8455919491728314, 0.8468443344425193, 0.8379524207593173, 0.8618495394525632, 0.8256855906064665, 0.8628959042993571, 0.833720035035958, 0.8499442768438458, 0.8979478414615991, 0.865928479437927]}, {\"categories\": [\"0\", \"1\", \"2\", \"3\", \"4\", \"5\", \"6\", \"7\", \"8\", \"9\", \"10\", \"11\", \"12\", \"13\", \"14\", \"15\", \"16\", \"17\", \"18\", \"19\", \"20\", \"21\", \"22\", \"23\", \"24\", \"25\", \"26\", \"27\", \"28\", \"29\", \"30\", \"31\", \"32\", \"33\", \"34\", \"35\", \"36\", \"37\", \"38\", \"39\", \"40\", \"41\", \"42\", \"43\", \"44\", \"45\", \"46\", \"47\", \"48\", \"49\", \"50\", \"53\", \"54\"], \"mode\": \"lines\", \"name\": \"precision_score_weighted_max\", \"stepped\": true, \"type\": \"scatter\", \"data\": [0.799157905982906, 0.847230322040667, 0.847230322040667, 0.847230322040667, 0.847230322040667, 0.847230322040667, 0.847230322040667, 0.847230322040667, 0.847230322040667, 0.847230322040667, 0.847230322040667, 0.8543971115091805, 0.8543971115091805, 0.8543971115091805, 0.8543971115091805, 0.8543971115091805, 0.8543971115091805, 0.8606714802521255, 0.8606714802521255, 0.8606714802521255, 0.8660083594566353, 0.8660083594566353, 0.8660083594566353, 0.8660083594566353, 0.8680692913562769, 0.8680692913562769, 0.8680692913562769, 0.8680692913562769, 0.8680692913562769, 0.8680692913562769, 0.8680692913562769, 0.8680692913562769, 0.8680692913562769, 0.8680692913562769, 0.8680692913562769, 0.8680692913562769, 0.8802235357235357, 0.8802235357235357, 0.8802235357235357, 0.8802235357235357, 0.8802235357235357, 0.8802235357235357, 0.8802235357235357, 0.8802235357235357, 0.8802235357235357, 0.8802235357235357, 0.8802235357235357, 0.8802235357235357, 0.8802235357235357, 0.8802235357235357, 0.8802235357235357, 0.8979478414615991, 0.8979478414615991]}], \"matthews_correlation\": [{\"categories\": [\"0\", \"1\", \"2\", \"3\", \"4\", \"5\", \"6\", \"7\", \"8\", \"9\", \"10\", \"11\", \"12\", \"13\", \"14\", \"15\", \"16\", \"17\", \"18\", \"19\", \"20\", \"21\", \"22\", \"23\", \"24\", \"25\", \"26\", \"27\", \"28\", \"29\", \"30\", \"31\", \"32\", \"33\", \"34\", \"35\", \"36\", \"37\", \"38\", \"39\", \"40\", \"41\", \"42\", \"43\", \"44\", \"45\", \"46\", \"47\", \"48\", \"49\", \"50\", \"53\", \"54\"], \"mode\": \"markers\", \"name\": \"matthews_correlation\", \"stepped\": false, \"type\": \"scatter\", \"data\": [0.5350485516967477, 0.6468546822620961, 0.6357642939242621, 0.5667245897318794, 0.6404923611432439, 0.5596088171064288, 0.5261446908368794, 0.29113518356532697, 0.2949373920323927, 0.6050217476300797, 0.6239704855510392, 0.6610298654203028, 0.5105479867719961, 0.6064452857308752, 0.5592667716795378, 0.6005692018981763, 0.18763734229509033, 0.6450873985952836, 0.6195540573805278, 0.6219089881941293, 0.6781921974883655, 0.5917922338396688, 0.6231590117908841, 0.6374767077327823, 0.6908754089878425, 0.0, 0.5643531347828559, 0.6295156460995923, 0.5802975229710536, 0.5175546481930471, 0.493256220691764, 0.5846910770094684, 0.5775930770609434, 0.512942757046148, 0.5187940995782474, 0.0, 0.7173205260091728, 0.6520892995116208, 0.5709373893785415, 0.6182056703832661, 0.494303962192998, 0.6157918120923551, 0.6052835361467797, 0.6271482082704155, 0.6394554499896246, 0.5983240244885227, 0.673165460080047, 0.5879277446193999, 0.6798034896784997, 0.5505188439368363, 0.6486382669315481, 0.7578833083374518, 0.6782889037934962]}, {\"categories\": [\"0\", \"1\", \"2\", \"3\", \"4\", \"5\", \"6\", \"7\", \"8\", \"9\", \"10\", \"11\", \"12\", \"13\", \"14\", \"15\", \"16\", \"17\", \"18\", \"19\", \"20\", \"21\", \"22\", \"23\", \"24\", \"25\", \"26\", \"27\", \"28\", \"29\", \"30\", \"31\", \"32\", \"33\", \"34\", \"35\", \"36\", \"37\", \"38\", \"39\", \"40\", \"41\", \"42\", \"43\", \"44\", \"45\", \"46\", \"47\", \"48\", \"49\", \"50\", \"53\", \"54\"], \"mode\": \"lines\", \"name\": \"matthews_correlation_max\", \"stepped\": true, \"type\": \"scatter\", \"data\": [0.5350485516967477, 0.6468546822620961, 0.6468546822620961, 0.6468546822620961, 0.6468546822620961, 0.6468546822620961, 0.6468546822620961, 0.6468546822620961, 0.6468546822620961, 0.6468546822620961, 0.6468546822620961, 0.6610298654203028, 0.6610298654203028, 0.6610298654203028, 0.6610298654203028, 0.6610298654203028, 0.6610298654203028, 0.6610298654203028, 0.6610298654203028, 0.6610298654203028, 0.6781921974883655, 0.6781921974883655, 0.6781921974883655, 0.6781921974883655, 0.6908754089878425, 0.6908754089878425, 0.6908754089878425, 0.6908754089878425, 0.6908754089878425, 0.6908754089878425, 0.6908754089878425, 0.6908754089878425, 0.6908754089878425, 0.6908754089878425, 0.6908754089878425, 0.6908754089878425, 0.7173205260091728, 0.7173205260091728, 0.7173205260091728, 0.7173205260091728, 0.7173205260091728, 0.7173205260091728, 0.7173205260091728, 0.7173205260091728, 0.7173205260091728, 0.7173205260091728, 0.7173205260091728, 0.7173205260091728, 0.7173205260091728, 0.7173205260091728, 0.7173205260091728, 0.7578833083374518, 0.7578833083374518]}], \"average_precision_score_micro\": [{\"categories\": [\"0\", \"1\", \"2\", \"3\", \"4\", \"5\", \"6\", \"7\", \"8\", \"9\", \"10\", \"11\", \"12\", \"13\", \"14\", \"15\", \"16\", \"17\", \"18\", \"19\", \"20\", \"21\", \"22\", \"23\", \"24\", \"25\", \"26\", \"27\", \"28\", \"29\", \"30\", \"31\", \"32\", \"33\", \"34\", \"35\", \"36\", \"37\", \"38\", \"39\", \"40\", \"41\", \"42\", \"43\", \"44\", \"45\", \"46\", \"47\", \"48\", \"49\", \"50\", \"53\", \"54\"], \"mode\": \"markers\", \"name\": \"average_precision_score_micro\", \"stepped\": false, \"type\": \"scatter\", \"data\": [0.8948419710300145, 0.9095613684238447, 0.9091069773407053, 0.9045995908753899, 0.9153860820376132, 0.8986878618364557, 0.8615942881948365, 0.8542067982068906, 0.8521139611174249, 0.9172523537633728, 0.9072359417101931, 0.9073517366506852, 0.888180302784318, 0.9082772599515337, 0.8751228402207618, 0.9102360509463295, 0.8502455117374172, 0.9074268596041588, 0.9115361686806048, 0.8818394098538453, 0.9030678170113943, 0.8805303805518859, 0.8689343737086295, 0.9053690372160883, 0.9205373689970033, 0.8496747880514377, 0.884894383283536, 0.9039026162870462, 0.8832935307953637, 0.8442337128276183, 0.8614797931903736, 0.8572447584754306, 0.8882365511255029, 0.8839681437520189, 0.8954354563842248, 0.615452529674077, 0.9111065574333859, 0.9184448889680306, 0.9112969901780399, 0.9073659577397996, 0.8845147281410316, 0.9122244616669599, 0.9121105551277944, 0.9189981547741354, 0.9218001116660914, 0.8674917764808047, 0.9092977357821443, 0.9033421559663175, 0.9290744521782521, 0.8803687602148026, 0.9051205856287279, 0.9187092096434253, 0.9173604252654088]}, {\"categories\": [\"0\", \"1\", \"2\", \"3\", \"4\", \"5\", \"6\", \"7\", \"8\", \"9\", \"10\", \"11\", \"12\", \"13\", \"14\", \"15\", \"16\", \"17\", \"18\", \"19\", \"20\", \"21\", \"22\", \"23\", \"24\", \"25\", \"26\", \"27\", \"28\", \"29\", \"30\", \"31\", \"32\", \"33\", \"34\", \"35\", \"36\", \"37\", \"38\", \"39\", \"40\", \"41\", \"42\", \"43\", \"44\", \"45\", \"46\", \"47\", \"48\", \"49\", \"50\", \"53\", \"54\"], \"mode\": \"lines\", \"name\": \"average_precision_score_micro_max\", \"stepped\": true, \"type\": \"scatter\", \"data\": [0.8948419710300145, 0.9095613684238447, 0.9095613684238447, 0.9095613684238447, 0.9153860820376132, 0.9153860820376132, 0.9153860820376132, 0.9153860820376132, 0.9153860820376132, 0.9172523537633728, 0.9172523537633728, 0.9172523537633728, 0.9172523537633728, 0.9172523537633728, 0.9172523537633728, 0.9172523537633728, 0.9172523537633728, 0.9172523537633728, 0.9172523537633728, 0.9172523537633728, 0.9172523537633728, 0.9172523537633728, 0.9172523537633728, 0.9172523537633728, 0.9205373689970033, 0.9205373689970033, 0.9205373689970033, 0.9205373689970033, 0.9205373689970033, 0.9205373689970033, 0.9205373689970033, 0.9205373689970033, 0.9205373689970033, 0.9205373689970033, 0.9205373689970033, 0.9205373689970033, 0.9205373689970033, 0.9205373689970033, 0.9205373689970033, 0.9205373689970033, 0.9205373689970033, 0.9205373689970033, 0.9205373689970033, 0.9205373689970033, 0.9218001116660914, 0.9218001116660914, 0.9218001116660914, 0.9218001116660914, 0.9290744521782521, 0.9290744521782521, 0.9290744521782521, 0.9290744521782521, 0.9290744521782521]}], \"AUC_weighted\": [{\"categories\": [\"0\", \"1\", \"2\", \"3\", \"4\", \"5\", \"6\", \"7\", \"8\", \"9\", \"10\", \"11\", \"12\", \"13\", \"14\", \"15\", \"16\", \"17\", \"18\", \"19\", \"20\", \"21\", \"22\", \"23\", \"24\", \"25\", \"26\", \"27\", \"28\", \"29\", \"30\", \"31\", \"32\", \"33\", \"34\", \"35\", \"36\", \"37\", \"38\", \"39\", \"40\", \"41\", \"42\", \"43\", \"44\", \"45\", \"46\", \"47\", \"48\", \"49\", \"50\", \"53\", \"54\"], \"mode\": \"markers\", \"name\": \"AUC_weighted\", \"stepped\": false, \"type\": \"scatter\", \"data\": [0.8823158323158324, 0.897018722018722, 0.8983134920634919, 0.8882376882376881, 0.9059879934879935, 0.891982091982092, 0.8321733821733822, 0.8278032153032153, 0.8278032153032153, 0.9105921855921855, 0.8926943426943426, 0.9008547008547009, 0.8785765160765161, 0.9010225885225885, 0.8511548636548637, 0.8995980870980871, 0.8709147334147334, 0.9021774521774523, 0.9087810337810337, 0.8854700854700855, 0.8861111111111111, 0.8713878713878713, 0.8681929181929181, 0.8968457468457467, 0.9109508547008547, 0.8870879120879123, 0.8760429385429387, 0.8907763532763532, 0.8788029100529101, 0.8446937321937323, 0.8507783882783884, 0.859559422059422, 0.8773606023606024, 0.8951159951159952, 0.9026149776149776, 0.48123728123728127, 0.8993437118437118, 0.9108109483109483, 0.9024928774928774, 0.9008903133903134, 0.8818426943426942, 0.907956857956858, 0.8992572242572242, 0.9076923076923077, 0.9121235246235248, 0.8611518111518113, 0.8989316239316238, 0.8946937321937322, 0.9226088726088726, 0.881354293854294, 0.8880545380545379, 0.9082264957264957, 0.9103123728123726]}, {\"categories\": [\"0\", \"1\", \"2\", \"3\", \"4\", \"5\", \"6\", \"7\", \"8\", \"9\", \"10\", \"11\", \"12\", \"13\", \"14\", \"15\", \"16\", \"17\", \"18\", \"19\", \"20\", \"21\", \"22\", \"23\", \"24\", \"25\", \"26\", \"27\", \"28\", \"29\", \"30\", \"31\", \"32\", \"33\", \"34\", \"35\", \"36\", \"37\", \"38\", \"39\", \"40\", \"41\", \"42\", \"43\", \"44\", \"45\", \"46\", \"47\", \"48\", \"49\", \"50\", \"53\", \"54\"], \"mode\": \"lines\", \"name\": \"AUC_weighted_max\", \"stepped\": true, \"type\": \"scatter\", \"data\": [0.8823158323158324, 0.897018722018722, 0.8983134920634919, 0.8983134920634919, 0.9059879934879935, 0.9059879934879935, 0.9059879934879935, 0.9059879934879935, 0.9059879934879935, 0.9105921855921855, 0.9105921855921855, 0.9105921855921855, 0.9105921855921855, 0.9105921855921855, 0.9105921855921855, 0.9105921855921855, 0.9105921855921855, 0.9105921855921855, 0.9105921855921855, 0.9105921855921855, 0.9105921855921855, 0.9105921855921855, 0.9105921855921855, 0.9105921855921855, 0.9109508547008547, 0.9109508547008547, 0.9109508547008547, 0.9109508547008547, 0.9109508547008547, 0.9109508547008547, 0.9109508547008547, 0.9109508547008547, 0.9109508547008547, 0.9109508547008547, 0.9109508547008547, 0.9109508547008547, 0.9109508547008547, 0.9109508547008547, 0.9109508547008547, 0.9109508547008547, 0.9109508547008547, 0.9109508547008547, 0.9109508547008547, 0.9109508547008547, 0.9121235246235248, 0.9121235246235248, 0.9121235246235248, 0.9121235246235248, 0.9226088726088726, 0.9226088726088726, 0.9226088726088726, 0.9226088726088726, 0.9226088726088726]}], \"norm_macro_recall\": [{\"categories\": [\"0\", \"1\", \"2\", \"3\", \"4\", \"5\", \"6\", \"7\", \"8\", \"9\", \"10\", \"11\", \"12\", \"13\", \"14\", \"15\", \"16\", \"17\", \"18\", \"19\", \"20\", \"21\", \"22\", \"23\", \"24\", \"25\", \"26\", \"27\", \"28\", \"29\", \"30\", \"31\", \"32\", \"33\", \"34\", \"35\", \"36\", \"37\", \"38\", \"39\", \"40\", \"41\", \"42\", \"43\", \"44\", \"45\", \"46\", \"47\", \"48\", \"49\", \"50\", \"53\", \"54\"], \"mode\": \"markers\", \"name\": \"norm_macro_recall\", \"stepped\": false, \"type\": \"scatter\", \"data\": [0.5326414326414326, 0.6388481888481888, 0.6350834350834351, 0.5263939763939763, 0.6343711843711843, 0.5532356532356532, 0.5197191697191698, 0.23921448921448918, 0.2545991045991046, 0.5620879120879121, 0.5911273911273911, 0.6455229955229955, 0.4062271062271062, 0.5620879120879121, 0.5298738298738299, 0.588013838013838, 0.06300366300366296, 0.5754578754578754, 0.5620879120879121, 0.5847171347171348, 0.649084249084249, 0.5443426943426944, 0.5751119251119252, 0.6286731786731785, 0.6651200651200652, 0.0, 0.5359381359381359, 0.6254782254782255, 0.5181318681318682, 0.5157916157916158, 0.4607448107448108, 0.5713675213675213, 0.541961741961742, 0.38406593406593403, 0.38241758241758245, 0.0, 0.7071428571428571, 0.6206145706145706, 0.5506512006512007, 0.5887464387464387, 0.3816035816035816, 0.5816035816035816, 0.5682336182336183, 0.577024827024827, 0.6213471713471713, 0.5462759462759463, 0.6679487179487179, 0.57987382987383, 0.6925925925925925, 0.43479853479853486, 0.6315221815221815, 0.7344322344322344, 0.6521164021164021]}, {\"categories\": [\"0\", \"1\", \"2\", \"3\", \"4\", \"5\", \"6\", \"7\", \"8\", \"9\", \"10\", \"11\", \"12\", \"13\", \"14\", \"15\", \"16\", \"17\", \"18\", \"19\", \"20\", \"21\", \"22\", \"23\", \"24\", \"25\", \"26\", \"27\", \"28\", \"29\", \"30\", \"31\", \"32\", \"33\", \"34\", \"35\", \"36\", \"37\", \"38\", \"39\", \"40\", \"41\", \"42\", \"43\", \"44\", \"45\", \"46\", \"47\", \"48\", \"49\", \"50\", \"53\", \"54\"], \"mode\": \"lines\", \"name\": \"norm_macro_recall_max\", \"stepped\": true, \"type\": \"scatter\", \"data\": [0.5326414326414326, 0.6388481888481888, 0.6388481888481888, 0.6388481888481888, 0.6388481888481888, 0.6388481888481888, 0.6388481888481888, 0.6388481888481888, 0.6388481888481888, 0.6388481888481888, 0.6388481888481888, 0.6455229955229955, 0.6455229955229955, 0.6455229955229955, 0.6455229955229955, 0.6455229955229955, 0.6455229955229955, 0.6455229955229955, 0.6455229955229955, 0.6455229955229955, 0.649084249084249, 0.649084249084249, 0.649084249084249, 0.649084249084249, 0.6651200651200652, 0.6651200651200652, 0.6651200651200652, 0.6651200651200652, 0.6651200651200652, 0.6651200651200652, 0.6651200651200652, 0.6651200651200652, 0.6651200651200652, 0.6651200651200652, 0.6651200651200652, 0.6651200651200652, 0.7071428571428571, 0.7071428571428571, 0.7071428571428571, 0.7071428571428571, 0.7071428571428571, 0.7071428571428571, 0.7071428571428571, 0.7071428571428571, 0.7071428571428571, 0.7071428571428571, 0.7071428571428571, 0.7071428571428571, 0.7071428571428571, 0.7071428571428571, 0.7071428571428571, 0.7344322344322344, 0.7344322344322344]}], \"balanced_accuracy\": [{\"categories\": [\"0\", \"1\", \"2\", \"3\", \"4\", \"5\", \"6\", \"7\", \"8\", \"9\", \"10\", \"11\", \"12\", \"13\", \"14\", \"15\", \"16\", \"17\", \"18\", \"19\", \"20\", \"21\", \"22\", \"23\", \"24\", \"25\", \"26\", \"27\", \"28\", \"29\", \"30\", \"31\", \"32\", \"33\", \"34\", \"35\", \"36\", \"37\", \"38\", \"39\", \"40\", \"41\", \"42\", \"43\", \"44\", \"45\", \"46\", \"47\", \"48\", \"49\", \"50\", \"53\", \"54\"], \"mode\": \"markers\", \"name\": \"balanced_accuracy\", \"stepped\": false, \"type\": \"scatter\", \"data\": [0.7663207163207163, 0.8194240944240944, 0.8175417175417176, 0.7631969881969882, 0.8171855921855921, 0.7766178266178265, 0.7598595848595849, 0.6196072446072446, 0.6272995522995523, 0.781043956043956, 0.7955636955636954, 0.8227614977614979, 0.7031135531135531, 0.781043956043956, 0.764936914936915, 0.794006919006919, 0.5315018315018315, 0.7877289377289378, 0.781043956043956, 0.7923585673585674, 0.8245421245421246, 0.7721713471713472, 0.7875559625559626, 0.8143365893365893, 0.8325600325600325, 0.5, 0.767969067969068, 0.8127391127391128, 0.7590659340659341, 0.7578958078958079, 0.7303724053724053, 0.7856837606837607, 0.770980870980871, 0.692032967032967, 0.6912087912087912, 0.5, 0.8535714285714284, 0.8103072853072852, 0.7753256003256004, 0.7943732193732195, 0.6908017908017908, 0.7908017908017907, 0.7841168091168091, 0.7885124135124135, 0.8106735856735856, 0.7731379731379733, 0.8339743589743589, 0.789936914936915, 0.8462962962962962, 0.7173992673992674, 0.8157610907610907, 0.8672161172161171, 0.8260582010582009]}, {\"categories\": [\"0\", \"1\", \"2\", \"3\", \"4\", \"5\", \"6\", \"7\", \"8\", \"9\", \"10\", \"11\", \"12\", \"13\", \"14\", \"15\", \"16\", \"17\", \"18\", \"19\", \"20\", \"21\", \"22\", \"23\", \"24\", \"25\", \"26\", \"27\", \"28\", \"29\", \"30\", \"31\", \"32\", \"33\", \"34\", \"35\", \"36\", \"37\", \"38\", \"39\", \"40\", \"41\", \"42\", \"43\", \"44\", \"45\", \"46\", \"47\", \"48\", \"49\", \"50\", \"53\", \"54\"], \"mode\": \"lines\", \"name\": \"balanced_accuracy_max\", \"stepped\": true, \"type\": \"scatter\", \"data\": [0.7663207163207163, 0.8194240944240944, 0.8194240944240944, 0.8194240944240944, 0.8194240944240944, 0.8194240944240944, 0.8194240944240944, 0.8194240944240944, 0.8194240944240944, 0.8194240944240944, 0.8194240944240944, 0.8227614977614979, 0.8227614977614979, 0.8227614977614979, 0.8227614977614979, 0.8227614977614979, 0.8227614977614979, 0.8227614977614979, 0.8227614977614979, 0.8227614977614979, 0.8245421245421246, 0.8245421245421246, 0.8245421245421246, 0.8245421245421246, 0.8325600325600325, 0.8325600325600325, 0.8325600325600325, 0.8325600325600325, 0.8325600325600325, 0.8325600325600325, 0.8325600325600325, 0.8325600325600325, 0.8325600325600325, 0.8325600325600325, 0.8325600325600325, 0.8325600325600325, 0.8535714285714284, 0.8535714285714284, 0.8535714285714284, 0.8535714285714284, 0.8535714285714284, 0.8535714285714284, 0.8535714285714284, 0.8535714285714284, 0.8535714285714284, 0.8535714285714284, 0.8535714285714284, 0.8535714285714284, 0.8535714285714284, 0.8535714285714284, 0.8535714285714284, 0.8672161172161171, 0.8672161172161171]}], \"recall_score_macro\": [{\"categories\": [\"0\", \"1\", \"2\", \"3\", \"4\", \"5\", \"6\", \"7\", \"8\", \"9\", \"10\", \"11\", \"12\", \"13\", \"14\", \"15\", \"16\", \"17\", \"18\", \"19\", \"20\", \"21\", \"22\", \"23\", \"24\", \"25\", \"26\", \"27\", \"28\", \"29\", \"30\", \"31\", \"32\", \"33\", \"34\", \"35\", \"36\", \"37\", \"38\", \"39\", \"40\", \"41\", \"42\", \"43\", \"44\", \"45\", \"46\", \"47\", \"48\", \"49\", \"50\", \"53\", \"54\"], \"mode\": \"markers\", \"name\": \"recall_score_macro\", \"stepped\": false, \"type\": \"scatter\", \"data\": [0.7663207163207163, 0.8194240944240944, 0.8175417175417176, 0.7631969881969882, 0.8171855921855921, 0.7766178266178265, 0.7598595848595849, 0.6196072446072446, 0.6272995522995523, 0.781043956043956, 0.7955636955636954, 0.8227614977614979, 0.7031135531135531, 0.781043956043956, 0.764936914936915, 0.794006919006919, 0.5315018315018315, 0.7877289377289378, 0.781043956043956, 0.7923585673585674, 0.8245421245421246, 0.7721713471713472, 0.7875559625559626, 0.8143365893365893, 0.8325600325600325, 0.5, 0.767969067969068, 0.8127391127391128, 0.7590659340659341, 0.7578958078958079, 0.7303724053724053, 0.7856837606837607, 0.770980870980871, 0.692032967032967, 0.6912087912087912, 0.5, 0.8535714285714284, 0.8103072853072852, 0.7753256003256004, 0.7943732193732195, 0.6908017908017908, 0.7908017908017907, 0.7841168091168091, 0.7885124135124135, 0.8106735856735856, 0.7731379731379733, 0.8339743589743589, 0.789936914936915, 0.8462962962962962, 0.7173992673992674, 0.8157610907610907, 0.8672161172161171, 0.8260582010582009]}, {\"categories\": [\"0\", \"1\", \"2\", \"3\", \"4\", \"5\", \"6\", \"7\", \"8\", \"9\", \"10\", \"11\", \"12\", \"13\", \"14\", \"15\", \"16\", \"17\", \"18\", \"19\", \"20\", \"21\", \"22\", \"23\", \"24\", \"25\", \"26\", \"27\", \"28\", \"29\", \"30\", \"31\", \"32\", \"33\", \"34\", \"35\", \"36\", \"37\", \"38\", \"39\", \"40\", \"41\", \"42\", \"43\", \"44\", \"45\", \"46\", \"47\", \"48\", \"49\", \"50\", \"53\", \"54\"], \"mode\": \"lines\", \"name\": \"recall_score_macro_max\", \"stepped\": true, \"type\": \"scatter\", \"data\": [0.7663207163207163, 0.8194240944240944, 0.8194240944240944, 0.8194240944240944, 0.8194240944240944, 0.8194240944240944, 0.8194240944240944, 0.8194240944240944, 0.8194240944240944, 0.8194240944240944, 0.8194240944240944, 0.8227614977614979, 0.8227614977614979, 0.8227614977614979, 0.8227614977614979, 0.8227614977614979, 0.8227614977614979, 0.8227614977614979, 0.8227614977614979, 0.8227614977614979, 0.8245421245421246, 0.8245421245421246, 0.8245421245421246, 0.8245421245421246, 0.8325600325600325, 0.8325600325600325, 0.8325600325600325, 0.8325600325600325, 0.8325600325600325, 0.8325600325600325, 0.8325600325600325, 0.8325600325600325, 0.8325600325600325, 0.8325600325600325, 0.8325600325600325, 0.8325600325600325, 0.8535714285714284, 0.8535714285714284, 0.8535714285714284, 0.8535714285714284, 0.8535714285714284, 0.8535714285714284, 0.8535714285714284, 0.8535714285714284, 0.8535714285714284, 0.8535714285714284, 0.8535714285714284, 0.8535714285714284, 0.8535714285714284, 0.8535714285714284, 0.8535714285714284, 0.8672161172161171, 0.8672161172161171]}], \"log_loss\": [{\"categories\": [\"0\", \"1\", \"2\", \"3\", \"4\", \"5\", \"6\", \"7\", \"8\", \"9\", \"10\", \"11\", \"12\", \"13\", \"14\", \"15\", \"16\", \"17\", \"18\", \"19\", \"20\", \"21\", \"22\", \"23\", \"24\", \"25\", \"26\", \"27\", \"28\", \"29\", \"30\", \"31\", \"32\", \"33\", \"34\", \"35\", \"36\", \"37\", \"38\", \"39\", \"40\", \"41\", \"42\", \"43\", \"44\", \"45\", \"46\", \"47\", \"48\", \"49\", \"50\", \"53\", \"54\"], \"mode\": \"markers\", \"name\": \"log_loss\", \"stepped\": false, \"type\": \"scatter\", \"data\": [0.49944482859874917, 0.40966777906459956, 0.386600960931908, 0.40527349174121846, 0.3794542807535885, 0.46033770206097097, 0.4858072262919528, 0.49192838100497716, 0.4880891681373428, 0.41561590040598323, 0.39796348598663767, 0.37906078632527307, 0.45462436064526857, 0.42424189359892744, 0.473862110488775, 0.38550655050233773, 0.5468282321255142, 0.4224566809773053, 0.414081141771615, 0.43522524457635664, 0.3947862913212156, 0.42316016378310495, 0.4450603672859573, 0.3978371820329411, 0.38642787806444895, 0.5314045846605661, 0.4301882498613308, 0.4639825425989878, 0.45740770036191664, 0.5872753958250417, 0.5054188575966089, 0.46384957754271144, 0.4028285020515354, 0.4747521728058821, 0.4634157727175281, 0.6336769358345328, 0.37761428705588773, 0.36400439716286376, 0.3776776106009871, 0.39347227307349775, 0.46575388380443794, 0.388685318374176, 0.38639286958089314, 0.38175895875971105, 0.3633920265301116, 0.4342994323944828, 0.3865971674454009, 0.4896742087820602, 0.41906674473679545, 0.46806237916252114, 0.4709330605952221, 0.3772695009957162, 0.37065709320264517]}, {\"categories\": [\"0\", \"1\", \"2\", \"3\", \"4\", \"5\", \"6\", \"7\", \"8\", \"9\", \"10\", \"11\", \"12\", \"13\", \"14\", \"15\", \"16\", \"17\", \"18\", \"19\", \"20\", \"21\", \"22\", \"23\", \"24\", \"25\", \"26\", \"27\", \"28\", \"29\", \"30\", \"31\", \"32\", \"33\", \"34\", \"35\", \"36\", \"37\", \"38\", \"39\", \"40\", \"41\", \"42\", \"43\", \"44\", \"45\", \"46\", \"47\", \"48\", \"49\", \"50\", \"53\", \"54\"], \"mode\": \"lines\", \"name\": \"log_loss_min\", \"stepped\": true, \"type\": \"scatter\", \"data\": [0.49944482859874917, 0.40966777906459956, 0.386600960931908, 0.386600960931908, 0.3794542807535885, 0.3794542807535885, 0.3794542807535885, 0.3794542807535885, 0.3794542807535885, 0.3794542807535885, 0.3794542807535885, 0.37906078632527307, 0.37906078632527307, 0.37906078632527307, 0.37906078632527307, 0.37906078632527307, 0.37906078632527307, 0.37906078632527307, 0.37906078632527307, 0.37906078632527307, 0.37906078632527307, 0.37906078632527307, 0.37906078632527307, 0.37906078632527307, 0.37906078632527307, 0.37906078632527307, 0.37906078632527307, 0.37906078632527307, 0.37906078632527307, 0.37906078632527307, 0.37906078632527307, 0.37906078632527307, 0.37906078632527307, 0.37906078632527307, 0.37906078632527307, 0.37906078632527307, 0.37761428705588773, 0.36400439716286376, 0.36400439716286376, 0.36400439716286376, 0.36400439716286376, 0.36400439716286376, 0.36400439716286376, 0.36400439716286376, 0.3633920265301116, 0.3633920265301116, 0.3633920265301116, 0.3633920265301116, 0.3633920265301116, 0.3633920265301116, 0.3633920265301116, 0.3633920265301116, 0.3633920265301116]}], \"precision_score_macro\": [{\"categories\": [\"0\", \"1\", \"2\", \"3\", \"4\", \"5\", \"6\", \"7\", \"8\", \"9\", \"10\", \"11\", \"12\", \"13\", \"14\", \"15\", \"16\", \"17\", \"18\", \"19\", \"20\", \"21\", \"22\", \"23\", \"24\", \"25\", \"26\", \"27\", \"28\", \"29\", \"30\", \"31\", \"32\", \"33\", \"34\", \"35\", \"36\", \"37\", \"38\", \"39\", \"40\", \"41\", \"42\", \"43\", \"44\", \"45\", \"46\", \"47\", \"48\", \"49\", \"50\", \"53\", \"54\"], \"mode\": \"markers\", \"name\": \"precision_score_macro\", \"stepped\": false, \"type\": \"scatter\", \"data\": [0.7697029914529914, 0.8281950361260705, 0.8188097088097088, 0.8081532743329418, 0.8237235944132497, 0.7839981684981685, 0.7670649509039139, 0.6802990459506686, 0.6724906779798244, 0.8287660615246821, 0.8324959380985597, 0.8397633975220182, 0.8240726008271647, 0.8296855124441332, 0.7965220893502388, 0.8082053382698543, 0.7444871794871796, 0.8674782445750188, 0.845690313743052, 0.8319077474249887, 0.856986117330945, 0.825490100674463, 0.8414086322701124, 0.8250507518796992, 0.859711688632712, 0.3375, 0.8013304192614538, 0.8178904578098127, 0.830391103149724, 0.7605824657798343, 0.7681110460420805, 0.8015914452053291, 0.8096244215554561, 0.8480446372097227, 0.8559626216077829, 0.3375, 0.8651500351500351, 0.8453925831202046, 0.7995178340178339, 0.8279786899426528, 0.8224344830796444, 0.8287378275846017, 0.8241012922262921, 0.8439677003279943, 0.8306524397510291, 0.8357081156391502, 0.8407399678143636, 0.8001323866173611, 0.8340815549894834, 0.8540767717745406, 0.8347869989206196, 0.8920874584874939, 0.85501886775511]}, {\"categories\": [\"0\", \"1\", \"2\", \"3\", \"4\", \"5\", \"6\", \"7\", \"8\", \"9\", \"10\", \"11\", \"12\", \"13\", \"14\", \"15\", \"16\", \"17\", \"18\", \"19\", \"20\", \"21\", \"22\", \"23\", \"24\", \"25\", \"26\", \"27\", \"28\", \"29\", \"30\", \"31\", \"32\", \"33\", \"34\", \"35\", \"36\", \"37\", \"38\", \"39\", \"40\", \"41\", \"42\", \"43\", \"44\", \"45\", \"46\", \"47\", \"48\", \"49\", \"50\", \"53\", \"54\"], \"mode\": \"lines\", \"name\": \"precision_score_macro_max\", \"stepped\": true, \"type\": \"scatter\", \"data\": [0.7697029914529914, 0.8281950361260705, 0.8281950361260705, 0.8281950361260705, 0.8281950361260705, 0.8281950361260705, 0.8281950361260705, 0.8281950361260705, 0.8281950361260705, 0.8287660615246821, 0.8324959380985597, 0.8397633975220182, 0.8397633975220182, 0.8397633975220182, 0.8397633975220182, 0.8397633975220182, 0.8397633975220182, 0.8674782445750188, 0.8674782445750188, 0.8674782445750188, 0.8674782445750188, 0.8674782445750188, 0.8674782445750188, 0.8674782445750188, 0.8674782445750188, 0.8674782445750188, 0.8674782445750188, 0.8674782445750188, 0.8674782445750188, 0.8674782445750188, 0.8674782445750188, 0.8674782445750188, 0.8674782445750188, 0.8674782445750188, 0.8674782445750188, 0.8674782445750188, 0.8674782445750188, 0.8674782445750188, 0.8674782445750188, 0.8674782445750188, 0.8674782445750188, 0.8674782445750188, 0.8674782445750188, 0.8674782445750188, 0.8674782445750188, 0.8674782445750188, 0.8674782445750188, 0.8674782445750188, 0.8674782445750188, 0.8674782445750188, 0.8674782445750188, 0.8920874584874939, 0.8920874584874939]}], \"AUC_macro\": [{\"categories\": [\"0\", \"1\", \"2\", \"3\", \"4\", \"5\", \"6\", \"7\", \"8\", \"9\", \"10\", \"11\", \"12\", \"13\", \"14\", \"15\", \"16\", \"17\", \"18\", \"19\", \"20\", \"21\", \"22\", \"23\", \"24\", \"25\", \"26\", \"27\", \"28\", \"29\", \"30\", \"31\", \"32\", \"33\", \"34\", \"35\", \"36\", \"37\", \"38\", \"39\", \"40\", \"41\", \"42\", \"43\", \"44\", \"45\", \"46\", \"47\", \"48\", \"49\", \"50\", \"53\", \"54\"], \"mode\": \"markers\", \"name\": \"AUC_macro\", \"stepped\": false, \"type\": \"scatter\", \"data\": [0.8823158323158324, 0.897018722018722, 0.8983134920634921, 0.8882376882376881, 0.9059879934879934, 0.891982091982092, 0.8321733821733822, 0.8278032153032153, 0.8278032153032153, 0.9105921855921857, 0.8926943426943428, 0.9008547008547009, 0.8785765160765161, 0.9010225885225885, 0.8511548636548636, 0.8995980870980871, 0.8709147334147334, 0.9021774521774522, 0.9087810337810339, 0.8854700854700855, 0.8861111111111111, 0.8713878713878713, 0.8681929181929181, 0.8968457468457469, 0.9109508547008547, 0.887087912087912, 0.8760429385429385, 0.8907763532763532, 0.8788029100529101, 0.8446937321937323, 0.8507783882783884, 0.859559422059422, 0.8773606023606024, 0.8951159951159952, 0.9026149776149776, 0.48123728123728127, 0.8993437118437118, 0.9108109483109483, 0.9024928774928774, 0.9008903133903134, 0.8818426943426942, 0.907956857956858, 0.8992572242572242, 0.9076923076923077, 0.9121235246235248, 0.861151811151811, 0.8989316239316241, 0.8946937321937322, 0.9226088726088728, 0.881354293854294, 0.8880545380545379, 0.9082264957264957, 0.9103123728123726]}, {\"categories\": [\"0\", \"1\", \"2\", \"3\", \"4\", \"5\", \"6\", \"7\", \"8\", \"9\", \"10\", \"11\", \"12\", \"13\", \"14\", \"15\", \"16\", \"17\", \"18\", \"19\", \"20\", \"21\", \"22\", \"23\", \"24\", \"25\", \"26\", \"27\", \"28\", \"29\", \"30\", \"31\", \"32\", \"33\", \"34\", \"35\", \"36\", \"37\", \"38\", \"39\", \"40\", \"41\", \"42\", \"43\", \"44\", \"45\", \"46\", \"47\", \"48\", \"49\", \"50\", \"53\", \"54\"], \"mode\": \"lines\", \"name\": \"AUC_macro_max\", \"stepped\": true, \"type\": \"scatter\", \"data\": [0.8823158323158324, 0.897018722018722, 0.8983134920634921, 0.8983134920634921, 0.9059879934879934, 0.9059879934879934, 0.9059879934879934, 0.9059879934879934, 0.9059879934879934, 0.9105921855921857, 0.9105921855921857, 0.9105921855921857, 0.9105921855921857, 0.9105921855921857, 0.9105921855921857, 0.9105921855921857, 0.9105921855921857, 0.9105921855921857, 0.9105921855921857, 0.9105921855921857, 0.9105921855921857, 0.9105921855921857, 0.9105921855921857, 0.9105921855921857, 0.9109508547008547, 0.9109508547008547, 0.9109508547008547, 0.9109508547008547, 0.9109508547008547, 0.9109508547008547, 0.9109508547008547, 0.9109508547008547, 0.9109508547008547, 0.9109508547008547, 0.9109508547008547, 0.9109508547008547, 0.9109508547008547, 0.9109508547008547, 0.9109508547008547, 0.9109508547008547, 0.9109508547008547, 0.9109508547008547, 0.9109508547008547, 0.9109508547008547, 0.9121235246235248, 0.9121235246235248, 0.9121235246235248, 0.9121235246235248, 0.9226088726088728, 0.9226088726088728, 0.9226088726088728, 0.9226088726088728, 0.9226088726088728]}], \"average_precision_score_weighted\": [{\"categories\": [\"0\", \"1\", \"2\", \"3\", \"4\", \"5\", \"6\", \"7\", \"8\", \"9\", \"10\", \"11\", \"12\", \"13\", \"14\", \"15\", \"16\", \"17\", \"18\", \"19\", \"20\", \"21\", \"22\", \"23\", \"24\", \"25\", \"26\", \"27\", \"28\", \"29\", \"30\", \"31\", \"32\", \"33\", \"34\", \"35\", \"36\", \"37\", \"38\", \"39\", \"40\", \"41\", \"42\", \"43\", \"44\", \"45\", \"46\", \"47\", \"48\", \"49\", \"50\", \"53\", \"54\"], \"mode\": \"markers\", \"name\": \"average_precision_score_weighted\", \"stepped\": false, \"type\": \"scatter\", \"data\": [0.8984756773427444, 0.9107205860105289, 0.9077634946617206, 0.8937927161810226, 0.9147626238031566, 0.9048817311064618, 0.8433711300683637, 0.8479689677723705, 0.8479689677723705, 0.9210422915447103, 0.9067286068387326, 0.9065042653901072, 0.8927544404579072, 0.9150113351660369, 0.8711768049566663, 0.9100545182227877, 0.8916404576361975, 0.9148833037772093, 0.918729857071275, 0.8754717699934942, 0.9021619273429305, 0.8757817030152205, 0.8713720471943811, 0.9106676393246428, 0.9201920353449313, 0.8853354396139256, 0.8796059256412626, 0.9062145152107135, 0.870945840039383, 0.8511667525977545, 0.8538674680731857, 0.8713054593326695, 0.8834936840699491, 0.9083964968258769, 0.9150637984785481, 0.5553298588666234, 0.9124280059263203, 0.923031864608248, 0.9133238982981068, 0.9109005689769247, 0.899093669506428, 0.9177316915783253, 0.9084068032444659, 0.9161478674184902, 0.9223569255829812, 0.8650836973349048, 0.9129679999984741, 0.9099487505391683, 0.9319983393118045, 0.8914162217207924, 0.9044761247875808, 0.9192310678704205, 0.9212088675564756]}, {\"categories\": [\"0\", \"1\", \"2\", \"3\", \"4\", \"5\", \"6\", \"7\", \"8\", \"9\", \"10\", \"11\", \"12\", \"13\", \"14\", \"15\", \"16\", \"17\", \"18\", \"19\", \"20\", \"21\", \"22\", \"23\", \"24\", \"25\", \"26\", \"27\", \"28\", \"29\", \"30\", \"31\", \"32\", \"33\", \"34\", \"35\", \"36\", \"37\", \"38\", \"39\", \"40\", \"41\", \"42\", \"43\", \"44\", \"45\", \"46\", \"47\", \"48\", \"49\", \"50\", \"53\", \"54\"], \"mode\": \"lines\", \"name\": \"average_precision_score_weighted_max\", \"stepped\": true, \"type\": \"scatter\", \"data\": [0.8984756773427444, 0.9107205860105289, 0.9107205860105289, 0.9107205860105289, 0.9147626238031566, 0.9147626238031566, 0.9147626238031566, 0.9147626238031566, 0.9147626238031566, 0.9210422915447103, 0.9210422915447103, 0.9210422915447103, 0.9210422915447103, 0.9210422915447103, 0.9210422915447103, 0.9210422915447103, 0.9210422915447103, 0.9210422915447103, 0.9210422915447103, 0.9210422915447103, 0.9210422915447103, 0.9210422915447103, 0.9210422915447103, 0.9210422915447103, 0.9210422915447103, 0.9210422915447103, 0.9210422915447103, 0.9210422915447103, 0.9210422915447103, 0.9210422915447103, 0.9210422915447103, 0.9210422915447103, 0.9210422915447103, 0.9210422915447103, 0.9210422915447103, 0.9210422915447103, 0.9210422915447103, 0.923031864608248, 0.923031864608248, 0.923031864608248, 0.923031864608248, 0.923031864608248, 0.923031864608248, 0.923031864608248, 0.923031864608248, 0.923031864608248, 0.923031864608248, 0.923031864608248, 0.9319983393118045, 0.9319983393118045, 0.9319983393118045, 0.9319983393118045, 0.9319983393118045]}], \"f1_score_weighted\": [{\"categories\": [\"0\", \"1\", \"2\", \"3\", \"4\", \"5\", \"6\", \"7\", \"8\", \"9\", \"10\", \"11\", \"12\", \"13\", \"14\", \"15\", \"16\", \"17\", \"18\", \"19\", \"20\", \"21\", \"22\", \"23\", \"24\", \"25\", \"26\", \"27\", \"28\", \"29\", \"30\", \"31\", \"32\", \"33\", \"34\", \"35\", \"36\", \"37\", \"38\", \"39\", \"40\", \"41\", \"42\", \"43\", \"44\", \"45\", \"46\", \"47\", \"48\", \"49\", \"50\", \"53\", \"54\"], \"mode\": \"markers\", \"name\": \"f1_score_weighted\", \"stepped\": false, \"type\": \"scatter\", \"data\": [0.7928246799164117, 0.84336400726149, 0.8357236720754455, 0.8033964016386161, 0.8393636987726232, 0.8058437702484872, 0.7880059775769522, 0.6854501569059658, 0.6910066383540329, 0.8207718651824845, 0.8282365398783641, 0.8461135420328112, 0.7714172694688823, 0.8221258855942116, 0.8014863557476822, 0.820872558755515, 0.5879892247056426, 0.8330368504945875, 0.8248078492121363, 0.8318509891236774, 0.8520151515151515, 0.8121913663653194, 0.8274153005581782, 0.8334149091893922, 0.8620061893865097, 0.5442426902918562, 0.8009214334110922, 0.8334010611813815, 0.8060350500263145, 0.7799800985037492, 0.7698962351662598, 0.8005810794762109, 0.8087726821901533, 0.7601555505551099, 0.7646688945050704, 0.5442426902918562, 0.8694928255488896, 0.8399453415516751, 0.8036197446907385, 0.824556100559346, 0.7629887829682872, 0.8249085192460953, 0.8230682123053306, 0.8300352299620034, 0.8368595146770058, 0.8130406409369962, 0.8502661317424387, 0.8090567874485217, 0.8519260198783218, 0.7856886402654905, 0.8418761143939637, 0.8891644340994013, 0.8523845053999587]}, {\"categories\": [\"0\", \"1\", \"2\", \"3\", \"4\", \"5\", \"6\", \"7\", \"8\", \"9\", \"10\", \"11\", \"12\", \"13\", \"14\", \"15\", \"16\", \"17\", \"18\", \"19\", \"20\", \"21\", \"22\", \"23\", \"24\", \"25\", \"26\", \"27\", \"28\", \"29\", \"30\", \"31\", \"32\", \"33\", \"34\", \"35\", \"36\", \"37\", \"38\", \"39\", \"40\", \"41\", \"42\", \"43\", \"44\", \"45\", \"46\", \"47\", \"48\", \"49\", \"50\", \"53\", \"54\"], \"mode\": \"lines\", \"name\": \"f1_score_weighted_max\", \"stepped\": true, \"type\": \"scatter\", \"data\": [0.7928246799164117, 0.84336400726149, 0.84336400726149, 0.84336400726149, 0.84336400726149, 0.84336400726149, 0.84336400726149, 0.84336400726149, 0.84336400726149, 0.84336400726149, 0.84336400726149, 0.8461135420328112, 0.8461135420328112, 0.8461135420328112, 0.8461135420328112, 0.8461135420328112, 0.8461135420328112, 0.8461135420328112, 0.8461135420328112, 0.8461135420328112, 0.8520151515151515, 0.8520151515151515, 0.8520151515151515, 0.8520151515151515, 0.8620061893865097, 0.8620061893865097, 0.8620061893865097, 0.8620061893865097, 0.8620061893865097, 0.8620061893865097, 0.8620061893865097, 0.8620061893865097, 0.8620061893865097, 0.8620061893865097, 0.8620061893865097, 0.8620061893865097, 0.8694928255488896, 0.8694928255488896, 0.8694928255488896, 0.8694928255488896, 0.8694928255488896, 0.8694928255488896, 0.8694928255488896, 0.8694928255488896, 0.8694928255488896, 0.8694928255488896, 0.8694928255488896, 0.8694928255488896, 0.8694928255488896, 0.8694928255488896, 0.8694928255488896, 0.8891644340994013, 0.8891644340994013]}], \"precision_score_micro\": [{\"categories\": [\"0\", \"1\", \"2\", \"3\", \"4\", \"5\", \"6\", \"7\", \"8\", \"9\", \"10\", \"11\", \"12\", \"13\", \"14\", \"15\", \"16\", \"17\", \"18\", \"19\", \"20\", \"21\", \"22\", \"23\", \"24\", \"25\", \"26\", \"27\", \"28\", \"29\", \"30\", \"31\", \"32\", \"33\", \"34\", \"35\", \"36\", \"37\", \"38\", \"39\", \"40\", \"41\", \"42\", \"43\", \"44\", \"45\", \"46\", \"47\", \"48\", \"49\", \"50\", \"53\", \"54\"], \"mode\": \"markers\", \"name\": \"precision_score_micro\", \"stepped\": false, \"type\": \"scatter\", \"data\": [0.7949999999999999, 0.845, 0.8350000000000002, 0.8100000000000002, 0.8400000000000001, 0.8099999999999999, 0.7899999999999999, 0.7150000000000001, 0.7150000000000001, 0.8300000000000001, 0.835, 0.85, 0.7950000000000002, 0.8300000000000001, 0.805, 0.825, 0.6950000000000001, 0.845, 0.835, 0.8400000000000001, 0.8550000000000001, 0.8200000000000001, 0.835, 0.835, 0.8649999999999999, 0.675, 0.8099999999999999, 0.835, 0.8200000000000001, 0.78, 0.78, 0.8, 0.8150000000000001, 0.7899999999999999, 0.7949999999999999, 0.675, 0.8700000000000001, 0.8450000000000001, 0.8099999999999999, 0.8299999999999998, 0.79, 0.8300000000000001, 0.8300000000000001, 0.8400000000000001, 0.8400000000000001, 0.825, 0.85, 0.8099999999999999, 0.85, 0.8099999999999999, 0.8450000000000001, 0.89, 0.8550000000000001]}, {\"categories\": [\"0\", \"1\", \"2\", \"3\", \"4\", \"5\", \"6\", \"7\", \"8\", \"9\", \"10\", \"11\", \"12\", \"13\", \"14\", \"15\", \"16\", \"17\", \"18\", \"19\", \"20\", \"21\", \"22\", \"23\", \"24\", \"25\", \"26\", \"27\", \"28\", \"29\", \"30\", \"31\", \"32\", \"33\", \"34\", \"35\", \"36\", \"37\", \"38\", \"39\", \"40\", \"41\", \"42\", \"43\", \"44\", \"45\", \"46\", \"47\", \"48\", \"49\", \"50\", \"53\", \"54\"], \"mode\": \"lines\", \"name\": \"precision_score_micro_max\", \"stepped\": true, \"type\": \"scatter\", \"data\": [0.7949999999999999, 0.845, 0.845, 0.845, 0.845, 0.845, 0.845, 0.845, 0.845, 0.845, 0.845, 0.85, 0.85, 0.85, 0.85, 0.85, 0.85, 0.85, 0.85, 0.85, 0.8550000000000001, 0.8550000000000001, 0.8550000000000001, 0.8550000000000001, 0.8649999999999999, 0.8649999999999999, 0.8649999999999999, 0.8649999999999999, 0.8649999999999999, 0.8649999999999999, 0.8649999999999999, 0.8649999999999999, 0.8649999999999999, 0.8649999999999999, 0.8649999999999999, 0.8649999999999999, 0.8700000000000001, 0.8700000000000001, 0.8700000000000001, 0.8700000000000001, 0.8700000000000001, 0.8700000000000001, 0.8700000000000001, 0.8700000000000001, 0.8700000000000001, 0.8700000000000001, 0.8700000000000001, 0.8700000000000001, 0.8700000000000001, 0.8700000000000001, 0.8700000000000001, 0.89, 0.89]}], \"weighted_accuracy\": [{\"categories\": [\"0\", \"1\", \"2\", \"3\", \"4\", \"5\", \"6\", \"7\", \"8\", \"9\", \"10\", \"11\", \"12\", \"13\", \"14\", \"15\", \"16\", \"17\", \"18\", \"19\", \"20\", \"21\", \"22\", \"23\", \"24\", \"25\", \"26\", \"27\", \"28\", \"29\", \"30\", \"31\", \"32\", \"33\", \"34\", \"35\", \"36\", \"37\", \"38\", \"39\", \"40\", \"41\", \"42\", \"43\", \"44\", \"45\", \"46\", \"47\", \"48\", \"49\", \"50\", \"53\", \"54\"], \"mode\": \"markers\", \"name\": \"weighted_accuracy\", \"stepped\": false, \"type\": \"scatter\", \"data\": [0.8177957061599151, 0.8654058651902465, 0.8483338488496704, 0.8461239923651913, 0.8574008006825954, 0.8361937209405556, 0.814074564799699, 0.7894303943735208, 0.7832944347486663, 0.868589783335177, 0.8659370290335511, 0.8713105118126047, 0.8657175177148557, 0.868589783335177, 0.8364988737318473, 0.849859595191677, 0.8216623252910435, 0.8899213972629958, 0.8776210658998977, 0.8774629585658735, 0.8785154397730132, 0.8572590395613577, 0.8720809680058113, 0.851092712618783, 0.8901409085816911, 0.8103835793837618, 0.843422516485367, 0.8530146432474288, 0.8683037246114076, 0.7971403639427911, 0.8195000630597432, 0.8114659699328325, 0.8498016260254253, 0.8666903111346598, 0.8749860669673337, 0.8103835793837618, 0.8831283304527832, 0.8720367909565987, 0.8379632865469964, 0.8577038749683821, 0.8662204103603987, 0.8605273485526906, 0.8658520392957317, 0.8805309383783007, 0.8629408985766815, 0.865680069386855, 0.8627543615148149, 0.8261949292920612, 0.8531912457575588, 0.8811708186282005, 0.8682227685834245, 0.9077487037523717, 0.8777628270211352]}, {\"categories\": [\"0\", \"1\", \"2\", \"3\", \"4\", \"5\", \"6\", \"7\", \"8\", \"9\", \"10\", \"11\", \"12\", \"13\", \"14\", \"15\", \"16\", \"17\", \"18\", \"19\", \"20\", \"21\", \"22\", \"23\", \"24\", \"25\", \"26\", \"27\", \"28\", \"29\", \"30\", \"31\", \"32\", \"33\", \"34\", \"35\", \"36\", \"37\", \"38\", \"39\", \"40\", \"41\", \"42\", \"43\", \"44\", \"45\", \"46\", \"47\", \"48\", \"49\", \"50\", \"53\", \"54\"], \"mode\": \"lines\", \"name\": \"weighted_accuracy_max\", \"stepped\": true, \"type\": \"scatter\", \"data\": [0.8177957061599151, 0.8654058651902465, 0.8654058651902465, 0.8654058651902465, 0.8654058651902465, 0.8654058651902465, 0.8654058651902465, 0.8654058651902465, 0.8654058651902465, 0.868589783335177, 0.868589783335177, 0.8713105118126047, 0.8713105118126047, 0.8713105118126047, 0.8713105118126047, 0.8713105118126047, 0.8713105118126047, 0.8899213972629958, 0.8899213972629958, 0.8899213972629958, 0.8899213972629958, 0.8899213972629958, 0.8899213972629958, 0.8899213972629958, 0.8901409085816911, 0.8901409085816911, 0.8901409085816911, 0.8901409085816911, 0.8901409085816911, 0.8901409085816911, 0.8901409085816911, 0.8901409085816911, 0.8901409085816911, 0.8901409085816911, 0.8901409085816911, 0.8901409085816911, 0.8901409085816911, 0.8901409085816911, 0.8901409085816911, 0.8901409085816911, 0.8901409085816911, 0.8901409085816911, 0.8901409085816911, 0.8901409085816911, 0.8901409085816911, 0.8901409085816911, 0.8901409085816911, 0.8901409085816911, 0.8901409085816911, 0.8901409085816911, 0.8901409085816911, 0.9077487037523717, 0.9077487037523717]}], \"f1_score_macro\": [{\"categories\": [\"0\", \"1\", \"2\", \"3\", \"4\", \"5\", \"6\", \"7\", \"8\", \"9\", \"10\", \"11\", \"12\", \"13\", \"14\", \"15\", \"16\", \"17\", \"18\", \"19\", \"20\", \"21\", \"22\", \"23\", \"24\", \"25\", \"26\", \"27\", \"28\", \"29\", \"30\", \"31\", \"32\", \"33\", \"34\", \"35\", \"36\", \"37\", \"38\", \"39\", \"40\", \"41\", \"42\", \"43\", \"44\", \"45\", \"46\", \"47\", \"48\", \"49\", \"50\", \"53\", \"54\"], \"mode\": \"markers\", \"name\": \"f1_score_macro\", \"stepped\": false, \"type\": \"scatter\", \"data\": [0.7627292073207189, 0.8203112666636694, 0.8146203916221078, 0.7706265644600263, 0.8171926804443966, 0.7756251931055107, 0.7584244615895271, 0.619429244031288, 0.6294140252335263, 0.7897826008817747, 0.8001197578839403, 0.8238622790450298, 0.7205630498533724, 0.7919452561657427, 0.7707381561313661, 0.7941157480610046, 0.46615851809881664, 0.8012026523025899, 0.7931577245938343, 0.8028488067066013, 0.8297186147186147, 0.781316467582425, 0.7980893752780279, 0.8105257957590762, 0.8404528713087066, 0.40287865485407187, 0.7701710723399138, 0.8096507061037954, 0.7696876778836259, 0.7520425189239819, 0.7337247090972954, 0.7783182713286083, 0.7800376567913616, 0.7062998121583062, 0.7084206330116796, 0.40287865485407187, 0.8524294795805094, 0.8145133596990698, 0.773060367624262, 0.7960759727088327, 0.707974075222371, 0.7968681411092666, 0.7937460619288126, 0.799543329795046, 0.8123270024334099, 0.7801370185718809, 0.8301729307646994, 0.7842731904674095, 0.8347909844615803, 0.7356535263176629, 0.8181898354192393, 0.8736199353413496, 0.8303059309873391]}, {\"categories\": [\"0\", \"1\", \"2\", \"3\", \"4\", \"5\", \"6\", \"7\", \"8\", \"9\", \"10\", \"11\", \"12\", \"13\", \"14\", \"15\", \"16\", \"17\", \"18\", \"19\", \"20\", \"21\", \"22\", \"23\", \"24\", \"25\", \"26\", \"27\", \"28\", \"29\", \"30\", \"31\", \"32\", \"33\", \"34\", \"35\", \"36\", \"37\", \"38\", \"39\", \"40\", \"41\", \"42\", \"43\", \"44\", \"45\", \"46\", \"47\", \"48\", \"49\", \"50\", \"53\", \"54\"], \"mode\": \"lines\", \"name\": \"f1_score_macro_max\", \"stepped\": true, \"type\": \"scatter\", \"data\": [0.7627292073207189, 0.8203112666636694, 0.8203112666636694, 0.8203112666636694, 0.8203112666636694, 0.8203112666636694, 0.8203112666636694, 0.8203112666636694, 0.8203112666636694, 0.8203112666636694, 0.8203112666636694, 0.8238622790450298, 0.8238622790450298, 0.8238622790450298, 0.8238622790450298, 0.8238622790450298, 0.8238622790450298, 0.8238622790450298, 0.8238622790450298, 0.8238622790450298, 0.8297186147186147, 0.8297186147186147, 0.8297186147186147, 0.8297186147186147, 0.8404528713087066, 0.8404528713087066, 0.8404528713087066, 0.8404528713087066, 0.8404528713087066, 0.8404528713087066, 0.8404528713087066, 0.8404528713087066, 0.8404528713087066, 0.8404528713087066, 0.8404528713087066, 0.8404528713087066, 0.8524294795805094, 0.8524294795805094, 0.8524294795805094, 0.8524294795805094, 0.8524294795805094, 0.8524294795805094, 0.8524294795805094, 0.8524294795805094, 0.8524294795805094, 0.8524294795805094, 0.8524294795805094, 0.8524294795805094, 0.8524294795805094, 0.8524294795805094, 0.8524294795805094, 0.8736199353413496, 0.8736199353413496]}], \"average_precision_score_macro\": [{\"categories\": [\"0\", \"1\", \"2\", \"3\", \"4\", \"5\", \"6\", \"7\", \"8\", \"9\", \"10\", \"11\", \"12\", \"13\", \"14\", \"15\", \"16\", \"17\", \"18\", \"19\", \"20\", \"21\", \"22\", \"23\", \"24\", \"25\", \"26\", \"27\", \"28\", \"29\", \"30\", \"31\", \"32\", \"33\", \"34\", \"35\", \"36\", \"37\", \"38\", \"39\", \"40\", \"41\", \"42\", \"43\", \"44\", \"45\", \"46\", \"47\", \"48\", \"49\", \"50\", \"53\", \"54\"], \"mode\": \"markers\", \"name\": \"average_precision_score_macro\", \"stepped\": false, \"type\": \"scatter\", \"data\": [0.8782193248019317, 0.8931258760355274, 0.8884663715060794, 0.866177260955528, 0.8949777699189576, 0.8885607854677172, 0.8063501788376801, 0.8098221912625345, 0.8098221912625345, 0.9042453280629342, 0.887342120782532, 0.8837874355786237, 0.8688417016853534, 0.897910551689787, 0.8456557568959232, 0.8889810988153279, 0.8700143697800808, 0.8958187174783454, 0.9019915023699877, 0.8555542582879007, 0.8848105370467996, 0.8516723573111833, 0.8487125261387423, 0.893558081430012, 0.9015011129753647, 0.8610341329524145, 0.855696772487088, 0.8856161115234343, 0.8405923795222708, 0.8219760659941404, 0.8204699225381351, 0.8477688423315015, 0.858490415497695, 0.8886413779410368, 0.8936990421081793, 0.49342532739591566, 0.8975923800378964, 0.9074708115888767, 0.8942466544118084, 0.8933330521795236, 0.8807057568470291, 0.8979942439831305, 0.8851887178998317, 0.8946358676032362, 0.9038651252299671, 0.84120365461131, 0.8960653029530512, 0.8903527546338419, 0.915692967884868, 0.8694991130743389, 0.8852192846999749, 0.9020510767382299, 0.9037882891991323]}, {\"categories\": [\"0\", \"1\", \"2\", \"3\", \"4\", \"5\", \"6\", \"7\", \"8\", \"9\", \"10\", \"11\", \"12\", \"13\", \"14\", \"15\", \"16\", \"17\", \"18\", \"19\", \"20\", \"21\", \"22\", \"23\", \"24\", \"25\", \"26\", \"27\", \"28\", \"29\", \"30\", \"31\", \"32\", \"33\", \"34\", \"35\", \"36\", \"37\", \"38\", \"39\", \"40\", \"41\", \"42\", \"43\", \"44\", \"45\", \"46\", \"47\", \"48\", \"49\", \"50\", \"53\", \"54\"], \"mode\": \"lines\", \"name\": \"average_precision_score_macro_max\", \"stepped\": true, \"type\": \"scatter\", \"data\": [0.8782193248019317, 0.8931258760355274, 0.8931258760355274, 0.8931258760355274, 0.8949777699189576, 0.8949777699189576, 0.8949777699189576, 0.8949777699189576, 0.8949777699189576, 0.9042453280629342, 0.9042453280629342, 0.9042453280629342, 0.9042453280629342, 0.9042453280629342, 0.9042453280629342, 0.9042453280629342, 0.9042453280629342, 0.9042453280629342, 0.9042453280629342, 0.9042453280629342, 0.9042453280629342, 0.9042453280629342, 0.9042453280629342, 0.9042453280629342, 0.9042453280629342, 0.9042453280629342, 0.9042453280629342, 0.9042453280629342, 0.9042453280629342, 0.9042453280629342, 0.9042453280629342, 0.9042453280629342, 0.9042453280629342, 0.9042453280629342, 0.9042453280629342, 0.9042453280629342, 0.9042453280629342, 0.9074708115888767, 0.9074708115888767, 0.9074708115888767, 0.9074708115888767, 0.9074708115888767, 0.9074708115888767, 0.9074708115888767, 0.9074708115888767, 0.9074708115888767, 0.9074708115888767, 0.9074708115888767, 0.915692967884868, 0.915692967884868, 0.915692967884868, 0.915692967884868, 0.915692967884868]}], \"recall_score_weighted\": [{\"categories\": [\"0\", \"1\", \"2\", \"3\", \"4\", \"5\", \"6\", \"7\", \"8\", \"9\", \"10\", \"11\", \"12\", \"13\", \"14\", \"15\", \"16\", \"17\", \"18\", \"19\", \"20\", \"21\", \"22\", \"23\", \"24\", \"25\", \"26\", \"27\", \"28\", \"29\", \"30\", \"31\", \"32\", \"33\", \"34\", \"35\", \"36\", \"37\", \"38\", \"39\", \"40\", \"41\", \"42\", \"43\", \"44\", \"45\", \"46\", \"47\", \"48\", \"49\", \"50\", \"53\", \"54\"], \"mode\": \"markers\", \"name\": \"recall_score_weighted\", \"stepped\": false, \"type\": \"scatter\", \"data\": [0.7949999999999999, 0.845, 0.8350000000000002, 0.8100000000000002, 0.8400000000000001, 0.8099999999999999, 0.7899999999999999, 0.7150000000000001, 0.7150000000000001, 0.8300000000000001, 0.835, 0.85, 0.7950000000000002, 0.8300000000000001, 0.805, 0.825, 0.6950000000000001, 0.845, 0.835, 0.8400000000000001, 0.8550000000000001, 0.8200000000000001, 0.835, 0.835, 0.8649999999999999, 0.675, 0.8099999999999999, 0.835, 0.8200000000000001, 0.78, 0.78, 0.8, 0.8150000000000001, 0.7899999999999999, 0.7949999999999999, 0.675, 0.8700000000000001, 0.8450000000000001, 0.8099999999999999, 0.8299999999999998, 0.79, 0.8300000000000001, 0.8300000000000001, 0.8400000000000001, 0.8400000000000001, 0.825, 0.85, 0.8099999999999999, 0.85, 0.8099999999999999, 0.8450000000000001, 0.89, 0.8550000000000001]}, {\"categories\": [\"0\", \"1\", \"2\", \"3\", \"4\", \"5\", \"6\", \"7\", \"8\", \"9\", \"10\", \"11\", \"12\", \"13\", \"14\", \"15\", \"16\", \"17\", \"18\", \"19\", \"20\", \"21\", \"22\", \"23\", \"24\", \"25\", \"26\", \"27\", \"28\", \"29\", \"30\", \"31\", \"32\", \"33\", \"34\", \"35\", \"36\", \"37\", \"38\", \"39\", \"40\", \"41\", \"42\", \"43\", \"44\", \"45\", \"46\", \"47\", \"48\", \"49\", \"50\", \"53\", \"54\"], \"mode\": \"lines\", \"name\": \"recall_score_weighted_max\", \"stepped\": true, \"type\": \"scatter\", \"data\": [0.7949999999999999, 0.845, 0.845, 0.845, 0.845, 0.845, 0.845, 0.845, 0.845, 0.845, 0.845, 0.85, 0.85, 0.85, 0.85, 0.85, 0.85, 0.85, 0.85, 0.85, 0.8550000000000001, 0.8550000000000001, 0.8550000000000001, 0.8550000000000001, 0.8649999999999999, 0.8649999999999999, 0.8649999999999999, 0.8649999999999999, 0.8649999999999999, 0.8649999999999999, 0.8649999999999999, 0.8649999999999999, 0.8649999999999999, 0.8649999999999999, 0.8649999999999999, 0.8649999999999999, 0.8700000000000001, 0.8700000000000001, 0.8700000000000001, 0.8700000000000001, 0.8700000000000001, 0.8700000000000001, 0.8700000000000001, 0.8700000000000001, 0.8700000000000001, 0.8700000000000001, 0.8700000000000001, 0.8700000000000001, 0.8700000000000001, 0.8700000000000001, 0.8700000000000001, 0.89, 0.89]}], \"AUC_micro\": [{\"categories\": [\"0\", \"1\", \"2\", \"3\", \"4\", \"5\", \"6\", \"7\", \"8\", \"9\", \"10\", \"11\", \"12\", \"13\", \"14\", \"15\", \"16\", \"17\", \"18\", \"19\", \"20\", \"21\", \"22\", \"23\", \"24\", \"25\", \"26\", \"27\", \"28\", \"29\", \"30\", \"31\", \"32\", \"33\", \"34\", \"35\", \"36\", \"37\", \"38\", \"39\", \"40\", \"41\", \"42\", \"43\", \"44\", \"45\", \"46\", \"47\", \"48\", \"49\", \"50\", \"53\", \"54\"], \"mode\": \"markers\", \"name\": \"AUC_micro\", \"stepped\": false, \"type\": \"scatter\", \"data\": [0.8921250000000001, 0.9088750000000001, 0.9102499999999999, 0.9015000000000001, 0.9145, 0.8995, 0.8595, 0.8436875, 0.8429375, 0.91625, 0.905625, 0.908, 0.883125, 0.9065, 0.8721249999999999, 0.907625, 0.8396250000000001, 0.905625, 0.911875, 0.9, 0.9043749999999999, 0.8864999999999998, 0.882875, 0.904125, 0.919125, 0.843875, 0.8885, 0.9026249999999999, 0.8901249999999999, 0.8552500000000001, 0.8619999999999999, 0.8634999999999999, 0.891375, 0.8787500000000001, 0.887875, 0.66675, 0.91475, 0.9168749999999999, 0.9094999999999999, 0.9084999999999999, 0.8835000000000001, 0.9087500000000001, 0.9084999999999999, 0.916, 0.9182499999999999, 0.8776250000000001, 0.9084999999999999, 0.89925, 0.9252500000000001, 0.881875, 0.9026250000000001, 0.9184999999999999, 0.916625]}, {\"categories\": [\"0\", \"1\", \"2\", \"3\", \"4\", \"5\", \"6\", \"7\", \"8\", \"9\", \"10\", \"11\", \"12\", \"13\", \"14\", \"15\", \"16\", \"17\", \"18\", \"19\", \"20\", \"21\", \"22\", \"23\", \"24\", \"25\", \"26\", \"27\", \"28\", \"29\", \"30\", \"31\", \"32\", \"33\", \"34\", \"35\", \"36\", \"37\", \"38\", \"39\", \"40\", \"41\", \"42\", \"43\", \"44\", \"45\", \"46\", \"47\", \"48\", \"49\", \"50\", \"53\", \"54\"], \"mode\": \"lines\", \"name\": \"AUC_micro_max\", \"stepped\": true, \"type\": \"scatter\", \"data\": [0.8921250000000001, 0.9088750000000001, 0.9102499999999999, 0.9102499999999999, 0.9145, 0.9145, 0.9145, 0.9145, 0.9145, 0.91625, 0.91625, 0.91625, 0.91625, 0.91625, 0.91625, 0.91625, 0.91625, 0.91625, 0.91625, 0.91625, 0.91625, 0.91625, 0.91625, 0.91625, 0.919125, 0.919125, 0.919125, 0.919125, 0.919125, 0.919125, 0.919125, 0.919125, 0.919125, 0.919125, 0.919125, 0.919125, 0.919125, 0.919125, 0.919125, 0.919125, 0.919125, 0.919125, 0.919125, 0.919125, 0.919125, 0.919125, 0.919125, 0.919125, 0.9252500000000001, 0.9252500000000001, 0.9252500000000001, 0.9252500000000001, 0.9252500000000001]}]}, \"metricName\": null, \"primaryMetricName\": \"accuracy\", \"showLegend\": false}, \"run_metrics\": [{\"name\": \"experiment_status\", \"run_id\": \"AutoML_665cb8fb-2826-4b41-a971-2e6ac8178cfc\", \"categories\": [0, 1, 2, 3, 4, 5, 6, 7, 8, 9, 10, 11, 12, 13], \"series\": [{\"data\": [\"DatasetEvaluation\", \"FeaturesGeneration\", \"DatasetFeaturization\", \"DatasetFeaturizationCompleted\", \"DatasetCrossValidationSplit\", \"ModelSelection\", \"BestRunExplainModel\", \"ModelExplanationDataSetSetup\", \"PickSurrogateModel\", \"EngineeredFeatureExplanations\", \"EngineeredFeatureExplanations\", \"RawFeaturesExplanations\", \"RawFeaturesExplanations\", \"BestRunExplainModel\"]}]}, {\"name\": \"experiment_status_description\", \"run_id\": \"AutoML_665cb8fb-2826-4b41-a971-2e6ac8178cfc\", \"categories\": [0, 1, 2, 3, 4, 5, 6, 7, 8, 9, 10, 11, 12, 13], \"series\": [{\"data\": [\"Gathering dataset statistics.\", \"Generating features for the dataset.\", \"Beginning to fit featurizers and featurize the dataset.\", \"Completed fit featurizers and featurizing the dataset.\", \"Generating individually featurized CV splits.\", \"Beginning model selection.\", \"Best run model explanations started\", \"Model explanations data setup completed\", \"Choosing LightGBM as the surrogate model for explanations\", \"Computation of engineered features started\", \"Computation of engineered features completed\", \"Computation of raw features started\", \"Computation of raw features completed\", \"Best run model explanations completed\"]}]}, {\"name\": \"balanced_accuracy\", \"run_id\": \"AutoML_665cb8fb-2826-4b41-a971-2e6ac8178cfc\", \"categories\": [0], \"series\": [{\"data\": [0.8672161172161171]}]}, {\"name\": \"log_loss\", \"run_id\": \"AutoML_665cb8fb-2826-4b41-a971-2e6ac8178cfc\", \"categories\": [0], \"series\": [{\"data\": [0.3772695009957162]}]}, {\"name\": \"f1_score_macro\", \"run_id\": \"AutoML_665cb8fb-2826-4b41-a971-2e6ac8178cfc\", \"categories\": [0], \"series\": [{\"data\": [0.8736199353413496]}]}, {\"name\": \"average_precision_score_weighted\", \"run_id\": \"AutoML_665cb8fb-2826-4b41-a971-2e6ac8178cfc\", \"categories\": [0], \"series\": [{\"data\": [0.9192310678704205]}]}, {\"name\": \"average_precision_score_micro\", \"run_id\": \"AutoML_665cb8fb-2826-4b41-a971-2e6ac8178cfc\", \"categories\": [0], \"series\": [{\"data\": [0.9187092096434253]}]}, {\"name\": \"average_precision_score_macro\", \"run_id\": \"AutoML_665cb8fb-2826-4b41-a971-2e6ac8178cfc\", \"categories\": [0], \"series\": [{\"data\": [0.9020510767382299]}]}, {\"name\": \"norm_macro_recall\", \"run_id\": \"AutoML_665cb8fb-2826-4b41-a971-2e6ac8178cfc\", \"categories\": [0], \"series\": [{\"data\": [0.7344322344322344]}]}, {\"name\": \"recall_score_micro\", \"run_id\": \"AutoML_665cb8fb-2826-4b41-a971-2e6ac8178cfc\", \"categories\": [0], \"series\": [{\"data\": [0.89]}]}, {\"name\": \"recall_score_macro\", \"run_id\": \"AutoML_665cb8fb-2826-4b41-a971-2e6ac8178cfc\", \"categories\": [0], \"series\": [{\"data\": [0.8672161172161171]}]}, {\"name\": \"precision_score_weighted\", \"run_id\": \"AutoML_665cb8fb-2826-4b41-a971-2e6ac8178cfc\", \"categories\": [0], \"series\": [{\"data\": [0.8979478414615991]}]}, {\"name\": \"f1_score_micro\", \"run_id\": \"AutoML_665cb8fb-2826-4b41-a971-2e6ac8178cfc\", \"categories\": [0], \"series\": [{\"data\": [0.89]}]}, {\"name\": \"AUC_weighted\", \"run_id\": \"AutoML_665cb8fb-2826-4b41-a971-2e6ac8178cfc\", \"categories\": [0], \"series\": [{\"data\": [0.9082264957264957]}]}, {\"name\": \"precision_score_micro\", \"run_id\": \"AutoML_665cb8fb-2826-4b41-a971-2e6ac8178cfc\", \"categories\": [0], \"series\": [{\"data\": [0.89]}]}, {\"name\": \"weighted_accuracy\", \"run_id\": \"AutoML_665cb8fb-2826-4b41-a971-2e6ac8178cfc\", \"categories\": [0], \"series\": [{\"data\": [0.9077487037523717]}]}, {\"name\": \"f1_score_weighted\", \"run_id\": \"AutoML_665cb8fb-2826-4b41-a971-2e6ac8178cfc\", \"categories\": [0], \"series\": [{\"data\": [0.8891644340994013]}]}, {\"name\": \"recall_score_weighted\", \"run_id\": \"AutoML_665cb8fb-2826-4b41-a971-2e6ac8178cfc\", \"categories\": [0], \"series\": [{\"data\": [0.89]}]}, {\"name\": \"AUC_macro\", \"run_id\": \"AutoML_665cb8fb-2826-4b41-a971-2e6ac8178cfc\", \"categories\": [0], \"series\": [{\"data\": [0.9082264957264957]}]}, {\"name\": \"matthews_correlation\", \"run_id\": \"AutoML_665cb8fb-2826-4b41-a971-2e6ac8178cfc\", \"categories\": [0], \"series\": [{\"data\": [0.7578833083374518]}]}, {\"name\": \"precision_score_macro\", \"run_id\": \"AutoML_665cb8fb-2826-4b41-a971-2e6ac8178cfc\", \"categories\": [0], \"series\": [{\"data\": [0.8920874584874939]}]}, {\"name\": \"accuracy\", \"run_id\": \"AutoML_665cb8fb-2826-4b41-a971-2e6ac8178cfc\", \"categories\": [0], \"series\": [{\"data\": [0.89]}]}, {\"name\": \"AUC_micro\", \"run_id\": \"AutoML_665cb8fb-2826-4b41-a971-2e6ac8178cfc\", \"categories\": [0], \"series\": [{\"data\": [0.9184999999999999]}]}], \"run_logs\": \"\\nRun is completed.\", \"graph\": {}, \"widget_settings\": {\"childWidgetDisplay\": \"popup\", \"send_telemetry\": false, \"log_level\": \"INFO\", \"sdk_version\": \"1.26.0\"}, \"loading\": false}"
     },
     "metadata": {},
     "output_type": "display_data"
    },
    {
     "data": {
      "text/html": [
       "<table style=\"width:100%\"><tr><th>Experiment</th><th>Id</th><th>Type</th><th>Status</th><th>Details Page</th><th>Docs Page</th></tr><tr><td>udacity-azure-capstone-project</td><td>AutoML_665cb8fb-2826-4b41-a971-2e6ac8178cfc</td><td>automl</td><td>Completed</td><td><a href=\"https://ml.azure.com/runs/AutoML_665cb8fb-2826-4b41-a971-2e6ac8178cfc?wsid=/subscriptions/9a7511b8-150f-4a58-8528-3e7d50216c31/resourcegroups/aml-quickstarts-143143/workspaces/quick-starts-ws-143143&amp;tid=660b3398-b80e-49d2-bc5b-ac1dc93b5254\" target=\"_blank\" rel=\"noopener\">Link to Azure Machine Learning studio</a></td><td><a href=\"https://docs.microsoft.com/en-us/python/api/overview/azure/ml/intro?view=azure-ml-py\" target=\"_blank\" rel=\"noopener\">Link to Documentation</a></td></tr></table>"
      ],
      "text/plain": [
       "<IPython.core.display.HTML object>"
      ]
     },
     "metadata": {},
     "output_type": "display_data"
    },
    {
     "name": "stdout",
     "output_type": "stream",
     "text": [
      "\n",
      "\n",
      "****************************************************************************************************\n",
      "DATA GUARDRAILS: \n",
      "\n",
      "TYPE:         Class balancing detection\n",
      "STATUS:       PASSED\n",
      "DESCRIPTION:  Your inputs were analyzed, and all classes are balanced in your training data.\n",
      "              Learn more about imbalanced data: https://aka.ms/AutomatedMLImbalancedData\n",
      "\n",
      "****************************************************************************************************\n",
      "\n",
      "TYPE:         Missing feature values imputation\n",
      "STATUS:       PASSED\n",
      "DESCRIPTION:  No feature missing values were detected in the training data.\n",
      "              Learn more about missing value imputation: https://aka.ms/AutomatedMLFeaturization\n",
      "\n",
      "****************************************************************************************************\n",
      "\n",
      "TYPE:         High cardinality feature detection\n",
      "STATUS:       PASSED\n",
      "DESCRIPTION:  Your inputs were analyzed, and no high cardinality features were detected.\n",
      "              Learn more about high cardinality feature handling: https://aka.ms/AutomatedMLFeaturization\n",
      "\n",
      "****************************************************************************************************\n",
      "\n",
      "****************************************************************************************************\n",
      "ITERATION: The iteration being evaluated.\n",
      "PIPELINE: A summary description of the pipeline being evaluated.\n",
      "DURATION: Time taken for the current iteration.\n",
      "METRIC: The result of computing score on the fitted pipeline.\n",
      "BEST: The best observed score thus far.\n",
      "****************************************************************************************************\n",
      "\n",
      " ITERATION   PIPELINE                                       DURATION      METRIC      BEST\n",
      "         0   MaxAbsScaler LightGBM                          0:00:43       0.7950    0.7950\n",
      "         1   MaxAbsScaler XGBoostClassifier                 0:00:45       0.8450    0.8450\n",
      "         2   MinMaxScaler RandomForest                      0:03:15       0.8350    0.8450\n",
      "         3   MinMaxScaler RandomForest                      0:00:45       0.8100    0.8450\n",
      "         4   MinMaxScaler RandomForest                      0:05:19       0.8400    0.8450\n",
      "         5   MaxAbsScaler LightGBM                          0:02:05       0.8100    0.8450\n",
      "         6   TruncatedSVDWrapper LightGBM                   0:00:45       0.7900    0.8450\n",
      "         7   MinMaxScaler SVM                               0:00:53       0.7150    0.8450\n",
      "        10   StandardScalerWrapper LightGBM                 0:00:41       0.8350    0.8450\n",
      "        11   RobustScaler RandomForest                      0:00:46       0.8500    0.8500\n",
      "         8   MinMaxScaler SVM                               0:00:51       0.7150    0.8500\n",
      "         9   MaxAbsScaler LightGBM                          0:00:50       0.8300    0.8500\n",
      "        12   MinMaxScaler LightGBM                          0:00:48       0.7950    0.8500\n",
      "        13   MaxAbsScaler LightGBM                          0:00:44       0.8300    0.8500\n",
      "        14   StandardScalerWrapper LogisticRegression       0:00:43       0.8050    0.8500\n",
      "        15   MinMaxScaler LightGBM                          0:00:50       0.8250    0.8500\n",
      "        16   MaxAbsScaler LightGBM                          0:00:46       0.6950    0.8500\n",
      "        17   MaxAbsScaler ExtremeRandomTrees                0:00:51       0.8450    0.8500\n",
      "        18   MinMaxScaler LightGBM                          0:00:44       0.8350    0.8500\n",
      "        19   StandardScalerWrapper XGBoostClassifier        0:00:51       0.8400    0.8500\n",
      "        20   MinMaxScaler LightGBM                          0:00:44       0.8550    0.8550\n",
      "        21   SparseNormalizer XGBoostClassifier             0:00:46       0.8200    0.8550\n",
      "        22   SparseNormalizer LightGBM                      0:00:46       0.8350    0.8550\n",
      "        23   MinMaxScaler LightGBM                          0:00:41       0.8350    0.8550\n",
      "        24   StandardScalerWrapper XGBoostClassifier        0:00:45       0.8650    0.8650\n",
      "        25   StandardScalerWrapper LightGBM                 0:00:46       0.6750    0.8650\n",
      "        26   SparseNormalizer XGBoostClassifier             0:00:45       0.8100    0.8650\n",
      "        27   MaxAbsScaler ExtremeRandomTrees                0:01:00       0.8350    0.8650\n",
      "        28   MinMaxScaler LightGBM                          0:00:44       0.8200    0.8650\n",
      "        29   SparseNormalizer ExtremeRandomTrees            0:00:49       0.7800    0.8650\n",
      "        30   SparseNormalizer XGBoostClassifier             0:00:42       0.7800    0.8650\n",
      "        31   SparseNormalizer RandomForest                  0:00:43       0.8000    0.8650\n",
      "        32   SparseNormalizer XGBoostClassifier             0:00:43       0.8150    0.8650\n",
      "        33   RobustScaler ExtremeRandomTrees                0:00:41       0.7900    0.8650\n",
      "        34   MaxAbsScaler LightGBM                          0:00:51       0.7950    0.8650\n",
      "        35   PCA XGBoostClassifier                          0:00:50       0.6750    0.8650\n",
      "        36   MaxAbsScaler LightGBM                          0:00:52       0.8700    0.8700\n",
      "        37   StandardScalerWrapper GradientBoosting         0:00:54       0.8450    0.8700\n",
      "        38   MaxAbsScaler LightGBM                          0:00:46       0.8100    0.8700\n",
      "        39   MinMaxScaler GradientBoosting                  0:00:45       0.8300    0.8700\n",
      "        40   StandardScalerWrapper LightGBM                 0:00:48       0.7900    0.8700\n",
      "        41   RobustScaler LightGBM                          0:00:42       0.8300    0.8700\n",
      "        42   RobustScaler ExtremeRandomTrees                0:00:49       0.8300    0.8700\n",
      "        43   RobustScaler ExtremeRandomTrees                0:00:48       0.8400    0.8700\n",
      "        44   MinMaxScaler GradientBoosting                  0:01:07       0.8400    0.8700\n",
      "        45   SparseNormalizer LightGBM                      0:00:40       0.8250    0.8700\n",
      "        46   MinMaxScaler LightGBM                          0:00:47       0.8500    0.8700\n",
      "        47   RobustScaler ExtremeRandomTrees                0:00:38       0.8100    0.8700\n",
      "        48   StandardScalerWrapper RandomForest             0:00:40       0.8500    0.8700\n",
      "        49   MinMaxScaler LightGBM                          0:00:43       0.8100    0.8700\n",
      "        50   MaxAbsScaler ExtremeRandomTrees                0:00:50       0.8450    0.8700\n",
      "        51                                                  0:00:16          nan    0.8700\n",
      "        52                                                  0:00:14          nan    0.8700\n",
      "        53    VotingEnsemble                                0:01:08       0.8900    0.8900\n",
      "        54    StackEnsemble                                 0:01:24       0.8550    0.8900\n"
     ]
    },
    {
     "data": {
      "text/plain": [
       "{'runId': 'AutoML_665cb8fb-2826-4b41-a971-2e6ac8178cfc',\n",
       " 'target': 'Saturn-AI',\n",
       " 'status': 'Completed',\n",
       " 'startTimeUtc': '2021-04-19T11:09:45.521741Z',\n",
       " 'endTimeUtc': '2021-04-19T11:39:14.406235Z',\n",
       " 'properties': {'num_iterations': '1000',\n",
       "  'training_type': 'TrainFull',\n",
       "  'acquisition_function': 'EI',\n",
       "  'primary_metric': 'accuracy',\n",
       "  'train_split': '0',\n",
       "  'acquisition_parameter': '0',\n",
       "  'num_cross_validation': '5',\n",
       "  'target': 'Saturn-AI',\n",
       "  'AMLSettingsJsonString': '{\"path\":null,\"name\":\"udacity-azure-capstone-project\",\"subscription_id\":\"9a7511b8-150f-4a58-8528-3e7d50216c31\",\"resource_group\":\"aml-quickstarts-143143\",\"workspace_name\":\"quick-starts-ws-143143\",\"region\":\"southcentralus\",\"compute_target\":\"Saturn-AI\",\"spark_service\":null,\"azure_service\":\"remote\",\"many_models\":false,\"pipeline_fetch_max_batch_size\":1,\"enable_batch_run\":false,\"enable_run_restructure\":false,\"iterations\":1000,\"primary_metric\":\"accuracy\",\"task_type\":\"classification\",\"data_script\":null,\"test_size\":0.0,\"validation_size\":0.0,\"n_cross_validations\":5,\"y_min\":null,\"y_max\":null,\"num_classes\":null,\"featurization\":\"auto\",\"_ignore_package_version_incompatibilities\":false,\"is_timeseries\":false,\"max_cores_per_iteration\":1,\"max_concurrent_iterations\":4,\"iteration_timeout_minutes\":null,\"mem_in_mb\":null,\"enforce_time_on_windows\":true,\"experiment_timeout_minutes\":30,\"experiment_exit_score\":null,\"whitelist_models\":null,\"blacklist_algos\":[\"TensorFlowLinearClassifier\",\"TensorFlowDNN\"],\"supported_models\":[\"TensorFlowDNN\",\"BernoulliNaiveBayes\",\"MultinomialNaiveBayes\",\"LinearSVM\",\"RandomForest\",\"XGBoostClassifier\",\"DecisionTree\",\"KNN\",\"SGD\",\"AveragedPerceptronClassifier\",\"GradientBoosting\",\"LogisticRegression\",\"SVM\",\"LightGBM\",\"ExtremeRandomTrees\",\"TensorFlowLinearClassifier\"],\"private_models\":[],\"auto_blacklist\":true,\"blacklist_samples_reached\":false,\"exclude_nan_labels\":true,\"verbosity\":20,\"_debug_log\":\"azureml_automl.log\",\"show_warnings\":false,\"model_explainability\":true,\"service_url\":null,\"sdk_url\":null,\"sdk_packages\":null,\"enable_onnx_compatible_models\":false,\"enable_split_onnx_featurizer_estimator_models\":false,\"vm_type\":\"STANDARD_D2_V2\",\"telemetry_verbosity\":20,\"send_telemetry\":true,\"enable_dnn\":false,\"scenario\":\"SDK-1.13.0\",\"environment_label\":null,\"save_mlflow\":false,\"force_text_dnn\":false,\"enable_feature_sweeping\":true,\"enable_early_stopping\":true,\"early_stopping_n_iters\":10,\"metrics\":null,\"enable_metric_confidence\":false,\"enable_ensembling\":true,\"enable_stack_ensembling\":true,\"ensemble_iterations\":15,\"enable_tf\":false,\"enable_subsampling\":null,\"subsample_seed\":null,\"enable_nimbusml\":false,\"enable_streaming\":false,\"force_streaming\":false,\"track_child_runs\":true,\"allowed_private_models\":[],\"label_column_name\":\"DEATH_EVENT\",\"weight_column_name\":null,\"cv_split_column_names\":null,\"enable_local_managed\":false,\"_local_managed_run_id\":null,\"cost_mode\":1,\"lag_length\":0,\"metric_operation\":\"maximize\",\"preprocess\":true}',\n",
       "  'DataPrepJsonString': '{\\\\\"training_data\\\\\": {\\\\\"datasetId\\\\\": \\\\\"bf26633b-deb0-48a4-994e-02e6eab6be6c\\\\\"}, \\\\\"datasets\\\\\": 0}',\n",
       "  'EnableSubsampling': None,\n",
       "  'runTemplate': 'AutoML',\n",
       "  'azureml.runsource': 'automl',\n",
       "  'display_task_type': 'classification',\n",
       "  'dependencies_versions': '{\"azureml-widgets\": \"1.26.0\", \"azureml-train\": \"1.26.0\", \"azureml-train-restclients-hyperdrive\": \"1.26.0\", \"azureml-train-core\": \"1.26.0\", \"azureml-train-automl-client\": \"1.26.0\", \"azureml-telemetry\": \"1.26.0\", \"azureml-sdk\": \"1.26.0\", \"azureml-pipeline\": \"1.26.0\", \"azureml-pipeline-steps\": \"1.26.0\", \"azureml-pipeline-core\": \"1.26.0\", \"azureml-dataset-runtime\": \"1.26.0\", \"azureml-dataprep\": \"2.13.2\", \"azureml-dataprep-rslex\": \"1.11.2\", \"azureml-dataprep-native\": \"32.0.0\", \"azureml-core\": \"1.26.0\", \"azureml-contrib-services\": \"1.26.0\", \"azureml-contrib-server\": \"1.26.0\", \"azureml-contrib-pipeline-steps\": \"1.26.0\", \"azureml-contrib-notebook\": \"1.26.0\", \"azureml-automl-core\": \"1.26.0\"}',\n",
       "  '_aml_system_scenario_identification': 'Remote.Parent',\n",
       "  'ClientType': 'SDK',\n",
       "  'environment_cpu_name': 'AzureML-AutoML',\n",
       "  'environment_cpu_label': 'prod',\n",
       "  'environment_gpu_name': 'AzureML-AutoML-GPU',\n",
       "  'environment_gpu_label': 'prod',\n",
       "  'root_attribution': 'automl',\n",
       "  'attribution': 'AutoML',\n",
       "  'Orchestrator': 'AutoML',\n",
       "  'CancelUri': 'https://southcentralus.experiments.azureml.net/jasmine/v1.0/subscriptions/9a7511b8-150f-4a58-8528-3e7d50216c31/resourceGroups/aml-quickstarts-143143/providers/Microsoft.MachineLearningServices/workspaces/quick-starts-ws-143143/experimentids/da815bf2-8274-4573-8033-679dd7d02a67/cancel/AutoML_665cb8fb-2826-4b41-a971-2e6ac8178cfc',\n",
       "  'ClientSdkVersion': '1.26.0',\n",
       "  'snapshotId': '00000000-0000-0000-0000-000000000000',\n",
       "  'SetupRunId': 'AutoML_665cb8fb-2826-4b41-a971-2e6ac8178cfc_setup',\n",
       "  'SetupRunContainerId': 'dcid.AutoML_665cb8fb-2826-4b41-a971-2e6ac8178cfc_setup',\n",
       "  'FeaturizationRunJsonPath': 'featurizer_container.json',\n",
       "  'FeaturizationRunId': 'AutoML_665cb8fb-2826-4b41-a971-2e6ac8178cfc_featurize',\n",
       "  'ProblemInfoJsonString': '{\"dataset_num_categorical\": 0, \"is_sparse\": false, \"subsampling\": false, \"dataset_classes\": 2, \"dataset_features\": 12, \"dataset_samples\": 200, \"single_frequency_class_detected\": false}',\n",
       "  'ModelExplainRunId': 'AutoML_665cb8fb-2826-4b41-a971-2e6ac8178cfc_ModelExplain',\n",
       "  'azureml.git.repository_uri': 'https://github.com/bhuiyanmobasshir94/Azure-Machine-Learning-Capstone-Project.git',\n",
       "  'mlflow.source.git.repoURL': 'https://github.com/bhuiyanmobasshir94/Azure-Machine-Learning-Capstone-Project.git',\n",
       "  'azureml.git.branch': 'main',\n",
       "  'mlflow.source.git.branch': 'main',\n",
       "  'azureml.git.commit': 'f7dacfa212dfd565874cf275a248c497e4fb63ef',\n",
       "  'mlflow.source.git.commit': 'f7dacfa212dfd565874cf275a248c497e4fb63ef',\n",
       "  'azureml.git.dirty': 'True'},\n",
       " 'inputDatasets': [{'dataset': {'id': 'bf26633b-deb0-48a4-994e-02e6eab6be6c'}, 'consumptionDetails': {'type': 'RunInput', 'inputName': 'training_data', 'mechanism': 'Direct'}}],\n",
       " 'outputDatasets': [],\n",
       " 'logFiles': {},\n",
       " 'submittedBy': 'ODL_User 143143'}"
      ]
     },
     "execution_count": 13,
     "metadata": {},
     "output_type": "execute_result"
    }
   ],
   "source": [
    "from azureml.widgets import RunDetails\n",
    "\n",
    "RunDetails(remote_run).show()\n",
    "remote_run.wait_for_completion(show_output=True)"
   ]
  },
  {
   "cell_type": "markdown",
   "metadata": {},
   "source": [
    "## Best Model\n",
    "\n",
    "TODO: In the cell below, get the best model from the automl experiments and display all the properties of the model.\n",
    "\n"
   ]
  },
  {
   "cell_type": "code",
   "execution_count": 33,
   "metadata": {
    "gather": {
     "logged": 1598431425670
    },
    "jupyter": {
     "outputs_hidden": false,
     "source_hidden": false
    },
    "nteract": {
     "transient": {
      "deleting": false
     }
    }
   },
   "outputs": [
    {
     "name": "stderr",
     "output_type": "stream",
     "text": [
      "WARNING - The model you attempted to retrieve requires 'azureml-train-automl-runtime' to be installed at '==1.26.0'. Please install 'azureml-train-automl-runtime==1.26.0' (e.g. `pip install azureml-train-automl-runtime==1.26.0`) and then rerun the previous command.\n"
     ]
    }
   ],
   "source": [
    "best_run, model = remote_run.get_output()\n",
    "best_run_tags = best_run.get_tags()\n",
    "best_run_metrics = best_run.get_metrics()"
   ]
  },
  {
   "cell_type": "code",
   "execution_count": 34,
   "metadata": {
    "gather": {
     "logged": 1598431426111
    },
    "jupyter": {
     "outputs_hidden": false,
     "source_hidden": false
    },
    "nteract": {
     "transient": {
      "deleting": false
     }
    }
   },
   "outputs": [
    {
     "data": {
      "text/plain": [
       "{'_aml_system_azureml.automlComponent': 'AutoML',\n",
       " '_aml_system_ComputeTargetStatus': '{\"AllocationState\":\"steady\",\"PreparingNodeCount\":0,\"RunningNodeCount\":2,\"CurrentNodeCount\":4}',\n",
       " 'mlflow.source.type': 'JOB',\n",
       " 'mlflow.source.name': 'automl_driver.py',\n",
       " 'model_explain_run_id': 'AutoML_665cb8fb-2826-4b41-a971-2e6ac8178cfc_ModelExplain',\n",
       " 'model_explanation': 'True'}"
      ]
     },
     "execution_count": 34,
     "metadata": {},
     "output_type": "execute_result"
    }
   ],
   "source": [
    "best_run_tags"
   ]
  },
  {
   "cell_type": "code",
   "execution_count": 35,
   "metadata": {},
   "outputs": [
    {
     "data": {
      "text/plain": [
       "{'AUC_micro': 0.9184999999999999,\n",
       " 'precision_score_macro': 0.8920874584874939,\n",
       " 'average_precision_score_micro': 0.9187092096434253,\n",
       " 'f1_score_macro': 0.8736199353413496,\n",
       " 'average_precision_score_weighted': 0.9192310678704205,\n",
       " 'log_loss': 0.3772695009957162,\n",
       " 'balanced_accuracy': 0.8672161172161171,\n",
       " 'matthews_correlation': 0.7578833083374518,\n",
       " 'accuracy': 0.89,\n",
       " 'AUC_macro': 0.9082264957264957,\n",
       " 'AUC_weighted': 0.9082264957264957,\n",
       " 'f1_score_weighted': 0.8891644340994013,\n",
       " 'norm_macro_recall': 0.7344322344322344,\n",
       " 'recall_score_weighted': 0.89,\n",
       " 'f1_score_micro': 0.89,\n",
       " 'recall_score_macro': 0.8672161172161171,\n",
       " 'average_precision_score_macro': 0.9020510767382299,\n",
       " 'recall_score_micro': 0.89,\n",
       " 'weighted_accuracy': 0.9077487037523717,\n",
       " 'precision_score_weighted': 0.8979478414615991,\n",
       " 'precision_score_micro': 0.89,\n",
       " 'accuracy_table': 'aml://artifactId/ExperimentRun/dcid.AutoML_665cb8fb-2826-4b41-a971-2e6ac8178cfc_53/accuracy_table',\n",
       " 'confusion_matrix': 'aml://artifactId/ExperimentRun/dcid.AutoML_665cb8fb-2826-4b41-a971-2e6ac8178cfc_53/confusion_matrix'}"
      ]
     },
     "execution_count": 35,
     "metadata": {},
     "output_type": "execute_result"
    }
   ],
   "source": [
    "best_run_metrics"
   ]
  },
  {
   "cell_type": "markdown",
   "metadata": {},
   "source": [
    "## Model Deployment\n",
    "\n",
    "Remember you have to deploy only one of the two models you trained.. Perform the steps in the rest of this notebook only if you wish to deploy this model.\n",
    "\n",
    "TODO: In the cell below, register the model, create an inference config and deploy the model as a web service."
   ]
  },
  {
   "cell_type": "code",
   "execution_count": 46,
   "metadata": {
    "gather": {
     "logged": 1598431435189
    },
    "jupyter": {
     "outputs_hidden": false,
     "source_hidden": false
    },
    "nteract": {
     "transient": {
      "deleting": false
     }
    }
   },
   "outputs": [],
   "source": [
    "model = best_run.register_model(model_path='outputs/model.pkl', model_name='automl',\n",
    "                        tags={'Name':'AutoML'},\n",
    "                        properties={'AUC': best_run_metrics['AUC_weighted'], 'Accuracy': best_run_metrics['accuracy']})"
   ]
  },
  {
   "cell_type": "code",
   "execution_count": 47,
   "metadata": {},
   "outputs": [],
   "source": [
    "# best_run.download_file(constants.CONDA_ENV_FILE_PATH, \"env.yml\")\n",
    "# environment = best_run.get_context().get_environment()\n",
    "\n",
    "best_run.download_file(constants.CONDA_ENV_FILE_PATH, 'myenv.yml')\n",
    "myenv = Environment.from_conda_specification(name=\"myenv\", file_path=\"myenv.yml\")\n",
    "\n",
    "best_run.download_file('outputs/scoring_file_v_1_0_0.py', 'scoring.py')"
   ]
  },
  {
   "cell_type": "code",
   "execution_count": 48,
   "metadata": {},
   "outputs": [
    {
     "data": {
      "text/plain": [
       "Model(workspace=Workspace.create(name='quick-starts-ws-143143', subscription_id='9a7511b8-150f-4a58-8528-3e7d50216c31', resource_group='aml-quickstarts-143143'), name=automl, id=automl:3, version=3, tags={'Name': 'AutoML'}, properties={'AUC': '0.9082264957264957', 'Accuracy': '0.89'})"
      ]
     },
     "execution_count": 48,
     "metadata": {},
     "output_type": "execute_result"
    }
   ],
   "source": [
    "model"
   ]
  },
  {
   "cell_type": "code",
   "execution_count": 49,
   "metadata": {},
   "outputs": [
    {
     "name": "stdout",
     "output_type": "stream",
     "text": [
      "Tips: You can try get_logs(): https://aka.ms/debugimage#dockerlog or local deployment: https://aka.ms/debugimage#debug-locally to debug if deployment takes longer than 10 minutes.\n",
      "Running\n",
      "2021-04-19 12:39:02+00:00 Creating Container Registry if not exists..\n",
      "2021-04-19 12:39:14+00:00 Registering the environment.\n",
      "2021-04-19 12:39:15+00:00 Building image..\n",
      "2021-04-19 12:51:22+00:00 Generating deployment configuration.\n",
      "2021-04-19 12:51:24+00:00 Submitting deployment to compute..\n",
      "2021-04-19 12:51:30+00:00 Checking the status of deployment automl-service..\n",
      "2021-04-19 12:57:50+00:00 Checking the status of inference endpoint automl-service.\n",
      "Succeeded\n",
      "ACI service creation operation finished, operation \"Succeeded\"\n"
     ]
    }
   ],
   "source": [
    "# env = Environment.from_conda_specification(name=\"env\",file_path=\"./env.yml\")\n",
    "\n",
    "inference_config = InferenceConfig(entry_script=\"scoring.py\", environment=myenv)\n",
    "\n",
    "aciconfig = AciWebservice.deploy_configuration(cpu_cores = 1, \n",
    "                                               memory_gb = 1)\n",
    "\n",
    "aci_service_name = 'automl-service'\n",
    "aci_service = Model.deploy(ws, aci_service_name, [model], inference_config, aciconfig)\n",
    "aci_service.wait_for_deployment(True)"
   ]
  },
  {
   "cell_type": "code",
   "execution_count": 52,
   "metadata": {},
   "outputs": [],
   "source": [
    "service = aci_service"
   ]
  },
  {
   "cell_type": "code",
   "execution_count": 53,
   "metadata": {},
   "outputs": [],
   "source": [
    "scoring_uri = service.scoring_uri"
   ]
  },
  {
   "cell_type": "code",
   "execution_count": 54,
   "metadata": {},
   "outputs": [
    {
     "name": "stdout",
     "output_type": "stream",
     "text": [
      "Service status: Healthy\n",
      "Scoring URI: http://3365387e-88aa-42c1-92c2-82bf4da73f02.southcentralus.azurecontainer.io/score\n",
      "swagger URI: http://3365387e-88aa-42c1-92c2-82bf4da73f02.southcentralus.azurecontainer.io/swagger.json\n"
     ]
    }
   ],
   "source": [
    "print(f'Service status: {service.state}')\n",
    "print(f'Scoring URI: {service.scoring_uri}')\n",
    "print(f'swagger URI: {service.swagger_uri}')"
   ]
  },
  {
   "cell_type": "markdown",
   "metadata": {
    "collapsed": true,
    "gather": {
     "logged": 1598431657736
    },
    "jupyter": {
     "outputs_hidden": false,
     "source_hidden": false
    },
    "nteract": {
     "transient": {
      "deleting": false
     }
    }
   },
   "source": [
    "TODO: In the cell below, send a request to the web service you deployed to test it."
   ]
  },
  {
   "cell_type": "code",
   "execution_count": 55,
   "metadata": {
    "gather": {
     "logged": 1598432707604
    },
    "jupyter": {
     "outputs_hidden": false,
     "source_hidden": false
    },
    "nteract": {
     "transient": {
      "deleting": false
     }
    }
   },
   "outputs": [
    {
     "name": "stdout",
     "output_type": "stream",
     "text": [
      "{\"result\": [1]}\n"
     ]
    }
   ],
   "source": [
    "import requests\n",
    "import json\n",
    "\n",
    "payload ={\"data\":\n",
    "  [{'age': 36.0,\n",
    "  'anaemia': 0,\n",
    "  'creatinine_phosphokinase': 981,\n",
    "  'diabetes': 1,\n",
    "  'ejection_fraction': 55,\n",
    "  'high_blood_pressure': 1,\n",
    "  'platelets': 368000,\n",
    "  'serum_creatinine': 3.5,\n",
    "  'serum_sodium': 137,\n",
    "  'sex': 1,\n",
    "  'smoking': 0,\n",
    "  'time': 4}]\n",
    "  }\n",
    "\n",
    "input_data = json.dumps(payload)\n",
    "with open(\"data.json\", \"w\") as _f:\n",
    "    _f.write(input_data)\n",
    "headers = {'Content-Type': 'application/json'}\n",
    "resp = requests.post(scoring_uri, input_data, headers=headers)\n",
    "print(resp.json())"
   ]
  },
  {
   "cell_type": "markdown",
   "metadata": {
    "collapsed": true,
    "gather": {
     "logged": 1598432765711
    },
    "jupyter": {
     "outputs_hidden": false,
     "source_hidden": false
    },
    "nteract": {
     "transient": {
      "deleting": false
     }
    }
   },
   "source": [
    "TODO: In the cell below, print the logs of the web service and delete the service"
   ]
  },
  {
   "cell_type": "code",
   "execution_count": 57,
   "metadata": {
    "jupyter": {
     "outputs_hidden": false,
     "source_hidden": false
    },
    "nteract": {
     "transient": {
      "deleting": false
     }
    }
   },
   "outputs": [
    {
     "name": "stdout",
     "output_type": "stream",
     "text": [
      "2021-04-19T12:57:39,715110100+00:00 - gunicorn/run \n",
      "2021-04-19T12:57:39,727638200+00:00 - iot-server/run \n",
      "2021-04-19T12:57:39,727981400+00:00 - rsyslog/run \n",
      "2021-04-19T12:57:39,760052000+00:00 - nginx/run \n",
      "/usr/sbin/nginx: /azureml-envs/azureml_730341d347b7d9e2f1baba033329cdff/lib/libcrypto.so.1.0.0: no version information available (required by /usr/sbin/nginx)\n",
      "rsyslogd: /azureml-envs/azureml_730341d347b7d9e2f1baba033329cdff/lib/libuuid.so.1: no version information available (required by rsyslogd)\n",
      "/usr/sbin/nginx: /azureml-envs/azureml_730341d347b7d9e2f1baba033329cdff/lib/libcrypto.so.1.0.0: no version information available (required by /usr/sbin/nginx)\n",
      "/usr/sbin/nginx: /azureml-envs/azureml_730341d347b7d9e2f1baba033329cdff/lib/libssl.so.1.0.0: no version information available (required by /usr/sbin/nginx)\n",
      "/usr/sbin/nginx: /azureml-envs/azureml_730341d347b7d9e2f1baba033329cdff/lib/libssl.so.1.0.0: no version information available (required by /usr/sbin/nginx)\n",
      "/usr/sbin/nginx: /azureml-envs/azureml_730341d347b7d9e2f1baba033329cdff/lib/libssl.so.1.0.0: no version information available (required by /usr/sbin/nginx)\n",
      "EdgeHubConnectionString and IOTEDGE_IOTHUBHOSTNAME are not set. Exiting...\n",
      "2021-04-19T12:57:40,223370000+00:00 - iot-server/finish 1 0\n",
      "2021-04-19T12:57:40,228993500+00:00 - Exit code 1 is normal. Not restarting iot-server.\n",
      "Starting gunicorn 19.9.0\n",
      "Listening at: http://127.0.0.1:31311 (71)\n",
      "Using worker: sync\n",
      "worker timeout is set to 300\n",
      "Booting worker with pid: 101\n",
      "SPARK_HOME not set. Skipping PySpark Initialization.\n",
      "Generating new fontManager, this may take some time...\n",
      "Initializing logger\n",
      "2021-04-19 12:57:43,500 | root | INFO | Starting up app insights client\n",
      "2021-04-19 12:57:43,500 | root | INFO | Starting up request id generator\n",
      "2021-04-19 12:57:43,501 | root | INFO | Starting up app insight hooks\n",
      "2021-04-19 12:57:43,501 | root | INFO | Invoking user's init function\n",
      "2021-04-19 12:57:49,514 | azureml.core | WARNING | Failure while loading azureml_run_type_providers. Failed to load entrypoint automl = azureml.train.automl.run:AutoMLRun._from_run_dto with exception cannot import name 'RunType'.\n",
      "Failure while loading azureml_run_type_providers. Failed to load entrypoint automl = azureml.train.automl.run:AutoMLRun._from_run_dto with exception cannot import name 'RunType'.\n",
      "2021-04-19 12:57:49,845 | root | INFO | Users's init has completed successfully\n",
      "2021-04-19 12:57:49,872 | root | INFO | Skipping middleware: dbg_model_info as it's not enabled.\n",
      "2021-04-19 12:57:49,873 | root | INFO | Skipping middleware: dbg_resource_usage as it's not enabled.\n",
      "2021-04-19 12:57:49,878 | root | INFO | Scoring timeout is found from os.environ: 60000 ms\n",
      "2021-04-19 12:57:50,238 | root | INFO | 200\n",
      "127.0.0.1 - - [19/Apr/2021:12:57:50 +0000] \"GET /swagger.json HTTP/1.0\" 200 3031 \"-\" \"Go-http-client/1.1\"\n",
      "2021-04-19 12:57:53,025 | root | INFO | 200\n",
      "127.0.0.1 - - [19/Apr/2021:12:57:53 +0000] \"GET /swagger.json HTTP/1.0\" 200 3031 \"-\" \"Go-http-client/1.1\"\n",
      "2021-04-19 12:57:54,302 | root | INFO | Validation Request Content-Type\n",
      "2021-04-19 12:57:54,303 | root | INFO | Scoring Timer is set to 60.0 seconds\n",
      "2021-04-19 12:57:54,580 | root | INFO | 200\n",
      "127.0.0.1 - - [19/Apr/2021:12:57:54 +0000] \"POST /score HTTP/1.0\" 200 19 \"-\" \"python-requests/2.24.0\"\n",
      "\n"
     ]
    }
   ],
   "source": [
    "print(service.get_logs())"
   ]
  },
  {
   "cell_type": "code",
   "execution_count": null,
   "metadata": {},
   "outputs": [],
   "source": [
    "# inference_config = InferenceConfig(entry_script=\"scoring.py\", environment=myenv)\n",
    "# aci_config = AciWebservice.deploy_configuration(cpu_cores=1, memory_gb=1)\n",
    "# service = Model.deploy(workspace=ws,\n",
    "#                       name=\"automl-service\",\n",
    "#                       models=[model],\n",
    "#                       inference_config=inference_config,\n",
    "#                       deployment_config=aci_config,\n",
    "#                       overwrite=True)\n",
    "# service.wait_for_deployment(show_output=True)"
   ]
  }
 ],
 "metadata": {
  "kernel_info": {
   "name": "python3-azureml"
  },
  "kernelspec": {
   "display_name": "Python 3",
   "language": "python",
   "name": "python3"
  },
  "language_info": {
   "codemirror_mode": {
    "name": "ipython",
    "version": 3
   },
   "file_extension": ".py",
   "mimetype": "text/x-python",
   "name": "python",
   "nbconvert_exporter": "python",
   "pygments_lexer": "ipython3",
   "version": "3.8.5"
  },
  "nteract": {
   "version": "nteract-front-end@1.0.0"
  }
 },
 "nbformat": 4,
 "nbformat_minor": 2
}
